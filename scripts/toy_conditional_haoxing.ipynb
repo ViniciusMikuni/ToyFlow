{
 "cells": [
  {
   "cell_type": "code",
   "execution_count": 1,
   "id": "68682db1",
   "metadata": {},
   "outputs": [],
   "source": [
    "import numpy as np\n",
    "import os,re\n",
    "import sklearn.datasets as skd\n",
    "import tensorflow as tf\n",
    "from tensorflow import keras\n",
    "from tensorflow.keras import layers, Input\n",
    "import time\n",
    "import matplotlib.pyplot as plt\n",
    "\n",
    "import tensorflow_probability as tfp\n",
    "tfb = tfp.bijectors\n",
    "tfd = tfp.distributions"
   ]
  },
  {
   "cell_type": "code",
   "execution_count": 2,
   "id": "ac75421e",
   "metadata": {},
   "outputs": [],
   "source": [
    "class MLP_ODE(keras.Model):\n",
    "    \"\"\"Multi-layer NN ode_fn.\"\"\"\n",
    "    def __init__(self, num_hidden, num_layers, num_output,num_cond=2,name='mlp_ode'):\n",
    "        super(MLP_ODE, self).__init__()\n",
    "        self._num_hidden = num_hidden\n",
    "        self._num_output = num_output\n",
    "        self._num_layers = num_layers\n",
    "        self._num_cond = num_cond\n",
    "        self._modules = []\n",
    "        \n",
    "        #Fully connected layers with tanh activation and linear output\n",
    "        self._modules.append(Input(shape=(1+self._num_output+self._num_cond))) #time is part of the inputs\n",
    "        for _ in range(self._num_layers - 1):\n",
    "            self._modules.append(layers.Dense(self._num_hidden,activation='tanh'))\n",
    "            \n",
    "        self._modules.append(layers.Dense(self._num_output,activation=None))\n",
    "        self._model = keras.Sequential(self._modules)\n",
    "\n",
    "        if self._num_cond > 1:\n",
    "            #In more dimensiona, is useful to feed the conditional distributions after passing through an independent network model\n",
    "            self._cond_model = keras.Sequential(\n",
    "                [\n",
    "                    Input(shape=(self._num_cond)),\n",
    "                    layers.Dense(self._num_hidden,activation='relu'),\n",
    "                    layers.Dense(self._num_cond,activation=None),\n",
    "                ])\n",
    "        \n",
    "    @tf.function\n",
    "    def call(self, t, data,conditional_input=None):\n",
    "        if self._num_cond==1:\n",
    "            #No network for a single feature\n",
    "            cond_transform=tf.cast(conditional_input,dtype=tf.float32)\n",
    "        else:\n",
    "            cond_transform = self._cond_model(conditional_input)\n",
    "            \n",
    "        t = t*tf.ones([data.shape[0],1])\n",
    "        inputs = tf.concat([t, data,cond_transform], -1)\n",
    "        return self._model(inputs)\n",
    "\n",
    "def make_bijector_kwargs(bijector, name_to_kwargs):\n",
    "    #Hack to pass the conditional information through all the bijector layers\n",
    "    if hasattr(bijector, 'bijectors'):\n",
    "        return {b.name: make_bijector_kwargs(b, name_to_kwargs) for b in bijector.bijectors}\n",
    "    else:\n",
    "        for name_regex, kwargs in name_to_kwargs.items():\n",
    "            if re.match(name_regex, bijector.name):\n",
    "                return kwargs\n",
    "    return {}\n",
    "\n",
    "def save_model(model,name=\"ffjord\",checkpoint_dir = '../checkpoints'):\n",
    "    if not os.path.exists(checkpoint_dir):\n",
    "        os.makedirs(checkpoint_dir)\n",
    "    model.save_weights('{}/{}'.format(checkpoint_dir,name,save_format='tf'))\n",
    "\n",
    "def load_model(model,name=\"ffjord\",checkpoint_dir = '../checkpoints'):\n",
    "    model.load_weights('{}/{}'.format(checkpoint_dir,name,save_format='tf')).expect_partial()\n",
    "    \n",
    "        \n",
    "class FFJORD(keras.Model):\n",
    "    def __init__(self, stacked_mlps, batch_size,num_output,trace_type='hutchinson',name='FFJORD'):\n",
    "        super(FFJORD, self).__init__()\n",
    "        self._num_output=num_output\n",
    "        self._batch_size = batch_size \n",
    "        ode_solve_fn = tfp.math.ode.DormandPrince(atol=1e-5).solve\n",
    "        #Gaussian noise to trace solver\n",
    "        if trace_type=='hutchinson':\n",
    "            trace_augmentation_fn = tfb.ffjord.trace_jacobian_hutchinson\n",
    "        elif trace_type == 'exact':\n",
    "            trace_augmentation_fn = tfb.ffjord.trace_jacobian_exact\n",
    "        else:\n",
    "            raise Exception(\"Invalid trace estimator\")\n",
    "        \n",
    "        \n",
    "        bijectors = []\n",
    "        for imlp,mlp in enumerate(stacked_mlps):\n",
    "            ffjord = tfb.FFJORD(\n",
    "                state_time_derivative_fn=mlp,\n",
    "                ode_solve_fn=ode_solve_fn,\n",
    "                trace_augmentation_fn=trace_augmentation_fn,\n",
    "                name='bijector{}'.format(imlp) #Bijectors need to be names to receive conditional inputs\n",
    "            )\n",
    "            bijectors.append(ffjord)\n",
    "\n",
    "        #Reverse the bijector order\n",
    "        self.chain = tfb.Chain(list(reversed(bijectors)))\n",
    "\n",
    "        self.loss_tracker = keras.metrics.Mean(name=\"loss\")\n",
    "        #Determien the base distribution\n",
    "        self.base_distribution = tfp.distributions.MultivariateNormalDiag(\n",
    "            loc=self._num_output*[0.0], scale_diag=self._num_output*[1.0]\n",
    "        )\n",
    "        \n",
    "        self.flow=self.Transform()\n",
    "        self._variables = self.flow.variables\n",
    "        \n",
    "    @property\n",
    "    def metrics(self):\n",
    "        \"\"\"List of the model's metrics.\n",
    "        We make sure the loss tracker is listed as part of `model.metrics`\n",
    "        so that `fit()` and `evaluate()` are able to `reset()` the loss tracker\n",
    "        at the start of each epoch and at the start of an `evaluate()` call.\n",
    "        \"\"\"\n",
    "        return [self.loss_tracker]\n",
    "    \n",
    "    @tf.function\n",
    "    def call(self, inputs, conditional_input=None):\n",
    "        kwargs = make_bijector_kwargs(self.flow.bijector,{'bijector.': {'conditional_input':conditional_input }})\n",
    "        return self.flow.bijector.forward(inputs,**kwargs)\n",
    "        \n",
    "            \n",
    "    def Transform(self):        \n",
    "        return tfd.TransformedDistribution(distribution=self.base_distribution, bijector=self.chain)\n",
    "\n",
    "    \n",
    "    @tf.function\n",
    "    def log_loss(self,_x,_c):\n",
    "        loss = -tf.reduce_mean(self.flow.log_prob(\n",
    "            _x,\n",
    "            bijector_kwargs=make_bijector_kwargs(\n",
    "                self.flow.bijector, {'bijector.': {'conditional_input': _c}})                                      \n",
    "        ))\n",
    "        \n",
    "        return loss\n",
    "    \n",
    "    @tf.function\n",
    "    def conditional_prob(self,_x,_c):\n",
    "        prob = self.flow.prob(\n",
    "            _x,\n",
    "            bijector_kwargs=make_bijector_kwargs(\n",
    "                self.flow.bijector, {'bijector.': {'conditional_input': _c}})                                      \n",
    "        )\n",
    "        \n",
    "        return prob\n",
    "    \n",
    "    @tf.function\n",
    "    def conditional_log_prob(self,_x,_c):\n",
    "        return self.flow.log_prob(\n",
    "            _x,\n",
    "            bijector_kwargs=make_bijector_kwargs(\n",
    "                self.flow.bijector, {'bijector.': {'conditional_input': _c}})                                      \n",
    "        )\n",
    "    \n",
    "    \n",
    "    @tf.function()\n",
    "    def train_step(self, values):\n",
    "        #Full shape needs to be given when using tf.dataset\n",
    "        data = values[:self._batch_size,:self._num_output]\n",
    "        cond = values[:self._batch_size,self._num_output:]\n",
    "        data.set_shape((self._batch_size,self._num_output))\n",
    "        cond.set_shape((self._batch_size,cond.shape[1]))\n",
    "\n",
    "        with tf.GradientTape() as tape:\n",
    "            loss = self.log_loss(data,cond)\n",
    "            \n",
    "        g = tape.gradient(loss, self.trainable_variables)\n",
    "        self.optimizer.apply_gradients(zip(g, self.trainable_variables))\n",
    "        self.loss_tracker.update_state(loss)\n",
    "\n",
    "        return {\"loss\": self.loss_tracker.result()}\n",
    "    \n",
    "    @tf.function\n",
    "    def test_step(self, values):\n",
    "        data = values[:self._batch_size,:self._num_output]\n",
    "        cond = values[:self._batch_size,self._num_output:]\n",
    "        data.set_shape((self._batch_size,self._num_output))\n",
    "        cond.set_shape((self._batch_size,cond.shape[1]))\n",
    "        \n",
    "        loss = self.log_loss(data,cond)\n",
    "        self.loss_tracker.update_state(loss)\n",
    "        return {\"loss\": self.loss_tracker.result()}"
   ]
  },
  {
   "cell_type": "code",
   "execution_count": 3,
   "id": "73c88087",
   "metadata": {
    "scrolled": true
   },
   "outputs": [
    {
     "name": "stdout",
     "output_type": "stream",
     "text": [
      "samples.shape = (8192, 2)\n",
      "constrain.shape = (8192, 1)\n",
      "samples: [[ 1.83477366  0.57875913  0.75888655]\n",
      " [ 1.14547288  0.59302574  0.10691361]\n",
      " [-1.44714332  0.50281191  0.12869704]\n",
      " ...\n",
      " [ 1.68563724  0.88081926  0.5362173 ]\n",
      " [ 1.1716578   0.68839806  0.94496286]\n",
      " [ 0.15917055  0.04830307  0.46065239]]\n"
     ]
    },
    {
     "name": "stderr",
     "output_type": "stream",
     "text": [
      "2022-03-03 11:23:08.352915: W tensorflow/stream_executor/platform/default/dso_loader.cc:64] Could not load dynamic library 'libcudnn.so.8'; dlerror: libcudnn.so.8: cannot open shared object file: No such file or directory\n",
      "2022-03-03 11:23:08.352946: W tensorflow/core/common_runtime/gpu/gpu_device.cc:1850] Cannot dlopen some GPU libraries. Please make sure the missing libraries mentioned above are installed properly if you would like to use GPU. Follow the guide at https://www.tensorflow.org/install/gpu for how to download and setup the required libraries for your platform.\n",
      "Skipping registering GPU devices...\n",
      "2022-03-03 11:23:08.353314: I tensorflow/core/platform/cpu_feature_guard.cc:151] This TensorFlow binary is optimized with oneAPI Deep Neural Network Library (oneDNN) to use the following CPU instructions in performance-critical operations:  AVX2 FMA\n",
      "To enable them in other operations, rebuild TensorFlow with the appropriate compiler flags.\n",
      "2022-03-03 11:23:08.540962: W tensorflow/python/util/util.cc:368] Sets are not currently considered sequences, but this may change in the future, so consider avoiding using them.\n"
     ]
    },
    {
     "name": "stdout",
     "output_type": "stream",
     "text": [
      "Epoch 1/20\n",
      "WARNING:tensorflow:From /global/home/users/haoxing_du/anaconda3/envs/tf2/lib/python3.8/site-packages/tensorflow_probability/python/math/ode/base.py:455: calling while_loop_v2 (from tensorflow.python.ops.control_flow_ops) with back_prop=False is deprecated and will be removed in a future version.\n",
      "Instructions for updating:\n",
      "back_prop=False is deprecated. Consider using tf.stop_gradient instead.\n",
      "Instead of:\n",
      "results = tf.while_loop(c, b, vars, back_prop=False)\n",
      "Use:\n",
      "results = tf.nest.map_structure(tf.stop_gradient, tf.while_loop(c, b, vars))\n",
      "32/32 [==============================] - 94s 189ms/step - loss: 2.9290\n",
      "Epoch 2/20\n",
      "32/32 [==============================] - 6s 188ms/step - loss: 2.8655\n",
      "Epoch 3/20\n",
      "32/32 [==============================] - 6s 188ms/step - loss: 2.8551\n",
      "Epoch 4/20\n",
      "32/32 [==============================] - 6s 187ms/step - loss: 2.8569\n",
      "Epoch 5/20\n",
      "32/32 [==============================] - 6s 187ms/step - loss: 2.8451\n",
      "Epoch 6/20\n",
      "32/32 [==============================] - 6s 185ms/step - loss: 2.8427\n",
      "Epoch 7/20\n",
      "32/32 [==============================] - 6s 187ms/step - loss: 2.8481\n",
      "Epoch 8/20\n",
      "32/32 [==============================] - 6s 187ms/step - loss: 2.8601\n",
      "Epoch 9/20\n",
      "32/32 [==============================] - 6s 185ms/step - loss: 2.8479\n",
      "Epoch 10/20\n",
      "32/32 [==============================] - 6s 185ms/step - loss: 2.8519\n",
      "Epoch 11/20\n",
      "32/32 [==============================] - 6s 185ms/step - loss: 2.8468\n",
      "Epoch 12/20\n",
      "32/32 [==============================] - 6s 187ms/step - loss: 2.8494\n",
      "Epoch 13/20\n",
      "32/32 [==============================] - 6s 186ms/step - loss: 2.8452\n",
      "Epoch 14/20\n",
      "32/32 [==============================] - 6s 186ms/step - loss: 2.8441\n",
      "Epoch 15/20\n",
      "32/32 [==============================] - 6s 186ms/step - loss: 2.8515\n",
      "Epoch 16/20\n",
      "32/32 [==============================] - 6s 186ms/step - loss: 2.8451\n",
      "Epoch 17/20\n",
      "32/32 [==============================] - 6s 187ms/step - loss: 2.8489\n",
      "Epoch 18/20\n",
      "32/32 [==============================] - 6s 187ms/step - loss: 2.8436\n",
      "Epoch 19/20\n",
      "32/32 [==============================] - 6s 187ms/step - loss: 2.8453\n",
      "Epoch 20/20\n",
      "32/32 [==============================] - 6s 188ms/step - loss: 2.8442\n"
     ]
    }
   ],
   "source": [
    "LR = 1e-2\n",
    "NUM_EPOCHS = 20\n",
    "STACKED_FFJORDS = 4 #Number of stacked transformations\n",
    "NUM_LAYERS = 8 #Hiddden layers per bijector\n",
    "NUM_OUTPUT = 2 #Output dimension\n",
    "NUM_HIDDEN = 4*NUM_OUTPUT #Hidden layer node size\n",
    "NUM_COND = 1 #Number of conditional dimensions\n",
    "\n",
    "#Target dataset: half moon\n",
    "DATASET_SIZE = 1024 * 8\n",
    "BATCH_SIZE = 256\n",
    "\n",
    "# Generate conditional values from the uniform distribution [0,1]\n",
    "constrain = np.random.uniform(0, 1, (DATASET_SIZE,1))\n",
    "\n",
    "# Generate samples from Gaussians centered at the conditional value with std 1\n",
    "samples = np.empty([DATASET_SIZE,2]).astype(np.float32)\n",
    "for i in range(len(constrain)):\n",
    "    samples[i] = np.random.normal(constrain[i], 1, (1,2))\n",
    "\n",
    "print(f\"samples.shape = {samples.shape}\")\n",
    "print(f\"constrain.shape = {constrain.shape}\")\n",
    "    \n",
    "#samples= np.concatenate(\n",
    "#(\n",
    "#    np.random.normal(0.,0.5,(DATASET_SIZE//2,2)),\n",
    "#    np.random.normal(-3.,0.5,(DATASET_SIZE//2,2)),\n",
    "#),0).astype(np.float32)\n",
    "\n",
    "#constrain = np.concatenate(\n",
    "#    (np.ones((DATASET_SIZE//2,1)),np.zeros((DATASET_SIZE//2,1))),0).astype(np.float32)\n",
    "\n",
    "\n",
    "samples = np.concatenate([samples,constrain],-1) #Last dimensions are the conditional values\n",
    "print(f\"samples: {samples}\")\n",
    "\n",
    "#Stack of bijectors \n",
    "stacked_mlps = []\n",
    "for _ in range(STACKED_FFJORDS):\n",
    "    mlp_model = MLP_ODE(NUM_HIDDEN, NUM_LAYERS, NUM_OUTPUT,NUM_COND)\n",
    "    stacked_mlps.append(mlp_model)\n",
    "\n",
    "#Create the model\n",
    "model = FFJORD(stacked_mlps,BATCH_SIZE,NUM_OUTPUT,trace_type='hutchinson')\n",
    "model.compile(optimizer=keras.optimizers.Adam(learning_rate=LR))\n",
    "\n",
    "history = model.fit(\n",
    "    samples,\n",
    "    batch_size=BATCH_SIZE,\n",
    "    epochs=NUM_EPOCHS,\n",
    "    verbose=1,\n",
    ")\n",
    "\n",
    "NSAMPLES = DATASET_SIZE\n",
    "#Sample the learned distribution\n",
    "transformed = model.flow.sample(\n",
    "    NSAMPLES,\n",
    "    bijector_kwargs=make_bijector_kwargs(\n",
    "        model.flow.bijector, {'bijector.': {'conditional_input': constrain}})\n",
    ")\n",
    "\n",
    "transformed_first = model.flow.sample(\n",
    "    NSAMPLES,\n",
    "    bijector_kwargs=make_bijector_kwargs(\n",
    "        model.flow.bijector, {'bijector.': {'conditional_input': np.ones((NSAMPLES,1),dtype=np.float32)}})\n",
    ")\n",
    "\n",
    "transformed_second = model.flow.sample(\n",
    "    NSAMPLES,\n",
    "    bijector_kwargs=make_bijector_kwargs(\n",
    "        model.flow.bijector, {'bijector.': {'conditional_input': np.zeros((NSAMPLES,1),dtype=np.float32)}})\n",
    ")"
   ]
  },
  {
   "cell_type": "code",
   "execution_count": 5,
   "id": "5624a4af",
   "metadata": {},
   "outputs": [
    {
     "ename": "ValueError",
     "evalue": "This model has not yet been built. Build the model first by calling `build()` or by calling the model on a batch of data.",
     "output_type": "error",
     "traceback": [
      "\u001b[0;31m---------------------------------------------------------------------------\u001b[0m",
      "\u001b[0;31mValueError\u001b[0m                                Traceback (most recent call last)",
      "Input \u001b[0;32mIn [5]\u001b[0m, in \u001b[0;36m<module>\u001b[0;34m\u001b[0m\n\u001b[0;32m----> 1\u001b[0m \u001b[43mmodel\u001b[49m\u001b[38;5;241;43m.\u001b[39;49m\u001b[43msummary\u001b[49m\u001b[43m(\u001b[49m\u001b[43m)\u001b[49m\n",
      "File \u001b[0;32m~/anaconda3/envs/tf2/lib/python3.8/site-packages/keras/engine/training.py:2579\u001b[0m, in \u001b[0;36mModel.summary\u001b[0;34m(self, line_length, positions, print_fn, expand_nested)\u001b[0m\n\u001b[1;32m   2559\u001b[0m \u001b[38;5;124;03m\"\"\"Prints a string summary of the network.\u001b[39;00m\n\u001b[1;32m   2560\u001b[0m \n\u001b[1;32m   2561\u001b[0m \u001b[38;5;124;03mArgs:\u001b[39;00m\n\u001b[0;32m   (...)\u001b[0m\n\u001b[1;32m   2576\u001b[0m \u001b[38;5;124;03m    ValueError: if `summary()` is called before the model is built.\u001b[39;00m\n\u001b[1;32m   2577\u001b[0m \u001b[38;5;124;03m\"\"\"\u001b[39;00m\n\u001b[1;32m   2578\u001b[0m \u001b[38;5;28;01mif\u001b[39;00m \u001b[38;5;129;01mnot\u001b[39;00m \u001b[38;5;28mself\u001b[39m\u001b[38;5;241m.\u001b[39mbuilt:\n\u001b[0;32m-> 2579\u001b[0m   \u001b[38;5;28;01mraise\u001b[39;00m \u001b[38;5;167;01mValueError\u001b[39;00m(\n\u001b[1;32m   2580\u001b[0m       \u001b[38;5;124m'\u001b[39m\u001b[38;5;124mThis model has not yet been built. \u001b[39m\u001b[38;5;124m'\u001b[39m\n\u001b[1;32m   2581\u001b[0m       \u001b[38;5;124m'\u001b[39m\u001b[38;5;124mBuild the model first by calling `build()` or by calling \u001b[39m\u001b[38;5;124m'\u001b[39m\n\u001b[1;32m   2582\u001b[0m       \u001b[38;5;124m'\u001b[39m\u001b[38;5;124mthe model on a batch of data.\u001b[39m\u001b[38;5;124m'\u001b[39m)\n\u001b[1;32m   2583\u001b[0m layer_utils\u001b[38;5;241m.\u001b[39mprint_summary(\n\u001b[1;32m   2584\u001b[0m     \u001b[38;5;28mself\u001b[39m,\n\u001b[1;32m   2585\u001b[0m     line_length\u001b[38;5;241m=\u001b[39mline_length,\n\u001b[1;32m   2586\u001b[0m     positions\u001b[38;5;241m=\u001b[39mpositions,\n\u001b[1;32m   2587\u001b[0m     print_fn\u001b[38;5;241m=\u001b[39mprint_fn,\n\u001b[1;32m   2588\u001b[0m     expand_nested\u001b[38;5;241m=\u001b[39mexpand_nested)\n",
      "\u001b[0;31mValueError\u001b[0m: This model has not yet been built. Build the model first by calling `build()` or by calling the model on a batch of data."
     ]
    }
   ],
   "source": [
    "model.summary()"
   ]
  },
  {
   "cell_type": "code",
   "execution_count": 6,
   "id": "4c061f4f",
   "metadata": {},
   "outputs": [
    {
     "data": {
      "text/plain": [
       "<matplotlib.collections.PathCollection at 0x7f71cc814bb0>"
      ]
     },
     "execution_count": 6,
     "metadata": {},
     "output_type": "execute_result"
    },
    {
     "data": {
      "image/png": "[encoded data removed]",
      "text/plain": [
       "<Figure size 864x360 with 2 Axes>"
      ]
     },
     "metadata": {
      "needs_background": "light"
     },
     "output_type": "display_data"
    }
   ],
   "source": [
    "#Plotting    \n",
    "fig = plt.figure(figsize=(12, 5))\n",
    "plt.subplot(121)    \n",
    "plt.scatter(transformed[:, 0], transformed[:, 1], color=\"r\")\n",
    "plt.subplot(122)\n",
    "plt.scatter(transformed_first[:, 0], transformed_first[:, 1], color=\"g\")\n",
    "plt.scatter(transformed_second[:, 0], transformed_second[:, 1], color=\"b\")"
   ]
  },
  {
   "cell_type": "code",
   "execution_count": 7,
   "id": "e0884144",
   "metadata": {},
   "outputs": [
    {
     "name": "stdout",
     "output_type": "stream",
     "text": [
      "tf.Tensor([0.09361227], shape=(1,), dtype=float32)\n",
      "tf.Tensor([0.09361227], shape=(1,), dtype=float32)\n",
      "tf.Tensor([0.09361227], shape=(1,), dtype=float32)\n"
     ]
    }
   ],
   "source": [
    "# Saving the model for future inference\n",
    "save_model(model)\n",
    "\n",
    "# Let's create a new model with the same architecture, but with the exact trace estimator\n",
    "new_model = FFJORD(stacked_mlps,BATCH_SIZE,NUM_OUTPUT,trace_type='exact',name='loaded_model')\n",
    "load_model(new_model)\n",
    "\n",
    "# Verify that no fluctuations are involded\n",
    "point = [[0,1]]\n",
    "cond = [[1]]\n",
    "print(new_model.conditional_prob(point,cond))\n",
    "print(new_model.conditional_prob(point,cond))\n",
    "print(new_model.conditional_prob(point,cond))\n",
    "\n",
    "\n",
    "\n",
    "transformed = new_model.flow.sample(\n",
    "    NSAMPLES,\n",
    "    bijector_kwargs=make_bijector_kwargs(\n",
    "        model.flow.bijector, {'bijector.': {'conditional_input': constrain}})\n",
    ")\n",
    "\n",
    "transformed_first = new_model.flow.sample(\n",
    "    NSAMPLES,\n",
    "    bijector_kwargs=make_bijector_kwargs(\n",
    "        model.flow.bijector, {'bijector.': {'conditional_input': np.ones((NSAMPLES,1),dtype=np.float32)}})\n",
    ")\n",
    "\n",
    "transformed_second = new_model.flow.sample(\n",
    "    NSAMPLES,\n",
    "    bijector_kwargs=make_bijector_kwargs(\n",
    "        model.flow.bijector, {'bijector.': {'conditional_input': np.zeros((NSAMPLES,1),dtype=np.float32)}})\n",
    ")\n",
    "\n",
    "#plot_folder = '../plots'\n",
    "#if not os.path.exists(plot_folder):\n",
    "#    os.makedirs(plot_folder)\n",
    "\n",
    "#fig.savefig('{}/new_conditional_gaus.pdf'.format(plot_folder))"
   ]
  },
  {
   "cell_type": "code",
   "execution_count": 37,
   "id": "c0bf1b38",
   "metadata": {},
   "outputs": [
    {
     "data": {
      "text/plain": [
       "<matplotlib.collections.PathCollection at 0x7f97b27b4820>"
      ]
     },
     "execution_count": 37,
     "metadata": {},
     "output_type": "execute_result"
    },
    {
     "data": {
      "image/png": "[encoded data removed]",
      "text/plain": [
       "<Figure size 864x360 with 2 Axes>"
      ]
     },
     "metadata": {
      "needs_background": "light"
     },
     "output_type": "display_data"
    }
   ],
   "source": [
    "#Plotting with the new model\n",
    "fig_new = plt.figure(figsize=(12, 5))\n",
    "plt.subplot(121)    \n",
    "plt.scatter(transformed[:, 0], transformed[:, 1], color=\"r\")\n",
    "plt.subplot(122)\n",
    "plt.scatter(transformed_first[:, 0], transformed_first[:, 1], color=\"g\")\n",
    "plt.scatter(transformed_second[:, 0], transformed_second[:, 1], color=\"b\")"
   ]
  },
  {
   "cell_type": "code",
   "execution_count": null,
   "id": "73f930bb",
   "metadata": {},
   "outputs": [],
   "source": [
    "# Alternative plotting: joint distribution, conditional value = 1\n",
    "fig = plt.figure(figsize=(8, 9))\n",
    "plt.subplot(311)    \n",
    "plt.scatter(transformed[:, 0], transformed[:, 1], color=\"r\")\n",
    "plt.subplot(312)\n",
    "plt.scatter(transformed_first[:, 0], transformed_first[:, 1], color=\"g\")\n",
    "plt.subplot(313)\n",
    "plt.scatter(transformed_second[:, 0], transformed_second[:, 1], color=\"b\")"
   ]
  },
  {
   "cell_type": "markdown",
   "id": "51299c66",
   "metadata": {},
   "source": [
    "# Maximum likelihood estimate \n",
    "Find the most probable conditional value z for a given data point x.\n",
    "\n",
    "### Math derivation\n",
    "Mathematically, what is the most likely $z$ for point $x=(a,b)$? We know the underlying distribution is a superposition of Gaussians centered at $(z,z)$. So for a point $(a,b)$, the most likely $z$ is such that $|(a,b) - (z,z)|$ is minimized.\n",
    "\n",
    "$$y = -x+c \\implies b = -a + c \\implies c = a+b$$\n",
    "$$y = -x+a+b = x \\implies x = (a+b)/2$$\n",
    "\n",
    "Therefore, the most likely $z$ is $(a+b)/2$ if  $0 \\leq (a+b)/2 \\leq 1$; $0$ if $a+b < 0$; and $1$ if $a+b > 2$.\n",
    "\n",
    "e.g. for $(x,0.5)$, $z = (x+0.5)/2$."
   ]
  },
  {
   "cell_type": "code",
   "execution_count": 20,
   "id": "3a6d7a3f",
   "metadata": {},
   "outputs": [
    {
     "data": {
      "text/plain": [
       "0.75"
      ]
     },
     "execution_count": 20,
     "metadata": {},
     "output_type": "execute_result"
    }
   ],
   "source": [
    "def mle_math(x):\n",
    "    a, b = x\n",
    "    if (a+b)/2 < 0:\n",
    "        return 0\n",
    "    elif (a+b)/2 > 1:\n",
    "        return 1\n",
    "    else:\n",
    "        return (a+b)/2\n",
    "\n",
    "mle_math((0.5,1))"
   ]
  },
  {
   "cell_type": "markdown",
   "id": "01b50669",
   "metadata": {},
   "source": [
    "### The first method is grid search: simply scan over many values of z, and remember the one that gives the highest p(x|z)."
   ]
  },
  {
   "cell_type": "code",
   "execution_count": 142,
   "id": "93277c09",
   "metadata": {
    "scrolled": false
   },
   "outputs": [
    {
     "name": "stdout",
     "output_type": "stream",
     "text": [
      "Random point: [ 2.124081   -0.08103797]\n",
      "Most likely cond value (analytical): 1\n",
      "Most likely cond value (scanning): 0.93\n"
     ]
    }
   ],
   "source": [
    "import time\n",
    "\n",
    "random_index = np.random.randint(DATASET_SIZE)\n",
    "#random_index = 0\n",
    "random_point = transformed[random_index]\n",
    "#print(random_point)\n",
    "\n",
    "N = 100\n",
    "\n",
    "def scanner(point, N):\n",
    "    start = time.time()\n",
    "    points = np.array([point] * (N+1))\n",
    "    zs = np.array([i/N for i in range(N+1)]).reshape((N+1,1))\n",
    "    #print(points, zs)\n",
    "    log_probs = new_model.conditional_log_prob(points, zs)\n",
    "\n",
    "    max_prob = np.amax(log_probs)\n",
    "    max_index = np.argmax(log_probs)\n",
    "\n",
    "    c_max = max_index / N\n",
    "    \n",
    "    end = time.time()\n",
    "    #print(f\"Run time (s): {end-start}\")\n",
    "    return c_max\n",
    "\n",
    "c_max = scanner(random_point, N)\n",
    "c_max_math = mle_math(random_point)\n",
    "print(f\"Random point: {random_point}\")\n",
    "print(f\"Most likely cond value (analytical): {c_max_math}\")\n",
    "print(f\"Most likely cond value (scanning): {c_max}\")"
   ]
  },
  {
   "cell_type": "code",
   "execution_count": null,
   "id": "ca8a4948",
   "metadata": {
    "scrolled": false
   },
   "outputs": [],
   "source": [
    "N = 1000\n",
    "\n",
    "xs = np.linspace(0, 1, N+1)\n",
    "ys = np.ones(N+1)*0.5\n",
    "points = np.stack((xs, ys), axis=-1).astype(np.float32)\n",
    "\n",
    "c_maxs = []\n",
    "c_max_maths = []\n",
    "\n",
    "for point in points:\n",
    "    c_maxs.append(scanner(point, N))\n",
    "    c_max_maths.append(mle_math(point))\n",
    "\n",
    "plt.plot(c_max_maths, c_maxs)"
   ]
  },
  {
   "cell_type": "code",
   "execution_count": 134,
   "id": "328deee6",
   "metadata": {},
   "outputs": [
    {
     "name": "stdout",
     "output_type": "stream",
     "text": [
      "[ 1.3418487 -0.7913521] 0.0 0.27524831891059875\n",
      "[ 1.2528045 -0.6766879] 0.0 0.2880583107471466\n",
      "[-0.39662725  0.46622404] 0.0 0.03479839861392975\n",
      "[ 0.30868807 -0.04462738] 0.0 0.13203035295009613\n",
      "[ 1.0287583  -0.93185204] 0.0 0.04845312237739563\n",
      "[ 0.1374534  -0.03626055] 0.0 0.05059642717242241\n",
      "[ 0.55753744 -0.0384412 ] 0.0 0.2595481276512146\n",
      "[ 0.9453343 -0.5215003] 0.0 0.21191701292991638\n"
     ]
    },
    {
     "data": {
      "text/plain": [
       "[<matplotlib.lines.Line2D at 0x7f9749609b20>]"
      ]
     },
     "execution_count": 134,
     "metadata": {},
     "output_type": "execute_result"
    },
    {
     "data": {
      "image/png": "[encoded data removed]",
      "text/plain": [
       "<Figure size 432x288 with 1 Axes>"
      ]
     },
     "metadata": {
      "needs_background": "light"
     },
     "output_type": "display_data"
    }
   ],
   "source": [
    "N = 1000\n",
    "n_points = 100\n",
    "\n",
    "points = np.random.uniform(-1, 2, (n_points,2)).astype(np.float32)\n",
    "#print(points)\n",
    "\n",
    "c_maxs = []\n",
    "c_max_maths = []\n",
    "\n",
    "for point in points:\n",
    "    c_max = scanner(point, N)\n",
    "    c_max_math = mle_math(point)\n",
    "    c_maxs.append(c_max)\n",
    "    c_max_maths.append(c_max_math)\n",
    "    if c_max == 0 and c_max_math != 0:\n",
    "        print(point, c_max, c_max_math)\n",
    "\n",
    "plt.scatter(c_max_maths, c_maxs)\n",
    "plt.plot([0,0.5,1], [0,0.5,1], c='green')"
   ]
  },
  {
   "cell_type": "code",
   "execution_count": 122,
   "id": "0a2a1e36",
   "metadata": {},
   "outputs": [
    {
     "name": "stdout",
     "output_type": "stream",
     "text": [
      "Random point: [-0.15836452  1.6951408 ]\n",
      "Most likely cond value (analytical): 0.7683881521224976\n",
      "Most likely cond value (scanning): 0.73\n"
     ]
    }
   ],
   "source": [
    "random_point = np.random.uniform(-1, 2, (2,)).astype(np.float32)\n",
    "\n",
    "c_max = scanner(random_point, N)\n",
    "c_max_math = mle_math(random_point)\n",
    "print(f\"Random point: {random_point}\")\n",
    "print(f\"Most likely cond value (analytical): {c_max_math}\")\n",
    "print(f\"Most likely cond value (scanning): {c_max}\")"
   ]
  },
  {
   "cell_type": "markdown",
   "id": "877c8bbc",
   "metadata": {},
   "source": [
    "It looks like there are quite a few points for which the most likely $z$ value should be nonzero, but gets reported as 0 by the scanner. To investigate, let's find one such point, and plot $p(x|z)$ for that point:"
   ]
  },
  {
   "cell_type": "code",
   "execution_count": 128,
   "id": "ebfd6f95",
   "metadata": {},
   "outputs": [],
   "source": [
    "def plot_pxz_fixed_x(x):\n",
    "    zs = np.linspace(0,1,101).reshape((101,1)).astype(np.float32)\n",
    "    xs = np.full((101,2), x).astype(np.float32)\n",
    "    #print(xs.shape, zs.shape)\n",
    "    start = time.time()\n",
    "    neg_probs = -new_model.conditional_prob(xs, zs)\n",
    "    end = time.time()\n",
    "    #print(end-start)\n",
    "    fig_zs_1 = plt.figure(figsize=(7,5))\n",
    "    plt.scatter(zs, neg_probs)"
   ]
  },
  {
   "cell_type": "code",
   "execution_count": 135,
   "id": "c4f4c196",
   "metadata": {},
   "outputs": [
    {
     "data": {
      "image/png": "[encoded data removed]",
      "text/plain": [
       "<Figure size 504x360 with 1 Axes>"
      ]
     },
     "metadata": {
      "needs_background": "light"
     },
     "output_type": "display_data"
    }
   ],
   "source": [
    "fixed_x = [1.3418487, -0.7913521]\n",
    "plot_pxz_fixed_x(fixed_x)"
   ]
  },
  {
   "cell_type": "code",
   "execution_count": null,
   "id": "55fa2293",
   "metadata": {
    "collapsed": true
   },
   "outputs": [],
   "source": [
    "N = 20\n",
    "coords = np.linspace(0, 1, N+1)\n",
    "ys = np.ones(N+1)\n",
    "points = np.stack((xs, xs), axis=-1).astype(np.float32)\n",
    "\n",
    "c_maxs = np.empty([N+1,N+1])\n",
    "\n",
    "xdata, ydata, zdata = [], [], []\n",
    "\n",
    "for i,x in enumerate(coords):\n",
    "    for j,y in enumerate(coords):\n",
    "        point = tf.constant([x,y], dtype=np.float32)\n",
    "        c_max = scanner(point, N)\n",
    "        c_maxs[i][j] = c_max\n",
    "        xdata.append(x)\n",
    "        ydata.append(y)\n",
    "        zdata.append(c_max)"
   ]
  },
  {
   "cell_type": "code",
   "execution_count": null,
   "id": "501bcd8e",
   "metadata": {},
   "outputs": [],
   "source": [
    "%matplotlib notebook\n",
    "ax = plt.axes(projection='3d')\n",
    "ax.scatter3D(xdata, ydata, zdata)"
   ]
  },
  {
   "cell_type": "code",
   "execution_count": null,
   "id": "76f4883d",
   "metadata": {},
   "outputs": [],
   "source": [
    "from matplotlib import cm\n",
    "plt.scatter(xdata, ydata, c=zdata, cmap=cm.jet)"
   ]
  },
  {
   "cell_type": "code",
   "execution_count": 132,
   "id": "b2d9dbb1",
   "metadata": {},
   "outputs": [
    {
     "data": {
      "image/png": "[encoded data removed]",
      "text/plain": [
       "<Figure size 504x360 with 1 Axes>"
      ]
     },
     "metadata": {
      "needs_background": "light"
     },
     "output_type": "display_data"
    }
   ],
   "source": [
    "# Step 1: Plot p(x|z) for some z. \n",
    "# Verify that we indeed get a normal distribution.\n",
    "# Here c=1.\n",
    "\n",
    "def plot_pxz_fixed_z(z):\n",
    "    xs = np.linspace(-4,4,101)\n",
    "    xs_2D = np.stack([xs, xs]).T.astype(np.float32)\n",
    "    zs = np.ones((101,1), dtype=np.float32) * z\n",
    "    #print(xs_2D)\n",
    "    #print(xs_2D.shape, zs.shape)\n",
    "    probs = new_model.conditional_prob(xs_2D, zs)\n",
    "    fig_xs_1 = plt.figure(figsize=(7,5))\n",
    "    plt.scatter(xs, probs)\n",
    "\n",
    "plot_pxz_fixed_z(0.5)"
   ]
  },
  {
   "cell_type": "code",
   "execution_count": 133,
   "id": "11a18bd7",
   "metadata": {
    "scrolled": true
   },
   "outputs": [
    {
     "data": {
      "image/png": "[encoded data removed]",
      "text/plain": [
       "<Figure size 504x360 with 1 Axes>"
      ]
     },
     "metadata": {
      "needs_background": "light"
     },
     "output_type": "display_data"
    }
   ],
   "source": [
    "# Step 2: Plot p(x|z) as a function of z for fixed x.\n",
    "\n",
    "def plot_pxz_fixed_x(x):\n",
    "    zs = np.linspace(0,1,101).reshape((101,1)).astype(np.float32)\n",
    "    xs = np.full((101,2), x).astype(np.float32)\n",
    "    #print(xs.shape, zs.shape)\n",
    "    start = time()\n",
    "    neg_probs = -new_model.conditional_prob(xs, zs)\n",
    "    end = time()\n",
    "    #print(end-start)\n",
    "    fig_zs_1 = plt.figure(figsize=(7,5))\n",
    "    plt.scatter(zs, neg_probs)\n",
    "\n",
    "fixed_x = [0.3, 0.9]\n",
    "plot_pxz_fixed_x(fixed_x)"
   ]
  },
  {
   "cell_type": "code",
   "execution_count": 164,
   "id": "54e6046f",
   "metadata": {},
   "outputs": [
    {
     "data": {
      "text/plain": [
       "(101, 1)"
      ]
     },
     "execution_count": 164,
     "metadata": {},
     "output_type": "execute_result"
    }
   ],
   "source": [
    "zs.shape"
   ]
  },
  {
   "cell_type": "markdown",
   "id": "c5273833",
   "metadata": {},
   "source": [
    "Below I'm trying out the example from https://www.tensorflow.org/probability/examples/Optimizers_in_TensorFlow_Probability"
   ]
  },
  {
   "cell_type": "code",
   "execution_count": 8,
   "id": "2d02be08",
   "metadata": {},
   "outputs": [],
   "source": [
    "%matplotlib inline\n",
    "\n",
    "\n",
    "import contextlib\n",
    "import functools\n",
    "import os\n",
    "import time\n",
    "\n",
    "import numpy as np\n",
    "import pandas as pd\n",
    "import scipy as sp\n",
    "from six.moves import urllib\n",
    "from sklearn import preprocessing\n",
    "\n",
    "import tensorflow.compat.v2 as tf\n",
    "tf.enable_v2_behavior()\n",
    "\n",
    "import tensorflow_probability as tfp"
   ]
  },
  {
   "cell_type": "code",
   "execution_count": 9,
   "id": "7a584196",
   "metadata": {},
   "outputs": [],
   "source": [
    "CACHE_DIR = os.path.join(os.sep, 'tmp', 'datasets')\n",
    "\n",
    "\n",
    "def make_val_and_grad_fn(value_fn):\n",
    "    @functools.wraps(value_fn)\n",
    "    def val_and_grad(x):\n",
    "        return tfp.math.value_and_gradient(value_fn, x)\n",
    "    return val_and_grad\n",
    "\n",
    "\n",
    "@contextlib.contextmanager\n",
    "def timed_execution():\n",
    "    t0 = time.time()\n",
    "    yield\n",
    "    dt = time.time() - t0\n",
    "    print('Evaluation took: %f seconds' % dt)\n",
    "\n",
    "\n",
    "def np_value(tensor):\n",
    "    \"\"\"Get numpy value out of possibly nested tuple of tensors.\"\"\"\n",
    "    if isinstance(tensor, tuple):\n",
    "        return type(tensor)(*(np_value(t) for t in tensor))\n",
    "    else:\n",
    "        return tensor.numpy()\n",
    "\n",
    "def run(optimizer):\n",
    "    \"\"\"Run an optimizer and measure it's evaluation time.\"\"\"\n",
    "    optimizer()  # Warmup.\n",
    "    with timed_execution():\n",
    "        result = optimizer()\n",
    "    return np_value(result)"
   ]
  },
  {
   "cell_type": "code",
   "execution_count": 10,
   "id": "b7022a97",
   "metadata": {
    "scrolled": false
   },
   "outputs": [
    {
     "name": "stdout",
     "output_type": "stream",
     "text": [
      "Tensor(\"minimize/value_and_gradient/Sum:0\", shape=(), dtype=float64)\n",
      "Tensor(\"minimize/while/hager_zhang/value_and_gradient/Sum:0\", shape=(), dtype=float64)\n",
      "Tensor(\"minimize/while/hager_zhang/cond/while/value_and_gradient/Sum:0\", shape=(), dtype=float64)\n",
      "Tensor(\"minimize/while/hager_zhang/cond/while_1/value_and_gradient/Sum:0\", shape=(), dtype=float64)\n",
      "Tensor(\"minimize/while/hager_zhang/cond/while_2/secant2/value_and_gradient/Sum:0\", shape=(), dtype=float64)\n",
      "Tensor(\"minimize/while/hager_zhang/cond/while_2/secant2/cond/while/value_and_gradient/Sum:0\", shape=(), dtype=float64)\n",
      "Tensor(\"minimize/while/hager_zhang/cond/while_2/secant2/cond/cond/cond/value_and_gradient/Sum:0\", shape=(), dtype=float64)\n",
      "Tensor(\"minimize/while/hager_zhang/cond/while_2/secant2/cond/cond/cond_1/while/value_and_gradient/Sum:0\", shape=(), dtype=float64)\n",
      "Tensor(\"minimize/while/hager_zhang/cond/while_2/cond/cond/value_and_gradient/Sum:0\", shape=(), dtype=float64)\n",
      "Tensor(\"minimize/while/hager_zhang/cond/while_2/cond/cond/cond/while/value_and_gradient/Sum:0\", shape=(), dtype=float64)\n",
      "Evaluation took: 0.030068 seconds\n",
      "L-BFGS Results\n",
      "Function: quadratic\n",
      "Converged: True\n",
      "Location of the minimum: [1. 1. 1. 1. 1. 1. 1. 1. 1. 1.]\n",
      "Number of iterations: 10\n"
     ]
    }
   ],
   "source": [
    "# Fix numpy seed for reproducibility\n",
    "np.random.seed(12345)\n",
    "\n",
    "# The objective must be supplied as a function that takes a single\n",
    "# (Tensor) argument and returns a tuple. The first component of the\n",
    "# tuple is the value of the objective at the supplied point and the\n",
    "# second value is the gradient at the supplied point. The value must\n",
    "# be a scalar and the gradient must have the same shape as the\n",
    "# supplied argument.\n",
    "\n",
    "# The `make_val_and_grad_fn` decorator helps transforming a function\n",
    "# returning the objective value into one that returns both the gradient\n",
    "# and the value. It also works for both eager and graph mode.\n",
    "\n",
    "dim = 10\n",
    "minimum = np.ones([dim])\n",
    "var = np.ones([dim])*2\n",
    "scales = np.exp(np.random.randn(dim))\n",
    "#scales = np.array([0.001]*dim)\n",
    "\n",
    "@make_val_and_grad_fn\n",
    "def quadratic(x):\n",
    "    res = tf.reduce_sum(scales * (x - minimum) ** 2, axis=-1)\n",
    "    print(res)\n",
    "    return res\n",
    "\n",
    "\n",
    "# The minimization routine also requires you to supply an initial\n",
    "# starting point for the search. For this example we choose a random\n",
    "# starting point.\n",
    "start = np.random.randn(dim)\n",
    "\n",
    "# Finally an optional argument called tolerance let's you choose the\n",
    "# stopping point of the search. The tolerance specifies the maximum\n",
    "# (supremum) norm of the gradient vector at which the algorithm terminates.\n",
    "# If you don't have a specific need for higher or lower accuracy, leaving\n",
    "# this parameter unspecified (and hence using the default value of 1e-8)\n",
    "# should be good enough.\n",
    "tolerance = 1e-10\n",
    "\n",
    "@tf.function\n",
    "def quadratic_with_lbfgs():\n",
    "    return tfp.optimizer.lbfgs_minimize(\n",
    "      quadratic,\n",
    "      initial_position=tf.constant(start),\n",
    "      tolerance=tolerance)\n",
    "\n",
    "results = run(quadratic_with_lbfgs)\n",
    "\n",
    "# The optimization results contain multiple pieces of information. The most\n",
    "# important fields are: 'converged' and 'position'.\n",
    "# Converged is a boolean scalar tensor. As the name implies, it indicates\n",
    "# whether the norm of the gradient at the final point was within tolerance.\n",
    "# Position is the location of the minimum found. It is important to check\n",
    "# that converged is True before using the value of the position.\n",
    "\n",
    "print('L-BFGS Results')\n",
    "print('Function: quadratic')\n",
    "print('Converged:', results.converged)\n",
    "print('Location of the minimum:', results.position)\n",
    "print('Number of iterations:', results.num_iterations)"
   ]
  },
  {
   "cell_type": "markdown",
   "id": "b7f8fcb0",
   "metadata": {},
   "source": [
    "Let's change things up slightly, and do the same thing to minimize a negative Gaussian."
   ]
  },
  {
   "cell_type": "code",
   "execution_count": 11,
   "id": "f2820aba",
   "metadata": {
    "scrolled": true
   },
   "outputs": [
    {
     "name": "stdout",
     "output_type": "stream",
     "text": [
      "tf.Tensor(\n",
      "[-5.39741446e-01  4.76985010e-01  3.24894392e+00 -1.02122752e+00\n",
      " -5.77087303e-01  1.24121276e-01  3.02613562e-01  5.23772068e-01\n",
      "  9.40277775e-04  1.34380979e+00], shape=(10,), dtype=float64)\n",
      "Tensor(\"minimize/value_and_gradient/Neg_1:0\", shape=(10,), dtype=float64)\n",
      "Tensor(\"minimize/while/hager_zhang/value_and_gradient/Neg_1:0\", shape=(10,), dtype=float64)\n",
      "Tensor(\"minimize/while/hager_zhang/cond/while/value_and_gradient/Neg_1:0\", shape=(10,), dtype=float64)\n",
      "Tensor(\"minimize/while/hager_zhang/cond/while_1/value_and_gradient/Neg_1:0\", shape=(10,), dtype=float64)\n",
      "Tensor(\"minimize/while/hager_zhang/cond/while_2/secant2/value_and_gradient/Neg_1:0\", shape=(10,), dtype=float64)\n",
      "Tensor(\"minimize/while/hager_zhang/cond/while_2/secant2/cond/while/value_and_gradient/Neg_1:0\", shape=(10,), dtype=float64)\n",
      "Tensor(\"minimize/while/hager_zhang/cond/while_2/secant2/cond/cond/cond/value_and_gradient/Neg_1:0\", shape=(10,), dtype=float64)\n",
      "Tensor(\"minimize/while/hager_zhang/cond/while_2/secant2/cond/cond/cond_1/while/value_and_gradient/Neg_1:0\", shape=(10,), dtype=float64)\n",
      "Tensor(\"minimize/while/hager_zhang/cond/while_2/cond/cond/value_and_gradient/Neg_1:0\", shape=(10,), dtype=float64)\n",
      "Tensor(\"minimize/while/hager_zhang/cond/while_2/cond/cond/cond/while/value_and_gradient/Neg_1:0\", shape=(10,), dtype=float64)\n",
      "Evaluation took: 0.065558 seconds\n",
      "L-BFGS Results\n",
      "Function: neg_gaussian\n",
      "Variance: [1 1 1 1 1 1 1 1 1 1]\n",
      "Converged: True\n",
      "Location of the minimum: [1. 1. 1. 1. 1. 1. 1. 1. 1. 1.]\n",
      "Number of iterations: 19\n"
     ]
    }
   ],
   "source": [
    "dim = 10\n",
    "minimum = np.ones([dim])\n",
    "var = np.array([1] * dim)\n",
    "start = np.random.randn(dim)\n",
    "tolerance = 1e-10\n",
    "\n",
    "print(tf.constant(start))\n",
    "\n",
    "@make_val_and_grad_fn\n",
    "def neg_gaussian(x):\n",
    "    print(-tf.math.exp(-(x - minimum)**2/var))\n",
    "    res = tf.reduce_sum(-tf.math.exp(-(x - minimum)**2/var), axis=-1)\n",
    "    #print(res)\n",
    "    return res\n",
    "\n",
    "@tf.function\n",
    "def neg_gaussian_with_lbfgs():\n",
    "    return tfp.optimizer.lbfgs_minimize(\n",
    "      neg_gaussian,\n",
    "      initial_position=tf.constant(start),\n",
    "      tolerance=tolerance)\n",
    "\n",
    "results = run(neg_gaussian_with_lbfgs)\n",
    "\n",
    "print('L-BFGS Results')\n",
    "print('Function: neg_gaussian')\n",
    "print('Variance:', var)\n",
    "print('Converged:', results.converged)\n",
    "print('Location of the minimum:', results.position)\n",
    "print('Number of iterations:', results.num_iterations)"
   ]
  },
  {
   "cell_type": "code",
   "execution_count": 395,
   "id": "56773adf",
   "metadata": {},
   "outputs": [
    {
     "name": "stdout",
     "output_type": "stream",
     "text": [
      "tf.Tensor(\n",
      "[-0.36787945 -0.36787945 -0.36787945 -0.36787945 -0.36787945 -0.36787945\n",
      " -0.36787945 -0.36787945 -0.36787945 -0.36787945], shape=(10,), dtype=float32)\n"
     ]
    },
    {
     "data": {
      "text/plain": [
       "(<tf.Tensor: shape=(), dtype=float32, numpy=-3.6787944>,\n",
       " <tf.Tensor: shape=(10,), dtype=float32, numpy=\n",
       " array([-0.7357589, -0.7357589, -0.7357589, -0.7357589, -0.7357589,\n",
       "        -0.7357589, -0.7357589, -0.7357589, -0.7357589, -0.7357589],\n",
       "       dtype=float32)>)"
      ]
     },
     "execution_count": 395,
     "metadata": {},
     "output_type": "execute_result"
    }
   ],
   "source": [
    "x0 = np.zeros([dim])\n",
    "neg_gaussian(x0)"
   ]
  },
  {
   "cell_type": "markdown",
   "id": "9ac8b154",
   "metadata": {},
   "source": [
    "## Finally, let's use the L-BFGS optimizer to minimize the function we care about, $p(x|z)$."
   ]
  },
  {
   "cell_type": "code",
   "execution_count": 12,
   "id": "853d73fb",
   "metadata": {},
   "outputs": [
    {
     "name": "stdout",
     "output_type": "stream",
     "text": [
      "x = Tensor(\"x:0\", shape=(1, 2), dtype=float32), z = Tensor(\"z:0\", shape=(1,), dtype=float32)\n"
     ]
    },
    {
     "ename": "KeyboardInterrupt",
     "evalue": "",
     "output_type": "error",
     "traceback": [
      "\u001b[0;31m---------------------------------------------------------------------------\u001b[0m",
      "\u001b[0;31mKeyboardInterrupt\u001b[0m                         Traceback (most recent call last)",
      "Input \u001b[0;32mIn [12]\u001b[0m, in \u001b[0;36m<module>\u001b[0;34m\u001b[0m\n\u001b[1;32m     27\u001b[0m tolerance \u001b[38;5;241m=\u001b[39m \u001b[38;5;241m1e-1\u001b[39m\n\u001b[1;32m     29\u001b[0m neg_cond_prob(start)\n\u001b[0;32m---> 31\u001b[0m results \u001b[38;5;241m=\u001b[39m \u001b[43mrun\u001b[49m\u001b[43m(\u001b[49m\u001b[43mneg_cond_prob_with_lbfgs\u001b[49m\u001b[43m)\u001b[49m\n",
      "Input \u001b[0;32mIn [9]\u001b[0m, in \u001b[0;36mrun\u001b[0;34m(optimizer)\u001b[0m\n\u001b[1;32m     26\u001b[0m \u001b[38;5;28;01mdef\u001b[39;00m \u001b[38;5;21mrun\u001b[39m(optimizer):\n\u001b[1;32m     27\u001b[0m     \u001b[38;5;124;03m\"\"\"Run an optimizer and measure it's evaluation time.\"\"\"\u001b[39;00m\n\u001b[0;32m---> 28\u001b[0m     \u001b[43moptimizer\u001b[49m\u001b[43m(\u001b[49m\u001b[43m)\u001b[49m  \u001b[38;5;66;03m# Warmup.\u001b[39;00m\n\u001b[1;32m     29\u001b[0m     \u001b[38;5;28;01mwith\u001b[39;00m timed_execution():\n\u001b[1;32m     30\u001b[0m         result \u001b[38;5;241m=\u001b[39m optimizer()\n",
      "File \u001b[0;32m~/anaconda3/envs/tf2/lib/python3.8/site-packages/tensorflow/python/util/traceback_utils.py:150\u001b[0m, in \u001b[0;36mfilter_traceback.<locals>.error_handler\u001b[0;34m(*args, **kwargs)\u001b[0m\n\u001b[1;32m    148\u001b[0m filtered_tb \u001b[38;5;241m=\u001b[39m \u001b[38;5;28;01mNone\u001b[39;00m\n\u001b[1;32m    149\u001b[0m \u001b[38;5;28;01mtry\u001b[39;00m:\n\u001b[0;32m--> 150\u001b[0m   \u001b[38;5;28;01mreturn\u001b[39;00m \u001b[43mfn\u001b[49m\u001b[43m(\u001b[49m\u001b[38;5;241;43m*\u001b[39;49m\u001b[43margs\u001b[49m\u001b[43m,\u001b[49m\u001b[43m \u001b[49m\u001b[38;5;241;43m*\u001b[39;49m\u001b[38;5;241;43m*\u001b[39;49m\u001b[43mkwargs\u001b[49m\u001b[43m)\u001b[49m\n\u001b[1;32m    151\u001b[0m \u001b[38;5;28;01mexcept\u001b[39;00m \u001b[38;5;167;01mException\u001b[39;00m \u001b[38;5;28;01mas\u001b[39;00m e:\n\u001b[1;32m    152\u001b[0m   filtered_tb \u001b[38;5;241m=\u001b[39m _process_traceback_frames(e\u001b[38;5;241m.\u001b[39m__traceback__)\n",
      "File \u001b[0;32m~/anaconda3/envs/tf2/lib/python3.8/site-packages/tensorflow/python/eager/def_function.py:910\u001b[0m, in \u001b[0;36mFunction.__call__\u001b[0;34m(self, *args, **kwds)\u001b[0m\n\u001b[1;32m    907\u001b[0m compiler \u001b[38;5;241m=\u001b[39m \u001b[38;5;124m\"\u001b[39m\u001b[38;5;124mxla\u001b[39m\u001b[38;5;124m\"\u001b[39m \u001b[38;5;28;01mif\u001b[39;00m \u001b[38;5;28mself\u001b[39m\u001b[38;5;241m.\u001b[39m_jit_compile \u001b[38;5;28;01melse\u001b[39;00m \u001b[38;5;124m\"\u001b[39m\u001b[38;5;124mnonXla\u001b[39m\u001b[38;5;124m\"\u001b[39m\n\u001b[1;32m    909\u001b[0m \u001b[38;5;28;01mwith\u001b[39;00m OptionalXlaContext(\u001b[38;5;28mself\u001b[39m\u001b[38;5;241m.\u001b[39m_jit_compile):\n\u001b[0;32m--> 910\u001b[0m   result \u001b[38;5;241m=\u001b[39m \u001b[38;5;28;43mself\u001b[39;49m\u001b[38;5;241;43m.\u001b[39;49m\u001b[43m_call\u001b[49m\u001b[43m(\u001b[49m\u001b[38;5;241;43m*\u001b[39;49m\u001b[43margs\u001b[49m\u001b[43m,\u001b[49m\u001b[43m \u001b[49m\u001b[38;5;241;43m*\u001b[39;49m\u001b[38;5;241;43m*\u001b[39;49m\u001b[43mkwds\u001b[49m\u001b[43m)\u001b[49m\n\u001b[1;32m    912\u001b[0m new_tracing_count \u001b[38;5;241m=\u001b[39m \u001b[38;5;28mself\u001b[39m\u001b[38;5;241m.\u001b[39mexperimental_get_tracing_count()\n\u001b[1;32m    913\u001b[0m without_tracing \u001b[38;5;241m=\u001b[39m (tracing_count \u001b[38;5;241m==\u001b[39m new_tracing_count)\n",
      "File \u001b[0;32m~/anaconda3/envs/tf2/lib/python3.8/site-packages/tensorflow/python/eager/def_function.py:958\u001b[0m, in \u001b[0;36mFunction._call\u001b[0;34m(self, *args, **kwds)\u001b[0m\n\u001b[1;32m    955\u001b[0m \u001b[38;5;28;01mtry\u001b[39;00m:\n\u001b[1;32m    956\u001b[0m   \u001b[38;5;66;03m# This is the first call of __call__, so we have to initialize.\u001b[39;00m\n\u001b[1;32m    957\u001b[0m   initializers \u001b[38;5;241m=\u001b[39m []\n\u001b[0;32m--> 958\u001b[0m   \u001b[38;5;28;43mself\u001b[39;49m\u001b[38;5;241;43m.\u001b[39;49m\u001b[43m_initialize\u001b[49m\u001b[43m(\u001b[49m\u001b[43margs\u001b[49m\u001b[43m,\u001b[49m\u001b[43m \u001b[49m\u001b[43mkwds\u001b[49m\u001b[43m,\u001b[49m\u001b[43m \u001b[49m\u001b[43madd_initializers_to\u001b[49m\u001b[38;5;241;43m=\u001b[39;49m\u001b[43minitializers\u001b[49m\u001b[43m)\u001b[49m\n\u001b[1;32m    959\u001b[0m \u001b[38;5;28;01mfinally\u001b[39;00m:\n\u001b[1;32m    960\u001b[0m   \u001b[38;5;66;03m# At this point we know that the initialization is complete (or less\u001b[39;00m\n\u001b[1;32m    961\u001b[0m   \u001b[38;5;66;03m# interestingly an exception was raised) so we no longer need a lock.\u001b[39;00m\n\u001b[1;32m    962\u001b[0m   \u001b[38;5;28mself\u001b[39m\u001b[38;5;241m.\u001b[39m_lock\u001b[38;5;241m.\u001b[39mrelease()\n",
      "File \u001b[0;32m~/anaconda3/envs/tf2/lib/python3.8/site-packages/tensorflow/python/eager/def_function.py:780\u001b[0m, in \u001b[0;36mFunction._initialize\u001b[0;34m(self, args, kwds, add_initializers_to)\u001b[0m\n\u001b[1;32m    777\u001b[0m \u001b[38;5;28mself\u001b[39m\u001b[38;5;241m.\u001b[39m_lifted_initializer_graph \u001b[38;5;241m=\u001b[39m lifted_initializer_graph\n\u001b[1;32m    778\u001b[0m \u001b[38;5;28mself\u001b[39m\u001b[38;5;241m.\u001b[39m_graph_deleter \u001b[38;5;241m=\u001b[39m FunctionDeleter(\u001b[38;5;28mself\u001b[39m\u001b[38;5;241m.\u001b[39m_lifted_initializer_graph)\n\u001b[1;32m    779\u001b[0m \u001b[38;5;28mself\u001b[39m\u001b[38;5;241m.\u001b[39m_concrete_stateful_fn \u001b[38;5;241m=\u001b[39m (\n\u001b[0;32m--> 780\u001b[0m     \u001b[38;5;28;43mself\u001b[39;49m\u001b[38;5;241;43m.\u001b[39;49m\u001b[43m_stateful_fn\u001b[49m\u001b[38;5;241;43m.\u001b[39;49m\u001b[43m_get_concrete_function_internal_garbage_collected\u001b[49m\u001b[43m(\u001b[49m\u001b[43m  \u001b[49m\u001b[38;5;66;43;03m# pylint: disable=protected-access\u001b[39;49;00m\n\u001b[1;32m    781\u001b[0m \u001b[43m        \u001b[49m\u001b[38;5;241;43m*\u001b[39;49m\u001b[43margs\u001b[49m\u001b[43m,\u001b[49m\u001b[43m \u001b[49m\u001b[38;5;241;43m*\u001b[39;49m\u001b[38;5;241;43m*\u001b[39;49m\u001b[43mkwds\u001b[49m\u001b[43m)\u001b[49m)\n\u001b[1;32m    783\u001b[0m \u001b[38;5;28;01mdef\u001b[39;00m \u001b[38;5;21minvalid_creator_scope\u001b[39m(\u001b[38;5;241m*\u001b[39munused_args, \u001b[38;5;241m*\u001b[39m\u001b[38;5;241m*\u001b[39munused_kwds):\n\u001b[1;32m    784\u001b[0m   \u001b[38;5;124;03m\"\"\"Disables variable creation.\"\"\"\u001b[39;00m\n",
      "File \u001b[0;32m~/anaconda3/envs/tf2/lib/python3.8/site-packages/tensorflow/python/eager/function.py:3157\u001b[0m, in \u001b[0;36mFunction._get_concrete_function_internal_garbage_collected\u001b[0;34m(self, *args, **kwargs)\u001b[0m\n\u001b[1;32m   3155\u001b[0m   args, kwargs \u001b[38;5;241m=\u001b[39m \u001b[38;5;28;01mNone\u001b[39;00m, \u001b[38;5;28;01mNone\u001b[39;00m\n\u001b[1;32m   3156\u001b[0m \u001b[38;5;28;01mwith\u001b[39;00m \u001b[38;5;28mself\u001b[39m\u001b[38;5;241m.\u001b[39m_lock:\n\u001b[0;32m-> 3157\u001b[0m   graph_function, _ \u001b[38;5;241m=\u001b[39m \u001b[38;5;28;43mself\u001b[39;49m\u001b[38;5;241;43m.\u001b[39;49m\u001b[43m_maybe_define_function\u001b[49m\u001b[43m(\u001b[49m\u001b[43margs\u001b[49m\u001b[43m,\u001b[49m\u001b[43m \u001b[49m\u001b[43mkwargs\u001b[49m\u001b[43m)\u001b[49m\n\u001b[1;32m   3158\u001b[0m \u001b[38;5;28;01mreturn\u001b[39;00m graph_function\n",
      "File \u001b[0;32m~/anaconda3/envs/tf2/lib/python3.8/site-packages/tensorflow/python/eager/function.py:3557\u001b[0m, in \u001b[0;36mFunction._maybe_define_function\u001b[0;34m(self, args, kwargs)\u001b[0m\n\u001b[1;32m   3553\u001b[0m   \u001b[38;5;28;01mreturn\u001b[39;00m \u001b[38;5;28mself\u001b[39m\u001b[38;5;241m.\u001b[39m_define_function_with_shape_relaxation(\n\u001b[1;32m   3554\u001b[0m       args, kwargs, flat_args, filtered_flat_args, cache_key_context)\n\u001b[1;32m   3556\u001b[0m \u001b[38;5;28mself\u001b[39m\u001b[38;5;241m.\u001b[39m_function_cache\u001b[38;5;241m.\u001b[39mmissed\u001b[38;5;241m.\u001b[39madd(call_context_key)\n\u001b[0;32m-> 3557\u001b[0m graph_function \u001b[38;5;241m=\u001b[39m \u001b[38;5;28;43mself\u001b[39;49m\u001b[38;5;241;43m.\u001b[39;49m\u001b[43m_create_graph_function\u001b[49m\u001b[43m(\u001b[49m\u001b[43margs\u001b[49m\u001b[43m,\u001b[49m\u001b[43m \u001b[49m\u001b[43mkwargs\u001b[49m\u001b[43m)\u001b[49m\n\u001b[1;32m   3558\u001b[0m \u001b[38;5;28mself\u001b[39m\u001b[38;5;241m.\u001b[39m_function_cache\u001b[38;5;241m.\u001b[39mprimary[cache_key] \u001b[38;5;241m=\u001b[39m graph_function\n\u001b[1;32m   3560\u001b[0m \u001b[38;5;28;01mreturn\u001b[39;00m graph_function, filtered_flat_args\n",
      "File \u001b[0;32m~/anaconda3/envs/tf2/lib/python3.8/site-packages/tensorflow/python/eager/function.py:3392\u001b[0m, in \u001b[0;36mFunction._create_graph_function\u001b[0;34m(self, args, kwargs, override_flat_arg_shapes)\u001b[0m\n\u001b[1;32m   3387\u001b[0m missing_arg_names \u001b[38;5;241m=\u001b[39m [\n\u001b[1;32m   3388\u001b[0m     \u001b[38;5;124m\"\u001b[39m\u001b[38;5;132;01m%s\u001b[39;00m\u001b[38;5;124m_\u001b[39m\u001b[38;5;132;01m%d\u001b[39;00m\u001b[38;5;124m\"\u001b[39m \u001b[38;5;241m%\u001b[39m (arg, i) \u001b[38;5;28;01mfor\u001b[39;00m i, arg \u001b[38;5;129;01min\u001b[39;00m \u001b[38;5;28menumerate\u001b[39m(missing_arg_names)\n\u001b[1;32m   3389\u001b[0m ]\n\u001b[1;32m   3390\u001b[0m arg_names \u001b[38;5;241m=\u001b[39m base_arg_names \u001b[38;5;241m+\u001b[39m missing_arg_names\n\u001b[1;32m   3391\u001b[0m graph_function \u001b[38;5;241m=\u001b[39m ConcreteFunction(\n\u001b[0;32m-> 3392\u001b[0m     \u001b[43mfunc_graph_module\u001b[49m\u001b[38;5;241;43m.\u001b[39;49m\u001b[43mfunc_graph_from_py_func\u001b[49m\u001b[43m(\u001b[49m\n\u001b[1;32m   3393\u001b[0m \u001b[43m        \u001b[49m\u001b[38;5;28;43mself\u001b[39;49m\u001b[38;5;241;43m.\u001b[39;49m\u001b[43m_name\u001b[49m\u001b[43m,\u001b[49m\n\u001b[1;32m   3394\u001b[0m \u001b[43m        \u001b[49m\u001b[38;5;28;43mself\u001b[39;49m\u001b[38;5;241;43m.\u001b[39;49m\u001b[43m_python_function\u001b[49m\u001b[43m,\u001b[49m\n\u001b[1;32m   3395\u001b[0m \u001b[43m        \u001b[49m\u001b[43margs\u001b[49m\u001b[43m,\u001b[49m\n\u001b[1;32m   3396\u001b[0m \u001b[43m        \u001b[49m\u001b[43mkwargs\u001b[49m\u001b[43m,\u001b[49m\n\u001b[1;32m   3397\u001b[0m \u001b[43m        \u001b[49m\u001b[38;5;28;43mself\u001b[39;49m\u001b[38;5;241;43m.\u001b[39;49m\u001b[43minput_signature\u001b[49m\u001b[43m,\u001b[49m\n\u001b[1;32m   3398\u001b[0m \u001b[43m        \u001b[49m\u001b[43mautograph\u001b[49m\u001b[38;5;241;43m=\u001b[39;49m\u001b[38;5;28;43mself\u001b[39;49m\u001b[38;5;241;43m.\u001b[39;49m\u001b[43m_autograph\u001b[49m\u001b[43m,\u001b[49m\n\u001b[1;32m   3399\u001b[0m \u001b[43m        \u001b[49m\u001b[43mautograph_options\u001b[49m\u001b[38;5;241;43m=\u001b[39;49m\u001b[38;5;28;43mself\u001b[39;49m\u001b[38;5;241;43m.\u001b[39;49m\u001b[43m_autograph_options\u001b[49m\u001b[43m,\u001b[49m\n\u001b[1;32m   3400\u001b[0m \u001b[43m        \u001b[49m\u001b[43marg_names\u001b[49m\u001b[38;5;241;43m=\u001b[39;49m\u001b[43marg_names\u001b[49m\u001b[43m,\u001b[49m\n\u001b[1;32m   3401\u001b[0m \u001b[43m        \u001b[49m\u001b[43moverride_flat_arg_shapes\u001b[49m\u001b[38;5;241;43m=\u001b[39;49m\u001b[43moverride_flat_arg_shapes\u001b[49m\u001b[43m,\u001b[49m\n\u001b[1;32m   3402\u001b[0m \u001b[43m        \u001b[49m\u001b[43mcapture_by_value\u001b[49m\u001b[38;5;241;43m=\u001b[39;49m\u001b[38;5;28;43mself\u001b[39;49m\u001b[38;5;241;43m.\u001b[39;49m\u001b[43m_capture_by_value\u001b[49m\u001b[43m)\u001b[49m,\n\u001b[1;32m   3403\u001b[0m     \u001b[38;5;28mself\u001b[39m\u001b[38;5;241m.\u001b[39m_function_attributes,\n\u001b[1;32m   3404\u001b[0m     function_spec\u001b[38;5;241m=\u001b[39m\u001b[38;5;28mself\u001b[39m\u001b[38;5;241m.\u001b[39mfunction_spec,\n\u001b[1;32m   3405\u001b[0m     \u001b[38;5;66;03m# Tell the ConcreteFunction to clean up its graph once it goes out of\u001b[39;00m\n\u001b[1;32m   3406\u001b[0m     \u001b[38;5;66;03m# scope. This is not the default behavior since it gets used in some\u001b[39;00m\n\u001b[1;32m   3407\u001b[0m     \u001b[38;5;66;03m# places (like Keras) where the FuncGraph lives longer than the\u001b[39;00m\n\u001b[1;32m   3408\u001b[0m     \u001b[38;5;66;03m# ConcreteFunction.\u001b[39;00m\n\u001b[1;32m   3409\u001b[0m     shared_func_graph\u001b[38;5;241m=\u001b[39m\u001b[38;5;28;01mFalse\u001b[39;00m)\n\u001b[1;32m   3410\u001b[0m \u001b[38;5;28;01mreturn\u001b[39;00m graph_function\n",
      "File \u001b[0;32m~/anaconda3/envs/tf2/lib/python3.8/site-packages/tensorflow/python/framework/func_graph.py:1143\u001b[0m, in \u001b[0;36mfunc_graph_from_py_func\u001b[0;34m(name, python_func, args, kwargs, signature, func_graph, autograph, autograph_options, add_control_dependencies, arg_names, op_return_value, collections, capture_by_value, override_flat_arg_shapes, acd_record_initial_resource_uses)\u001b[0m\n\u001b[1;32m   1140\u001b[0m \u001b[38;5;28;01melse\u001b[39;00m:\n\u001b[1;32m   1141\u001b[0m   _, original_func \u001b[38;5;241m=\u001b[39m tf_decorator\u001b[38;5;241m.\u001b[39munwrap(python_func)\n\u001b[0;32m-> 1143\u001b[0m func_outputs \u001b[38;5;241m=\u001b[39m \u001b[43mpython_func\u001b[49m\u001b[43m(\u001b[49m\u001b[38;5;241;43m*\u001b[39;49m\u001b[43mfunc_args\u001b[49m\u001b[43m,\u001b[49m\u001b[43m \u001b[49m\u001b[38;5;241;43m*\u001b[39;49m\u001b[38;5;241;43m*\u001b[39;49m\u001b[43mfunc_kwargs\u001b[49m\u001b[43m)\u001b[49m\n\u001b[1;32m   1145\u001b[0m \u001b[38;5;66;03m# invariant: `func_outputs` contains only Tensors, CompositeTensors,\u001b[39;00m\n\u001b[1;32m   1146\u001b[0m \u001b[38;5;66;03m# TensorArrays and `None`s.\u001b[39;00m\n\u001b[1;32m   1147\u001b[0m func_outputs \u001b[38;5;241m=\u001b[39m nest\u001b[38;5;241m.\u001b[39mmap_structure(convert, func_outputs,\n\u001b[1;32m   1148\u001b[0m                                   expand_composites\u001b[38;5;241m=\u001b[39m\u001b[38;5;28;01mTrue\u001b[39;00m)\n",
      "File \u001b[0;32m~/anaconda3/envs/tf2/lib/python3.8/site-packages/tensorflow/python/eager/def_function.py:672\u001b[0m, in \u001b[0;36mFunction._defun_with_scope.<locals>.wrapped_fn\u001b[0;34m(*args, **kwds)\u001b[0m\n\u001b[1;32m    668\u001b[0m \u001b[38;5;28;01mwith\u001b[39;00m default_graph\u001b[38;5;241m.\u001b[39m_variable_creator_scope(scope, priority\u001b[38;5;241m=\u001b[39m\u001b[38;5;241m50\u001b[39m):  \u001b[38;5;66;03m# pylint: disable=protected-access\u001b[39;00m\n\u001b[1;32m    669\u001b[0m   \u001b[38;5;66;03m# __wrapped__ allows AutoGraph to swap in a converted function. We give\u001b[39;00m\n\u001b[1;32m    670\u001b[0m   \u001b[38;5;66;03m# the function a weak reference to itself to avoid a reference cycle.\u001b[39;00m\n\u001b[1;32m    671\u001b[0m   \u001b[38;5;28;01mwith\u001b[39;00m OptionalXlaContext(compile_with_xla):\n\u001b[0;32m--> 672\u001b[0m     out \u001b[38;5;241m=\u001b[39m \u001b[43mweak_wrapped_fn\u001b[49m\u001b[43m(\u001b[49m\u001b[43m)\u001b[49m\u001b[38;5;241;43m.\u001b[39;49m\u001b[43m__wrapped__\u001b[49m\u001b[43m(\u001b[49m\u001b[38;5;241;43m*\u001b[39;49m\u001b[43margs\u001b[49m\u001b[43m,\u001b[49m\u001b[43m \u001b[49m\u001b[38;5;241;43m*\u001b[39;49m\u001b[38;5;241;43m*\u001b[39;49m\u001b[43mkwds\u001b[49m\u001b[43m)\u001b[49m\n\u001b[1;32m    673\u001b[0m   \u001b[38;5;28;01mreturn\u001b[39;00m out\n",
      "File \u001b[0;32m~/anaconda3/envs/tf2/lib/python3.8/site-packages/tensorflow/python/framework/func_graph.py:1118\u001b[0m, in \u001b[0;36mfunc_graph_from_py_func.<locals>.autograph_handler\u001b[0;34m(*args, **kwargs)\u001b[0m\n\u001b[1;32m   1116\u001b[0m \u001b[38;5;66;03m# TODO(mdan): Push this block higher in tf.function's call stack.\u001b[39;00m\n\u001b[1;32m   1117\u001b[0m \u001b[38;5;28;01mtry\u001b[39;00m:\n\u001b[0;32m-> 1118\u001b[0m   \u001b[38;5;28;01mreturn\u001b[39;00m \u001b[43mautograph\u001b[49m\u001b[38;5;241;43m.\u001b[39;49m\u001b[43mconverted_call\u001b[49m\u001b[43m(\u001b[49m\n\u001b[1;32m   1119\u001b[0m \u001b[43m      \u001b[49m\u001b[43moriginal_func\u001b[49m\u001b[43m,\u001b[49m\n\u001b[1;32m   1120\u001b[0m \u001b[43m      \u001b[49m\u001b[43margs\u001b[49m\u001b[43m,\u001b[49m\n\u001b[1;32m   1121\u001b[0m \u001b[43m      \u001b[49m\u001b[43mkwargs\u001b[49m\u001b[43m,\u001b[49m\n\u001b[1;32m   1122\u001b[0m \u001b[43m      \u001b[49m\u001b[43moptions\u001b[49m\u001b[38;5;241;43m=\u001b[39;49m\u001b[43mautograph\u001b[49m\u001b[38;5;241;43m.\u001b[39;49m\u001b[43mConversionOptions\u001b[49m\u001b[43m(\u001b[49m\n\u001b[1;32m   1123\u001b[0m \u001b[43m          \u001b[49m\u001b[43mrecursive\u001b[49m\u001b[38;5;241;43m=\u001b[39;49m\u001b[38;5;28;43;01mTrue\u001b[39;49;00m\u001b[43m,\u001b[49m\n\u001b[1;32m   1124\u001b[0m \u001b[43m          \u001b[49m\u001b[43moptional_features\u001b[49m\u001b[38;5;241;43m=\u001b[39;49m\u001b[43mautograph_options\u001b[49m\u001b[43m,\u001b[49m\n\u001b[1;32m   1125\u001b[0m \u001b[43m          \u001b[49m\u001b[43muser_requested\u001b[49m\u001b[38;5;241;43m=\u001b[39;49m\u001b[38;5;28;43;01mTrue\u001b[39;49;00m\u001b[43m,\u001b[49m\n\u001b[1;32m   1126\u001b[0m \u001b[43m      \u001b[49m\u001b[43m)\u001b[49m\u001b[43m)\u001b[49m\n\u001b[1;32m   1127\u001b[0m \u001b[38;5;28;01mexcept\u001b[39;00m \u001b[38;5;167;01mException\u001b[39;00m \u001b[38;5;28;01mas\u001b[39;00m e:  \u001b[38;5;66;03m# pylint:disable=broad-except\u001b[39;00m\n\u001b[1;32m   1128\u001b[0m   \u001b[38;5;28;01mif\u001b[39;00m \u001b[38;5;28mhasattr\u001b[39m(e, \u001b[38;5;124m\"\u001b[39m\u001b[38;5;124mag_error_metadata\u001b[39m\u001b[38;5;124m\"\u001b[39m):\n",
      "File \u001b[0;32m~/anaconda3/envs/tf2/lib/python3.8/site-packages/tensorflow/python/autograph/impl/api.py:445\u001b[0m, in \u001b[0;36mconverted_call\u001b[0;34m(f, args, kwargs, caller_fn_scope, options)\u001b[0m\n\u001b[1;32m    443\u001b[0m \u001b[38;5;28;01mtry\u001b[39;00m:\n\u001b[1;32m    444\u001b[0m   \u001b[38;5;28;01mif\u001b[39;00m kwargs \u001b[38;5;129;01mis\u001b[39;00m \u001b[38;5;129;01mnot\u001b[39;00m \u001b[38;5;28;01mNone\u001b[39;00m:\n\u001b[0;32m--> 445\u001b[0m     result \u001b[38;5;241m=\u001b[39m \u001b[43mconverted_f\u001b[49m\u001b[43m(\u001b[49m\u001b[38;5;241;43m*\u001b[39;49m\u001b[43meffective_args\u001b[49m\u001b[43m,\u001b[49m\u001b[43m \u001b[49m\u001b[38;5;241;43m*\u001b[39;49m\u001b[38;5;241;43m*\u001b[39;49m\u001b[43mkwargs\u001b[49m\u001b[43m)\u001b[49m\n\u001b[1;32m    446\u001b[0m   \u001b[38;5;28;01melse\u001b[39;00m:\n\u001b[1;32m    447\u001b[0m     result \u001b[38;5;241m=\u001b[39m converted_f(\u001b[38;5;241m*\u001b[39meffective_args)\n",
      "File \u001b[0;32m/tmp/__autograph_generated_filemq9fpsbe.py:12\u001b[0m, in \u001b[0;36mouter_factory.<locals>.inner_factory.<locals>.tf__neg_cond_prob_with_lbfgs\u001b[0;34m()\u001b[0m\n\u001b[1;32m     10\u001b[0m \u001b[38;5;28;01mtry\u001b[39;00m:\n\u001b[1;32m     11\u001b[0m     do_return \u001b[38;5;241m=\u001b[39m \u001b[38;5;28;01mTrue\u001b[39;00m\n\u001b[0;32m---> 12\u001b[0m     retval_ \u001b[38;5;241m=\u001b[39m \u001b[43mag__\u001b[49m\u001b[38;5;241;43m.\u001b[39;49m\u001b[43mconverted_call\u001b[49m\u001b[43m(\u001b[49m\u001b[43mag__\u001b[49m\u001b[38;5;241;43m.\u001b[39;49m\u001b[43mld\u001b[49m\u001b[43m(\u001b[49m\u001b[43mtfp\u001b[49m\u001b[43m)\u001b[49m\u001b[38;5;241;43m.\u001b[39;49m\u001b[43moptimizer\u001b[49m\u001b[38;5;241;43m.\u001b[39;49m\u001b[43mlbfgs_minimize\u001b[49m\u001b[43m,\u001b[49m\u001b[43m \u001b[49m\u001b[43m(\u001b[49m\u001b[43mag__\u001b[49m\u001b[38;5;241;43m.\u001b[39;49m\u001b[43mld\u001b[49m\u001b[43m(\u001b[49m\u001b[43mneg_cond_prob\u001b[49m\u001b[43m)\u001b[49m\u001b[43m,\u001b[49m\u001b[43m)\u001b[49m\u001b[43m,\u001b[49m\u001b[43m \u001b[49m\u001b[38;5;28;43mdict\u001b[39;49m\u001b[43m(\u001b[49m\u001b[43minitial_position\u001b[49m\u001b[38;5;241;43m=\u001b[39;49m\u001b[43mag__\u001b[49m\u001b[38;5;241;43m.\u001b[39;49m\u001b[43mconverted_call\u001b[49m\u001b[43m(\u001b[49m\u001b[43mag__\u001b[49m\u001b[38;5;241;43m.\u001b[39;49m\u001b[43mld\u001b[49m\u001b[43m(\u001b[49m\u001b[43mtf\u001b[49m\u001b[43m)\u001b[49m\u001b[38;5;241;43m.\u001b[39;49m\u001b[43mconstant\u001b[49m\u001b[43m,\u001b[49m\u001b[43m \u001b[49m\u001b[43m(\u001b[49m\u001b[43mag__\u001b[49m\u001b[38;5;241;43m.\u001b[39;49m\u001b[43mld\u001b[49m\u001b[43m(\u001b[49m\u001b[43mstart\u001b[49m\u001b[43m)\u001b[49m\u001b[43m,\u001b[49m\u001b[43m)\u001b[49m\u001b[43m,\u001b[49m\u001b[43m \u001b[49m\u001b[38;5;28;43mdict\u001b[39;49m\u001b[43m(\u001b[49m\u001b[43mdtype\u001b[49m\u001b[38;5;241;43m=\u001b[39;49m\u001b[43mag__\u001b[49m\u001b[38;5;241;43m.\u001b[39;49m\u001b[43mld\u001b[49m\u001b[43m(\u001b[49m\u001b[43mtf\u001b[49m\u001b[43m)\u001b[49m\u001b[38;5;241;43m.\u001b[39;49m\u001b[43mfloat32\u001b[49m\u001b[43m)\u001b[49m\u001b[43m,\u001b[49m\u001b[43m \u001b[49m\u001b[43mfscope\u001b[49m\u001b[43m)\u001b[49m\u001b[43m,\u001b[49m\u001b[43m \u001b[49m\u001b[43mtolerance\u001b[49m\u001b[38;5;241;43m=\u001b[39;49m\u001b[43mag__\u001b[49m\u001b[38;5;241;43m.\u001b[39;49m\u001b[43mld\u001b[49m\u001b[43m(\u001b[49m\u001b[43mtolerance\u001b[49m\u001b[43m)\u001b[49m\u001b[43m)\u001b[49m\u001b[43m,\u001b[49m\u001b[43m \u001b[49m\u001b[43mfscope\u001b[49m\u001b[43m)\u001b[49m\n\u001b[1;32m     13\u001b[0m \u001b[38;5;28;01mexcept\u001b[39;00m:\n\u001b[1;32m     14\u001b[0m     do_return \u001b[38;5;241m=\u001b[39m \u001b[38;5;28;01mFalse\u001b[39;00m\n",
      "File \u001b[0;32m~/anaconda3/envs/tf2/lib/python3.8/site-packages/tensorflow/python/autograph/impl/api.py:337\u001b[0m, in \u001b[0;36mconverted_call\u001b[0;34m(f, args, kwargs, caller_fn_scope, options)\u001b[0m\n\u001b[1;32m    335\u001b[0m \u001b[38;5;28;01mif\u001b[39;00m conversion\u001b[38;5;241m.\u001b[39mis_in_allowlist_cache(f, options):\n\u001b[1;32m    336\u001b[0m   logging\u001b[38;5;241m.\u001b[39mlog(\u001b[38;5;241m2\u001b[39m, \u001b[38;5;124m'\u001b[39m\u001b[38;5;124mAllowlisted \u001b[39m\u001b[38;5;132;01m%s\u001b[39;00m\u001b[38;5;124m: from cache\u001b[39m\u001b[38;5;124m'\u001b[39m, f)\n\u001b[0;32m--> 337\u001b[0m   \u001b[38;5;28;01mreturn\u001b[39;00m \u001b[43m_call_unconverted\u001b[49m\u001b[43m(\u001b[49m\u001b[43mf\u001b[49m\u001b[43m,\u001b[49m\u001b[43m \u001b[49m\u001b[43margs\u001b[49m\u001b[43m,\u001b[49m\u001b[43m \u001b[49m\u001b[43mkwargs\u001b[49m\u001b[43m,\u001b[49m\u001b[43m \u001b[49m\u001b[43moptions\u001b[49m\u001b[43m,\u001b[49m\u001b[43m \u001b[49m\u001b[38;5;28;43;01mFalse\u001b[39;49;00m\u001b[43m)\u001b[49m\n\u001b[1;32m    339\u001b[0m \u001b[38;5;28;01mif\u001b[39;00m ag_ctx\u001b[38;5;241m.\u001b[39mcontrol_status_ctx()\u001b[38;5;241m.\u001b[39mstatus \u001b[38;5;241m==\u001b[39m ag_ctx\u001b[38;5;241m.\u001b[39mStatus\u001b[38;5;241m.\u001b[39mDISABLED:\n\u001b[1;32m    340\u001b[0m   logging\u001b[38;5;241m.\u001b[39mlog(\u001b[38;5;241m2\u001b[39m, \u001b[38;5;124m'\u001b[39m\u001b[38;5;124mAllowlisted: \u001b[39m\u001b[38;5;132;01m%s\u001b[39;00m\u001b[38;5;124m: AutoGraph is disabled in context\u001b[39m\u001b[38;5;124m'\u001b[39m, f)\n",
      "File \u001b[0;32m~/anaconda3/envs/tf2/lib/python3.8/site-packages/tensorflow/python/autograph/impl/api.py:464\u001b[0m, in \u001b[0;36m_call_unconverted\u001b[0;34m(f, args, kwargs, options, update_cache)\u001b[0m\n\u001b[1;32m    461\u001b[0m   \u001b[38;5;28;01mreturn\u001b[39;00m f\u001b[38;5;241m.\u001b[39m\u001b[38;5;18m__self__\u001b[39m\u001b[38;5;241m.\u001b[39mcall(args, kwargs)\n\u001b[1;32m    463\u001b[0m \u001b[38;5;28;01mif\u001b[39;00m kwargs \u001b[38;5;129;01mis\u001b[39;00m \u001b[38;5;129;01mnot\u001b[39;00m \u001b[38;5;28;01mNone\u001b[39;00m:\n\u001b[0;32m--> 464\u001b[0m   \u001b[38;5;28;01mreturn\u001b[39;00m \u001b[43mf\u001b[49m\u001b[43m(\u001b[49m\u001b[38;5;241;43m*\u001b[39;49m\u001b[43margs\u001b[49m\u001b[43m,\u001b[49m\u001b[43m \u001b[49m\u001b[38;5;241;43m*\u001b[39;49m\u001b[38;5;241;43m*\u001b[39;49m\u001b[43mkwargs\u001b[49m\u001b[43m)\u001b[49m\n\u001b[1;32m    465\u001b[0m \u001b[38;5;28;01mreturn\u001b[39;00m f(\u001b[38;5;241m*\u001b[39margs)\n",
      "File \u001b[0;32m~/anaconda3/envs/tf2/lib/python3.8/site-packages/tensorflow_probability/python/optimizer/lbfgs.py:278\u001b[0m, in \u001b[0;36mminimize\u001b[0;34m(value_and_gradients_function, initial_position, previous_optimizer_results, num_correction_pairs, tolerance, x_tolerance, f_relative_tolerance, initial_inverse_hessian_estimate, max_iterations, parallel_iterations, stopping_condition, max_line_search_iterations, f_absolute_tolerance, name)\u001b[0m\n\u001b[1;32m    276\u001b[0m \u001b[38;5;28;01mif\u001b[39;00m previous_optimizer_results \u001b[38;5;129;01mis\u001b[39;00m \u001b[38;5;28;01mNone\u001b[39;00m:\n\u001b[1;32m    277\u001b[0m   \u001b[38;5;28;01massert\u001b[39;00m initial_position \u001b[38;5;129;01mis\u001b[39;00m \u001b[38;5;129;01mnot\u001b[39;00m \u001b[38;5;28;01mNone\u001b[39;00m\n\u001b[0;32m--> 278\u001b[0m   initial_state \u001b[38;5;241m=\u001b[39m \u001b[43m_get_initial_state\u001b[49m\u001b[43m(\u001b[49m\u001b[43mvalue_and_gradients_function\u001b[49m\u001b[43m,\u001b[49m\n\u001b[1;32m    279\u001b[0m \u001b[43m                                     \u001b[49m\u001b[43minitial_position\u001b[49m\u001b[43m,\u001b[49m\n\u001b[1;32m    280\u001b[0m \u001b[43m                                     \u001b[49m\u001b[43mnum_correction_pairs\u001b[49m\u001b[43m,\u001b[49m\n\u001b[1;32m    281\u001b[0m \u001b[43m                                     \u001b[49m\u001b[43mtolerance\u001b[49m\u001b[43m)\u001b[49m\n\u001b[1;32m    282\u001b[0m \u001b[38;5;28;01melse\u001b[39;00m:\n\u001b[1;32m    283\u001b[0m   initial_state \u001b[38;5;241m=\u001b[39m previous_optimizer_results\n",
      "File \u001b[0;32m~/anaconda3/envs/tf2/lib/python3.8/site-packages/tensorflow_probability/python/optimizer/lbfgs.py:297\u001b[0m, in \u001b[0;36m_get_initial_state\u001b[0;34m(value_and_gradients_function, initial_position, num_correction_pairs, tolerance)\u001b[0m\n\u001b[1;32m    292\u001b[0m \u001b[38;5;28;01mdef\u001b[39;00m \u001b[38;5;21m_get_initial_state\u001b[39m(value_and_gradients_function,\n\u001b[1;32m    293\u001b[0m                        initial_position,\n\u001b[1;32m    294\u001b[0m                        num_correction_pairs,\n\u001b[1;32m    295\u001b[0m                        tolerance):\n\u001b[1;32m    296\u001b[0m   \u001b[38;5;124;03m\"\"\"Create LBfgsOptimizerResults with initial state of search procedure.\"\"\"\u001b[39;00m\n\u001b[0;32m--> 297\u001b[0m   init_args \u001b[38;5;241m=\u001b[39m \u001b[43mbfgs_utils\u001b[49m\u001b[38;5;241;43m.\u001b[39;49m\u001b[43mget_initial_state_args\u001b[49m\u001b[43m(\u001b[49m\n\u001b[1;32m    298\u001b[0m \u001b[43m      \u001b[49m\u001b[43mvalue_and_gradients_function\u001b[49m\u001b[43m,\u001b[49m\n\u001b[1;32m    299\u001b[0m \u001b[43m      \u001b[49m\u001b[43minitial_position\u001b[49m\u001b[43m,\u001b[49m\n\u001b[1;32m    300\u001b[0m \u001b[43m      \u001b[49m\u001b[43mtolerance\u001b[49m\u001b[43m)\u001b[49m\n\u001b[1;32m    301\u001b[0m   empty_queue \u001b[38;5;241m=\u001b[39m _make_empty_queue_for(num_correction_pairs, initial_position)\n\u001b[1;32m    302\u001b[0m   init_args\u001b[38;5;241m.\u001b[39mupdate(position_deltas\u001b[38;5;241m=\u001b[39mempty_queue, gradient_deltas\u001b[38;5;241m=\u001b[39mempty_queue)\n",
      "File \u001b[0;32m~/anaconda3/envs/tf2/lib/python3.8/site-packages/tensorflow_probability/python/optimizer/bfgs_utils.py:77\u001b[0m, in \u001b[0;36mget_initial_state_args\u001b[0;34m(value_and_gradients_function, initial_position, grad_tolerance, control_inputs)\u001b[0m\n\u001b[1;32m     75\u001b[0m     f0, df0 \u001b[38;5;241m=\u001b[39m value_and_gradients_function(initial_position)\n\u001b[1;32m     76\u001b[0m \u001b[38;5;28;01melse\u001b[39;00m:\n\u001b[0;32m---> 77\u001b[0m   f0, df0 \u001b[38;5;241m=\u001b[39m \u001b[43mvalue_and_gradients_function\u001b[49m\u001b[43m(\u001b[49m\u001b[43minitial_position\u001b[49m\u001b[43m)\u001b[49m\n\u001b[1;32m     78\u001b[0m \u001b[38;5;66;03m# This is a gradient-based convergence check.  We only do it for finite\u001b[39;00m\n\u001b[1;32m     79\u001b[0m \u001b[38;5;66;03m# objective values because we assume the gradient reported at a position with\u001b[39;00m\n\u001b[1;32m     80\u001b[0m \u001b[38;5;66;03m# a non-finite objective value is untrustworthy.  The main loop handles\u001b[39;00m\n\u001b[1;32m     81\u001b[0m \u001b[38;5;66;03m# non-finite objective values itself (see `terminate_if_not_finite`).\u001b[39;00m\n\u001b[1;32m     82\u001b[0m init_converged \u001b[38;5;241m=\u001b[39m tf\u001b[38;5;241m.\u001b[39mmath\u001b[38;5;241m.\u001b[39mis_finite(f0) \u001b[38;5;241m&\u001b[39m (norm(df0, dims\u001b[38;5;241m=\u001b[39m\u001b[38;5;241m1\u001b[39m) \u001b[38;5;241m<\u001b[39m grad_tolerance)\n",
      "Input \u001b[0;32mIn [9]\u001b[0m, in \u001b[0;36mmake_val_and_grad_fn.<locals>.val_and_grad\u001b[0;34m(x)\u001b[0m\n\u001b[1;32m      5\u001b[0m \u001b[38;5;129m@functools\u001b[39m\u001b[38;5;241m.\u001b[39mwraps(value_fn)\n\u001b[1;32m      6\u001b[0m \u001b[38;5;28;01mdef\u001b[39;00m \u001b[38;5;21mval_and_grad\u001b[39m(x):\n\u001b[0;32m----> 7\u001b[0m     \u001b[38;5;28;01mreturn\u001b[39;00m \u001b[43mtfp\u001b[49m\u001b[38;5;241;43m.\u001b[39;49m\u001b[43mmath\u001b[49m\u001b[38;5;241;43m.\u001b[39;49m\u001b[43mvalue_and_gradient\u001b[49m\u001b[43m(\u001b[49m\u001b[43mvalue_fn\u001b[49m\u001b[43m,\u001b[49m\u001b[43m \u001b[49m\u001b[43mx\u001b[49m\u001b[43m)\u001b[49m\n",
      "File \u001b[0;32m~/anaconda3/envs/tf2/lib/python3.8/site-packages/tensorflow_probability/python/math/gradient.py:108\u001b[0m, in \u001b[0;36mvalue_and_gradient\u001b[0;34m(f, output_gradients, use_gradient_tape, auto_unpack_single_arg, has_aux, name, *args, **kwargs)\u001b[0m\n\u001b[1;32m     36\u001b[0m \u001b[38;5;124;03m\"\"\"Computes `f(*args, **kwargs)` and its gradients wrt to `args`, `kwargs`.\u001b[39;00m\n\u001b[1;32m     37\u001b[0m \n\u001b[1;32m     38\u001b[0m \u001b[38;5;124;03mThe function `f` is invoked according to one of the following rules:\u001b[39;00m\n\u001b[0;32m   (...)\u001b[0m\n\u001b[1;32m    105\u001b[0m \u001b[38;5;124;03m    are the gradients of `y` with respect to each of `args` and `kwargs`.\u001b[39;00m\n\u001b[1;32m    106\u001b[0m \u001b[38;5;124;03m\"\"\"\u001b[39;00m\n\u001b[1;32m    107\u001b[0m \u001b[38;5;28;01mwith\u001b[39;00m tf\u001b[38;5;241m.\u001b[39mname_scope(name \u001b[38;5;129;01mor\u001b[39;00m \u001b[38;5;124m'\u001b[39m\u001b[38;5;124mvalue_and_gradient\u001b[39m\u001b[38;5;124m'\u001b[39m):\n\u001b[0;32m--> 108\u001b[0m   \u001b[38;5;28;01mreturn\u001b[39;00m \u001b[43m_value_and_grad_impl\u001b[49m\u001b[43m(\u001b[49m\n\u001b[1;32m    109\u001b[0m \u001b[43m      \u001b[49m\u001b[43mf\u001b[49m\u001b[43m,\u001b[49m\n\u001b[1;32m    110\u001b[0m \u001b[43m      \u001b[49m\u001b[43m_gradient_new\u001b[49m\u001b[43m \u001b[49m\u001b[38;5;28;43;01mif\u001b[39;49;00m\u001b[43m \u001b[49m\u001b[43mtf\u001b[49m\u001b[38;5;241;43m.\u001b[39;49m\u001b[43mexecuting_eagerly\u001b[49m\u001b[43m(\u001b[49m\u001b[43m)\u001b[49m\u001b[43m \u001b[49m\u001b[38;5;129;43;01mor\u001b[39;49;00m\u001b[43m \u001b[49m\u001b[43muse_gradient_tape\u001b[49m\u001b[43m \u001b[49m\u001b[38;5;28;43;01melse\u001b[39;49;00m\n\u001b[1;32m    111\u001b[0m \u001b[43m      \u001b[49m\u001b[43m_gradient_old\u001b[49m\u001b[43m,\u001b[49m\n\u001b[1;32m    112\u001b[0m \u001b[43m      \u001b[49m\u001b[38;5;241;43m*\u001b[39;49m\u001b[43margs\u001b[49m\u001b[43m,\u001b[49m\n\u001b[1;32m    113\u001b[0m \u001b[43m      \u001b[49m\u001b[43moutput_gradients\u001b[49m\u001b[38;5;241;43m=\u001b[39;49m\u001b[43moutput_gradients\u001b[49m\u001b[43m,\u001b[49m\n\u001b[1;32m    114\u001b[0m \u001b[43m      \u001b[49m\u001b[43mauto_unpack_single_arg\u001b[49m\u001b[38;5;241;43m=\u001b[39;49m\u001b[43mauto_unpack_single_arg\u001b[49m\u001b[43m,\u001b[49m\n\u001b[1;32m    115\u001b[0m \u001b[43m      \u001b[49m\u001b[43mexpand_tf_modules_as_trainable_vars\u001b[49m\u001b[38;5;241;43m=\u001b[39;49m\u001b[38;5;28;43;01mFalse\u001b[39;49;00m\u001b[43m,\u001b[49m\n\u001b[1;32m    116\u001b[0m \u001b[43m      \u001b[49m\u001b[43mhas_aux\u001b[49m\u001b[38;5;241;43m=\u001b[39;49m\u001b[43mhas_aux\u001b[49m\u001b[43m,\u001b[49m\n\u001b[1;32m    117\u001b[0m \u001b[43m      \u001b[49m\u001b[38;5;241;43m*\u001b[39;49m\u001b[38;5;241;43m*\u001b[39;49m\u001b[43mkwargs\u001b[49m\u001b[43m)\u001b[49m\n",
      "File \u001b[0;32m~/anaconda3/envs/tf2/lib/python3.8/site-packages/tensorflow_probability/python/math/gradient.py:378\u001b[0m, in \u001b[0;36m_value_and_grad_impl\u001b[0;34m(f, grad_fn, output_gradients, auto_unpack_single_arg, expand_tf_modules_as_trainable_vars, has_aux, *args, **kwargs)\u001b[0m\n\u001b[1;32m    374\u001b[0m   real_f \u001b[38;5;241m=\u001b[39m f\n\u001b[1;32m    375\u001b[0m   f \u001b[38;5;241m=\u001b[39m \u001b[38;5;28;01mlambda\u001b[39;00m \u001b[38;5;241m*\u001b[39margs, \u001b[38;5;241m*\u001b[39m\u001b[38;5;241m*\u001b[39mkwargs: (real_f(\u001b[38;5;241m*\u001b[39margs, \u001b[38;5;241m*\u001b[39m\u001b[38;5;241m*\u001b[39mkwargs)  \u001b[38;5;66;03m# pylint: disable=g-long-lambda\u001b[39;00m\n\u001b[1;32m    376\u001b[0m                                \u001b[38;5;28;01mif\u001b[39;00m _has_args(real_f) \u001b[38;5;28;01melse\u001b[39;00m real_f(), ())\n\u001b[0;32m--> 378\u001b[0m y, dydx, aux \u001b[38;5;241m=\u001b[39m \u001b[43mgrad_fn\u001b[49m\u001b[43m(\u001b[49m\u001b[38;5;28;43;01mlambda\u001b[39;49;00m\u001b[43m:\u001b[49m\u001b[43m \u001b[49m\u001b[43mf\u001b[49m\u001b[43m(\u001b[49m\u001b[38;5;241;43m*\u001b[39;49m\u001b[43margs\u001b[49m\u001b[43m,\u001b[49m\u001b[43m \u001b[49m\u001b[38;5;241;43m*\u001b[39;49m\u001b[38;5;241;43m*\u001b[39;49m\u001b[43mkwargs\u001b[49m\u001b[43m)\u001b[49m\u001b[43m \u001b[49m\u001b[38;5;28;43;01mif\u001b[39;49;00m\u001b[43m \u001b[49m\u001b[43m_has_args\u001b[49m\u001b[43m(\u001b[49m\u001b[43mf\u001b[49m\u001b[43m)\u001b[49m\u001b[43m \u001b[49m\u001b[38;5;28;43;01melse\u001b[39;49;00m\u001b[43m \u001b[49m\u001b[43mf\u001b[49m\u001b[43m(\u001b[49m\u001b[43m)\u001b[49m\u001b[43m,\u001b[49m\n\u001b[1;32m    379\u001b[0m \u001b[43m                       \u001b[49m\u001b[43mtf\u001b[49m\u001b[38;5;241;43m.\u001b[39;49m\u001b[43mnest\u001b[49m\u001b[38;5;241;43m.\u001b[39;49m\u001b[43mflatten\u001b[49m\u001b[43m(\u001b[49m\u001b[43m[\u001b[49m\u001b[43mexpand_args\u001b[49m\u001b[43m,\u001b[49m\u001b[43m \u001b[49m\u001b[43mexpand_kwargs\u001b[49m\u001b[43m]\u001b[49m\u001b[43m)\u001b[49m\u001b[43m,\u001b[49m\n\u001b[1;32m    380\u001b[0m \u001b[43m                       \u001b[49m\u001b[43moutput_gradients\u001b[49m\u001b[43m)\u001b[49m\n\u001b[1;32m    381\u001b[0m dydx_args, dydx_kwargs \u001b[38;5;241m=\u001b[39m tf\u001b[38;5;241m.\u001b[39mnest\u001b[38;5;241m.\u001b[39mpack_sequence_as(\n\u001b[1;32m    382\u001b[0m     [expand_args, expand_kwargs], dydx)\n\u001b[1;32m    383\u001b[0m \u001b[38;5;28;01mif\u001b[39;00m \u001b[38;5;28mlen\u001b[39m(args) \u001b[38;5;241m==\u001b[39m \u001b[38;5;241m1\u001b[39m \u001b[38;5;129;01mand\u001b[39;00m \u001b[38;5;129;01mnot\u001b[39;00m do_unpack:\n",
      "File \u001b[0;32m~/anaconda3/envs/tf2/lib/python3.8/site-packages/tensorflow_probability/python/math/gradient.py:331\u001b[0m, in \u001b[0;36m_gradient_old\u001b[0;34m(f, xs, grad_ys)\u001b[0m\n\u001b[1;32m    329\u001b[0m \u001b[38;5;28;01massert\u001b[39;00m \u001b[38;5;129;01mnot\u001b[39;00m tf\u001b[38;5;241m.\u001b[39mexecuting_eagerly()\n\u001b[1;32m    330\u001b[0m y, aux \u001b[38;5;241m=\u001b[39m f()\n\u001b[0;32m--> 331\u001b[0m \u001b[38;5;28;01mreturn\u001b[39;00m y, \u001b[43mtf\u001b[49m\u001b[38;5;241;43m.\u001b[39;49m\u001b[43mgradients\u001b[49m\u001b[43m(\u001b[49m\u001b[43my\u001b[49m\u001b[43m,\u001b[49m\u001b[43m \u001b[49m\u001b[43mxs\u001b[49m\u001b[43m,\u001b[49m\u001b[43m \u001b[49m\u001b[43mgrad_ys\u001b[49m\u001b[38;5;241;43m=\u001b[39;49m\u001b[43mgrad_ys\u001b[49m\u001b[43m)\u001b[49m, aux\n",
      "File \u001b[0;32m~/anaconda3/envs/tf2/lib/python3.8/site-packages/tensorflow/python/ops/gradients_impl.py:315\u001b[0m, in \u001b[0;36mgradients_v2\u001b[0;34m(ys, xs, grad_ys, name, gate_gradients, aggregation_method, stop_gradients, unconnected_gradients)\u001b[0m\n\u001b[1;32m    310\u001b[0m \u001b[38;5;66;03m# Creating the gradient graph for control flow mutates Operations.\u001b[39;00m\n\u001b[1;32m    311\u001b[0m \u001b[38;5;66;03m# _mutation_lock ensures a Session.run call cannot occur between creating and\u001b[39;00m\n\u001b[1;32m    312\u001b[0m \u001b[38;5;66;03m# mutating new ops.\u001b[39;00m\n\u001b[1;32m    313\u001b[0m \u001b[38;5;66;03m# pylint: disable=protected-access\u001b[39;00m\n\u001b[1;32m    314\u001b[0m \u001b[38;5;28;01mwith\u001b[39;00m ops\u001b[38;5;241m.\u001b[39mget_default_graph()\u001b[38;5;241m.\u001b[39m_mutation_lock():\n\u001b[0;32m--> 315\u001b[0m   \u001b[38;5;28;01mreturn\u001b[39;00m \u001b[43mgradients_util\u001b[49m\u001b[38;5;241;43m.\u001b[39;49m\u001b[43m_GradientsHelper\u001b[49m\u001b[43m(\u001b[49m\n\u001b[1;32m    316\u001b[0m \u001b[43m      \u001b[49m\u001b[43mys\u001b[49m\u001b[43m,\u001b[49m\u001b[43m \u001b[49m\u001b[43mxs\u001b[49m\u001b[43m,\u001b[49m\u001b[43m \u001b[49m\u001b[43mgrad_ys\u001b[49m\u001b[43m,\u001b[49m\u001b[43m \u001b[49m\u001b[43mname\u001b[49m\u001b[43m,\u001b[49m\u001b[43m \u001b[49m\u001b[38;5;28;43;01mTrue\u001b[39;49;00m\u001b[43m,\u001b[49m\u001b[43m \u001b[49m\u001b[43mgate_gradients\u001b[49m\u001b[43m,\u001b[49m\n\u001b[1;32m    317\u001b[0m \u001b[43m      \u001b[49m\u001b[43maggregation_method\u001b[49m\u001b[43m,\u001b[49m\u001b[43m \u001b[49m\u001b[43mstop_gradients\u001b[49m\u001b[43m,\u001b[49m\n\u001b[1;32m    318\u001b[0m \u001b[43m      \u001b[49m\u001b[43munconnected_gradients\u001b[49m\u001b[43m)\u001b[49m\n",
      "File \u001b[0;32m~/anaconda3/envs/tf2/lib/python3.8/site-packages/tensorflow/python/ops/gradients_util.py:682\u001b[0m, in \u001b[0;36m_GradientsHelper\u001b[0;34m(ys, xs, grad_ys, name, colocate_gradients_with_ops, gate_gradients, aggregation_method, stop_gradients, unconnected_gradients, src_graph)\u001b[0m\n\u001b[1;32m    677\u001b[0m \u001b[38;5;28;01mwith\u001b[39;00m src_graph\u001b[38;5;241m.\u001b[39m_original_op(op):\n\u001b[1;32m    678\u001b[0m   \u001b[38;5;66;03m# pylint: enable=protected-access\u001b[39;00m\n\u001b[1;32m    679\u001b[0m   \u001b[38;5;28;01mif\u001b[39;00m grad_fn:\n\u001b[1;32m    680\u001b[0m     \u001b[38;5;66;03m# If grad_fn was found, do not use SymbolicGradient even for\u001b[39;00m\n\u001b[1;32m    681\u001b[0m     \u001b[38;5;66;03m# functions.\u001b[39;00m\n\u001b[0;32m--> 682\u001b[0m     in_grads \u001b[38;5;241m=\u001b[39m \u001b[43m_MaybeCompile\u001b[49m\u001b[43m(\u001b[49m\u001b[43mgrad_scope\u001b[49m\u001b[43m,\u001b[49m\u001b[43m \u001b[49m\u001b[43mop\u001b[49m\u001b[43m,\u001b[49m\u001b[43m \u001b[49m\u001b[43mfunc_call\u001b[49m\u001b[43m,\u001b[49m\n\u001b[1;32m    683\u001b[0m \u001b[43m                             \u001b[49m\u001b[38;5;28;43;01mlambda\u001b[39;49;00m\u001b[43m:\u001b[49m\u001b[43m \u001b[49m\u001b[43mgrad_fn\u001b[49m\u001b[43m(\u001b[49m\u001b[43mop\u001b[49m\u001b[43m,\u001b[49m\u001b[43m \u001b[49m\u001b[38;5;241;43m*\u001b[39;49m\u001b[43mout_grads\u001b[49m\u001b[43m)\u001b[49m\u001b[43m)\u001b[49m\n\u001b[1;32m    684\u001b[0m   \u001b[38;5;28;01melse\u001b[39;00m:\n\u001b[1;32m    685\u001b[0m     \u001b[38;5;66;03m# For function call ops, we add a 'SymbolicGradient'\u001b[39;00m\n\u001b[1;32m    686\u001b[0m     \u001b[38;5;66;03m# node to the graph to compute gradients.\u001b[39;00m\n\u001b[1;32m    687\u001b[0m     in_grads \u001b[38;5;241m=\u001b[39m _MaybeCompile(grad_scope, op, func_call,\n\u001b[1;32m    688\u001b[0m                              \u001b[38;5;28;01mlambda\u001b[39;00m: _SymGrad(op, out_grads))\n",
      "File \u001b[0;32m~/anaconda3/envs/tf2/lib/python3.8/site-packages/tensorflow/python/ops/gradients_util.py:331\u001b[0m, in \u001b[0;36m_MaybeCompile\u001b[0;34m(scope, op, func, grad_fn)\u001b[0m\n\u001b[1;32m    328\u001b[0m     xla_compile \u001b[38;5;241m=\u001b[39m \u001b[38;5;28;01mFalse\u001b[39;00m\n\u001b[1;32m    330\u001b[0m \u001b[38;5;28;01mif\u001b[39;00m \u001b[38;5;129;01mnot\u001b[39;00m xla_compile:\n\u001b[0;32m--> 331\u001b[0m   \u001b[38;5;28;01mreturn\u001b[39;00m \u001b[43mgrad_fn\u001b[49m\u001b[43m(\u001b[49m\u001b[43m)\u001b[49m  \u001b[38;5;66;03m# Exit early\u001b[39;00m\n\u001b[1;32m    333\u001b[0m \u001b[38;5;66;03m# If the gradients are supposed to be compiled separately, we give them a\u001b[39;00m\n\u001b[1;32m    334\u001b[0m \u001b[38;5;66;03m# _XlaScope name that is based on the name_scope of the gradients.  Otherwise\u001b[39;00m\n\u001b[1;32m    335\u001b[0m \u001b[38;5;66;03m# they just inherit the existing _XlaScope name, which lets them be merged\u001b[39;00m\n\u001b[1;32m    336\u001b[0m \u001b[38;5;66;03m# together with the non-gradient computation.\u001b[39;00m\n\u001b[1;32m    337\u001b[0m \u001b[38;5;28;01mif\u001b[39;00m xla_separate_compiled_gradients:\n",
      "File \u001b[0;32m~/anaconda3/envs/tf2/lib/python3.8/site-packages/tensorflow/python/ops/gradients_util.py:683\u001b[0m, in \u001b[0;36m_GradientsHelper.<locals>.<lambda>\u001b[0;34m()\u001b[0m\n\u001b[1;32m    677\u001b[0m \u001b[38;5;28;01mwith\u001b[39;00m src_graph\u001b[38;5;241m.\u001b[39m_original_op(op):\n\u001b[1;32m    678\u001b[0m   \u001b[38;5;66;03m# pylint: enable=protected-access\u001b[39;00m\n\u001b[1;32m    679\u001b[0m   \u001b[38;5;28;01mif\u001b[39;00m grad_fn:\n\u001b[1;32m    680\u001b[0m     \u001b[38;5;66;03m# If grad_fn was found, do not use SymbolicGradient even for\u001b[39;00m\n\u001b[1;32m    681\u001b[0m     \u001b[38;5;66;03m# functions.\u001b[39;00m\n\u001b[1;32m    682\u001b[0m     in_grads \u001b[38;5;241m=\u001b[39m _MaybeCompile(grad_scope, op, func_call,\n\u001b[0;32m--> 683\u001b[0m                              \u001b[38;5;28;01mlambda\u001b[39;00m: \u001b[43mgrad_fn\u001b[49m\u001b[43m(\u001b[49m\u001b[43mop\u001b[49m\u001b[43m,\u001b[49m\u001b[43m \u001b[49m\u001b[38;5;241;43m*\u001b[39;49m\u001b[43mout_grads\u001b[49m\u001b[43m)\u001b[49m)\n\u001b[1;32m    684\u001b[0m   \u001b[38;5;28;01melse\u001b[39;00m:\n\u001b[1;32m    685\u001b[0m     \u001b[38;5;66;03m# For function call ops, we add a 'SymbolicGradient'\u001b[39;00m\n\u001b[1;32m    686\u001b[0m     \u001b[38;5;66;03m# node to the graph to compute gradients.\u001b[39;00m\n\u001b[1;32m    687\u001b[0m     in_grads \u001b[38;5;241m=\u001b[39m _MaybeCompile(grad_scope, op, func_call,\n\u001b[1;32m    688\u001b[0m                              \u001b[38;5;28;01mlambda\u001b[39;00m: _SymGrad(op, out_grads))\n",
      "File \u001b[0;32m~/anaconda3/envs/tf2/lib/python3.8/site-packages/tensorflow/python/eager/function.py:767\u001b[0m, in \u001b[0;36m_DelayedRewriteGradientFunctions._rewrite_forward_and_call_backward\u001b[0;34m(self, op, *doutputs)\u001b[0m\n\u001b[1;32m    765\u001b[0m \u001b[38;5;28;01mdef\u001b[39;00m \u001b[38;5;21m_rewrite_forward_and_call_backward\u001b[39m(\u001b[38;5;28mself\u001b[39m, op, \u001b[38;5;241m*\u001b[39mdoutputs):\n\u001b[1;32m    766\u001b[0m   \u001b[38;5;124;03m\"\"\"Add outputs to the forward call and feed them to the grad function.\"\"\"\u001b[39;00m\n\u001b[0;32m--> 767\u001b[0m   forward_function, backwards_function \u001b[38;5;241m=\u001b[39m \u001b[38;5;28;43mself\u001b[39;49m\u001b[38;5;241;43m.\u001b[39;49m\u001b[43mforward_backward\u001b[49m\u001b[43m(\u001b[49m\u001b[38;5;28;43mlen\u001b[39;49m\u001b[43m(\u001b[49m\u001b[43mdoutputs\u001b[49m\u001b[43m)\u001b[49m\u001b[43m)\u001b[49m\n\u001b[1;32m    768\u001b[0m   \u001b[38;5;28;01mif\u001b[39;00m \u001b[38;5;129;01mnot\u001b[39;00m backwards_function\u001b[38;5;241m.\u001b[39moutputs:\n\u001b[1;32m    769\u001b[0m     \u001b[38;5;28;01mreturn\u001b[39;00m backwards_function\u001b[38;5;241m.\u001b[39mstructured_outputs\n",
      "File \u001b[0;32m~/anaconda3/envs/tf2/lib/python3.8/site-packages/tensorflow/python/eager/function.py:700\u001b[0m, in \u001b[0;36m_DelayedRewriteGradientFunctions.forward_backward\u001b[0;34m(self, num_doutputs)\u001b[0m\n\u001b[1;32m    698\u001b[0m \u001b[38;5;28;01mif\u001b[39;00m forward_backward \u001b[38;5;129;01mis\u001b[39;00m \u001b[38;5;129;01mnot\u001b[39;00m \u001b[38;5;28;01mNone\u001b[39;00m:\n\u001b[1;32m    699\u001b[0m   \u001b[38;5;28;01mreturn\u001b[39;00m forward_backward\n\u001b[0;32m--> 700\u001b[0m forward, backward \u001b[38;5;241m=\u001b[39m \u001b[38;5;28;43mself\u001b[39;49m\u001b[38;5;241;43m.\u001b[39;49m\u001b[43m_construct_forward_backward\u001b[49m\u001b[43m(\u001b[49m\u001b[43mnum_doutputs\u001b[49m\u001b[43m)\u001b[49m\n\u001b[1;32m    701\u001b[0m \u001b[38;5;28mself\u001b[39m\u001b[38;5;241m.\u001b[39m_cached_function_pairs[num_doutputs] \u001b[38;5;241m=\u001b[39m (forward, backward)\n\u001b[1;32m    702\u001b[0m \u001b[38;5;28;01mreturn\u001b[39;00m forward, backward\n",
      "File \u001b[0;32m~/anaconda3/envs/tf2/lib/python3.8/site-packages/tensorflow/python/eager/function.py:743\u001b[0m, in \u001b[0;36m_DelayedRewriteGradientFunctions._construct_forward_backward\u001b[0;34m(self, num_doutputs)\u001b[0m\n\u001b[1;32m    740\u001b[0m \u001b[38;5;28;01mwith\u001b[39;00m \u001b[38;5;28mself\u001b[39m\u001b[38;5;241m.\u001b[39m_func_graph\u001b[38;5;241m.\u001b[39mas_default():\n\u001b[1;32m    741\u001b[0m   backwards_graph \u001b[38;5;241m=\u001b[39m func_graph_module\u001b[38;5;241m.\u001b[39mFuncGraph(\n\u001b[1;32m    742\u001b[0m       _backward_name(\u001b[38;5;28mself\u001b[39m\u001b[38;5;241m.\u001b[39m_func_graph\u001b[38;5;241m.\u001b[39mname))\n\u001b[0;32m--> 743\u001b[0m   \u001b[43mfunc_graph_module\u001b[49m\u001b[38;5;241;43m.\u001b[39;49m\u001b[43mfunc_graph_from_py_func\u001b[49m\u001b[43m(\u001b[49m\n\u001b[1;32m    744\u001b[0m \u001b[43m      \u001b[49m\u001b[43mname\u001b[49m\u001b[38;5;241;43m=\u001b[39;49m\u001b[43mbackwards_graph\u001b[49m\u001b[38;5;241;43m.\u001b[39;49m\u001b[43mname\u001b[49m\u001b[43m,\u001b[49m\n\u001b[1;32m    745\u001b[0m \u001b[43m      \u001b[49m\u001b[43mpython_func\u001b[49m\u001b[38;5;241;43m=\u001b[39;49m\u001b[43m_backprop_function\u001b[49m\u001b[43m,\u001b[49m\n\u001b[1;32m    746\u001b[0m \u001b[43m      \u001b[49m\u001b[43margs\u001b[49m\u001b[38;5;241;43m=\u001b[39;49m\u001b[43m[\u001b[49m\u001b[43m]\u001b[49m\u001b[43m,\u001b[49m\u001b[43m \u001b[49m\u001b[43mkwargs\u001b[49m\u001b[38;5;241;43m=\u001b[39;49m\u001b[43m{\u001b[49m\u001b[43m}\u001b[49m\u001b[43m,\u001b[49m\n\u001b[1;32m    747\u001b[0m \u001b[43m      \u001b[49m\u001b[43msignature\u001b[49m\u001b[38;5;241;43m=\u001b[39;49m\u001b[43msignature\u001b[49m\u001b[43m,\u001b[49m\n\u001b[1;32m    748\u001b[0m \u001b[43m      \u001b[49m\u001b[43mfunc_graph\u001b[49m\u001b[38;5;241;43m=\u001b[39;49m\u001b[43mbackwards_graph\u001b[49m\u001b[43m)\u001b[49m\n\u001b[1;32m    749\u001b[0m   backwards_graph_captures \u001b[38;5;241m=\u001b[39m backwards_graph\u001b[38;5;241m.\u001b[39mexternal_captures\n\u001b[1;32m    750\u001b[0m   captures_from_forward \u001b[38;5;241m=\u001b[39m [\n\u001b[1;32m    751\u001b[0m       c \u001b[38;5;28;01mfor\u001b[39;00m c \u001b[38;5;129;01min\u001b[39;00m backwards_graph_captures \u001b[38;5;28;01mif\u001b[39;00m\n\u001b[1;32m    752\u001b[0m       \u001b[38;5;129;01mnot\u001b[39;00m \u001b[38;5;28misinstance\u001b[39m(c, ops\u001b[38;5;241m.\u001b[39mEagerTensor) \u001b[38;5;129;01mand\u001b[39;00m c\u001b[38;5;241m.\u001b[39mgraph \u001b[38;5;129;01mis\u001b[39;00m \u001b[38;5;28mself\u001b[39m\u001b[38;5;241m.\u001b[39m_func_graph]\n",
      "File \u001b[0;32m~/anaconda3/envs/tf2/lib/python3.8/site-packages/tensorflow/python/framework/func_graph.py:1143\u001b[0m, in \u001b[0;36mfunc_graph_from_py_func\u001b[0;34m(name, python_func, args, kwargs, signature, func_graph, autograph, autograph_options, add_control_dependencies, arg_names, op_return_value, collections, capture_by_value, override_flat_arg_shapes, acd_record_initial_resource_uses)\u001b[0m\n\u001b[1;32m   1140\u001b[0m \u001b[38;5;28;01melse\u001b[39;00m:\n\u001b[1;32m   1141\u001b[0m   _, original_func \u001b[38;5;241m=\u001b[39m tf_decorator\u001b[38;5;241m.\u001b[39munwrap(python_func)\n\u001b[0;32m-> 1143\u001b[0m func_outputs \u001b[38;5;241m=\u001b[39m \u001b[43mpython_func\u001b[49m\u001b[43m(\u001b[49m\u001b[38;5;241;43m*\u001b[39;49m\u001b[43mfunc_args\u001b[49m\u001b[43m,\u001b[49m\u001b[43m \u001b[49m\u001b[38;5;241;43m*\u001b[39;49m\u001b[38;5;241;43m*\u001b[39;49m\u001b[43mfunc_kwargs\u001b[49m\u001b[43m)\u001b[49m\n\u001b[1;32m   1145\u001b[0m \u001b[38;5;66;03m# invariant: `func_outputs` contains only Tensors, CompositeTensors,\u001b[39;00m\n\u001b[1;32m   1146\u001b[0m \u001b[38;5;66;03m# TensorArrays and `None`s.\u001b[39;00m\n\u001b[1;32m   1147\u001b[0m func_outputs \u001b[38;5;241m=\u001b[39m nest\u001b[38;5;241m.\u001b[39mmap_structure(convert, func_outputs,\n\u001b[1;32m   1148\u001b[0m                                   expand_composites\u001b[38;5;241m=\u001b[39m\u001b[38;5;28;01mTrue\u001b[39;00m)\n",
      "File \u001b[0;32m~/anaconda3/envs/tf2/lib/python3.8/site-packages/tensorflow/python/eager/function.py:734\u001b[0m, in \u001b[0;36m_DelayedRewriteGradientFunctions._construct_forward_backward.<locals>._backprop_function\u001b[0;34m(*grad_ys)\u001b[0m\n\u001b[1;32m    732\u001b[0m \u001b[38;5;28;01mdef\u001b[39;00m \u001b[38;5;21m_backprop_function\u001b[39m(\u001b[38;5;241m*\u001b[39mgrad_ys):\n\u001b[1;32m    733\u001b[0m   \u001b[38;5;28;01mwith\u001b[39;00m ops\u001b[38;5;241m.\u001b[39mdevice(\u001b[38;5;28;01mNone\u001b[39;00m):\n\u001b[0;32m--> 734\u001b[0m     \u001b[38;5;28;01mreturn\u001b[39;00m \u001b[43mgradients_util\u001b[49m\u001b[38;5;241;43m.\u001b[39;49m\u001b[43m_GradientsHelper\u001b[49m\u001b[43m(\u001b[49m\u001b[43m  \u001b[49m\u001b[38;5;66;43;03m# pylint: disable=protected-access\u001b[39;49;00m\n\u001b[1;32m    735\u001b[0m \u001b[43m        \u001b[49m\u001b[43mtrainable_outputs\u001b[49m\u001b[43m,\u001b[49m\n\u001b[1;32m    736\u001b[0m \u001b[43m        \u001b[49m\u001b[38;5;28;43mself\u001b[39;49m\u001b[38;5;241;43m.\u001b[39;49m\u001b[43m_func_graph\u001b[49m\u001b[38;5;241;43m.\u001b[39;49m\u001b[43minputs\u001b[49m\u001b[43m,\u001b[49m\n\u001b[1;32m    737\u001b[0m \u001b[43m        \u001b[49m\u001b[43mgrad_ys\u001b[49m\u001b[38;5;241;43m=\u001b[39;49m\u001b[43mgrad_ys\u001b[49m\u001b[43m,\u001b[49m\n\u001b[1;32m    738\u001b[0m \u001b[43m        \u001b[49m\u001b[43msrc_graph\u001b[49m\u001b[38;5;241;43m=\u001b[39;49m\u001b[38;5;28;43mself\u001b[39;49m\u001b[38;5;241;43m.\u001b[39;49m\u001b[43m_func_graph\u001b[49m\u001b[43m)\u001b[49m\n",
      "File \u001b[0;32m~/anaconda3/envs/tf2/lib/python3.8/site-packages/tensorflow/python/ops/gradients_util.py:682\u001b[0m, in \u001b[0;36m_GradientsHelper\u001b[0;34m(ys, xs, grad_ys, name, colocate_gradients_with_ops, gate_gradients, aggregation_method, stop_gradients, unconnected_gradients, src_graph)\u001b[0m\n\u001b[1;32m    677\u001b[0m \u001b[38;5;28;01mwith\u001b[39;00m src_graph\u001b[38;5;241m.\u001b[39m_original_op(op):\n\u001b[1;32m    678\u001b[0m   \u001b[38;5;66;03m# pylint: enable=protected-access\u001b[39;00m\n\u001b[1;32m    679\u001b[0m   \u001b[38;5;28;01mif\u001b[39;00m grad_fn:\n\u001b[1;32m    680\u001b[0m     \u001b[38;5;66;03m# If grad_fn was found, do not use SymbolicGradient even for\u001b[39;00m\n\u001b[1;32m    681\u001b[0m     \u001b[38;5;66;03m# functions.\u001b[39;00m\n\u001b[0;32m--> 682\u001b[0m     in_grads \u001b[38;5;241m=\u001b[39m \u001b[43m_MaybeCompile\u001b[49m\u001b[43m(\u001b[49m\u001b[43mgrad_scope\u001b[49m\u001b[43m,\u001b[49m\u001b[43m \u001b[49m\u001b[43mop\u001b[49m\u001b[43m,\u001b[49m\u001b[43m \u001b[49m\u001b[43mfunc_call\u001b[49m\u001b[43m,\u001b[49m\n\u001b[1;32m    683\u001b[0m \u001b[43m                             \u001b[49m\u001b[38;5;28;43;01mlambda\u001b[39;49;00m\u001b[43m:\u001b[49m\u001b[43m \u001b[49m\u001b[43mgrad_fn\u001b[49m\u001b[43m(\u001b[49m\u001b[43mop\u001b[49m\u001b[43m,\u001b[49m\u001b[43m \u001b[49m\u001b[38;5;241;43m*\u001b[39;49m\u001b[43mout_grads\u001b[49m\u001b[43m)\u001b[49m\u001b[43m)\u001b[49m\n\u001b[1;32m    684\u001b[0m   \u001b[38;5;28;01melse\u001b[39;00m:\n\u001b[1;32m    685\u001b[0m     \u001b[38;5;66;03m# For function call ops, we add a 'SymbolicGradient'\u001b[39;00m\n\u001b[1;32m    686\u001b[0m     \u001b[38;5;66;03m# node to the graph to compute gradients.\u001b[39;00m\n\u001b[1;32m    687\u001b[0m     in_grads \u001b[38;5;241m=\u001b[39m _MaybeCompile(grad_scope, op, func_call,\n\u001b[1;32m    688\u001b[0m                              \u001b[38;5;28;01mlambda\u001b[39;00m: _SymGrad(op, out_grads))\n",
      "File \u001b[0;32m~/anaconda3/envs/tf2/lib/python3.8/site-packages/tensorflow/python/ops/gradients_util.py:331\u001b[0m, in \u001b[0;36m_MaybeCompile\u001b[0;34m(scope, op, func, grad_fn)\u001b[0m\n\u001b[1;32m    328\u001b[0m     xla_compile \u001b[38;5;241m=\u001b[39m \u001b[38;5;28;01mFalse\u001b[39;00m\n\u001b[1;32m    330\u001b[0m \u001b[38;5;28;01mif\u001b[39;00m \u001b[38;5;129;01mnot\u001b[39;00m xla_compile:\n\u001b[0;32m--> 331\u001b[0m   \u001b[38;5;28;01mreturn\u001b[39;00m \u001b[43mgrad_fn\u001b[49m\u001b[43m(\u001b[49m\u001b[43m)\u001b[49m  \u001b[38;5;66;03m# Exit early\u001b[39;00m\n\u001b[1;32m    333\u001b[0m \u001b[38;5;66;03m# If the gradients are supposed to be compiled separately, we give them a\u001b[39;00m\n\u001b[1;32m    334\u001b[0m \u001b[38;5;66;03m# _XlaScope name that is based on the name_scope of the gradients.  Otherwise\u001b[39;00m\n\u001b[1;32m    335\u001b[0m \u001b[38;5;66;03m# they just inherit the existing _XlaScope name, which lets them be merged\u001b[39;00m\n\u001b[1;32m    336\u001b[0m \u001b[38;5;66;03m# together with the non-gradient computation.\u001b[39;00m\n\u001b[1;32m    337\u001b[0m \u001b[38;5;28;01mif\u001b[39;00m xla_separate_compiled_gradients:\n",
      "File \u001b[0;32m~/anaconda3/envs/tf2/lib/python3.8/site-packages/tensorflow/python/ops/gradients_util.py:683\u001b[0m, in \u001b[0;36m_GradientsHelper.<locals>.<lambda>\u001b[0;34m()\u001b[0m\n\u001b[1;32m    677\u001b[0m \u001b[38;5;28;01mwith\u001b[39;00m src_graph\u001b[38;5;241m.\u001b[39m_original_op(op):\n\u001b[1;32m    678\u001b[0m   \u001b[38;5;66;03m# pylint: enable=protected-access\u001b[39;00m\n\u001b[1;32m    679\u001b[0m   \u001b[38;5;28;01mif\u001b[39;00m grad_fn:\n\u001b[1;32m    680\u001b[0m     \u001b[38;5;66;03m# If grad_fn was found, do not use SymbolicGradient even for\u001b[39;00m\n\u001b[1;32m    681\u001b[0m     \u001b[38;5;66;03m# functions.\u001b[39;00m\n\u001b[1;32m    682\u001b[0m     in_grads \u001b[38;5;241m=\u001b[39m _MaybeCompile(grad_scope, op, func_call,\n\u001b[0;32m--> 683\u001b[0m                              \u001b[38;5;28;01mlambda\u001b[39;00m: \u001b[43mgrad_fn\u001b[49m\u001b[43m(\u001b[49m\u001b[43mop\u001b[49m\u001b[43m,\u001b[49m\u001b[43m \u001b[49m\u001b[38;5;241;43m*\u001b[39;49m\u001b[43mout_grads\u001b[49m\u001b[43m)\u001b[49m)\n\u001b[1;32m    684\u001b[0m   \u001b[38;5;28;01melse\u001b[39;00m:\n\u001b[1;32m    685\u001b[0m     \u001b[38;5;66;03m# For function call ops, we add a 'SymbolicGradient'\u001b[39;00m\n\u001b[1;32m    686\u001b[0m     \u001b[38;5;66;03m# node to the graph to compute gradients.\u001b[39;00m\n\u001b[1;32m    687\u001b[0m     in_grads \u001b[38;5;241m=\u001b[39m _MaybeCompile(grad_scope, op, func_call,\n\u001b[1;32m    688\u001b[0m                              \u001b[38;5;28;01mlambda\u001b[39;00m: _SymGrad(op, out_grads))\n",
      "File \u001b[0;32m~/anaconda3/envs/tf2/lib/python3.8/site-packages/tensorflow/python/eager/function.py:767\u001b[0m, in \u001b[0;36m_DelayedRewriteGradientFunctions._rewrite_forward_and_call_backward\u001b[0;34m(self, op, *doutputs)\u001b[0m\n\u001b[1;32m    765\u001b[0m \u001b[38;5;28;01mdef\u001b[39;00m \u001b[38;5;21m_rewrite_forward_and_call_backward\u001b[39m(\u001b[38;5;28mself\u001b[39m, op, \u001b[38;5;241m*\u001b[39mdoutputs):\n\u001b[1;32m    766\u001b[0m   \u001b[38;5;124;03m\"\"\"Add outputs to the forward call and feed them to the grad function.\"\"\"\u001b[39;00m\n\u001b[0;32m--> 767\u001b[0m   forward_function, backwards_function \u001b[38;5;241m=\u001b[39m \u001b[38;5;28;43mself\u001b[39;49m\u001b[38;5;241;43m.\u001b[39;49m\u001b[43mforward_backward\u001b[49m\u001b[43m(\u001b[49m\u001b[38;5;28;43mlen\u001b[39;49m\u001b[43m(\u001b[49m\u001b[43mdoutputs\u001b[49m\u001b[43m)\u001b[49m\u001b[43m)\u001b[49m\n\u001b[1;32m    768\u001b[0m   \u001b[38;5;28;01mif\u001b[39;00m \u001b[38;5;129;01mnot\u001b[39;00m backwards_function\u001b[38;5;241m.\u001b[39moutputs:\n\u001b[1;32m    769\u001b[0m     \u001b[38;5;28;01mreturn\u001b[39;00m backwards_function\u001b[38;5;241m.\u001b[39mstructured_outputs\n",
      "File \u001b[0;32m~/anaconda3/envs/tf2/lib/python3.8/site-packages/tensorflow/python/eager/function.py:700\u001b[0m, in \u001b[0;36m_DelayedRewriteGradientFunctions.forward_backward\u001b[0;34m(self, num_doutputs)\u001b[0m\n\u001b[1;32m    698\u001b[0m \u001b[38;5;28;01mif\u001b[39;00m forward_backward \u001b[38;5;129;01mis\u001b[39;00m \u001b[38;5;129;01mnot\u001b[39;00m \u001b[38;5;28;01mNone\u001b[39;00m:\n\u001b[1;32m    699\u001b[0m   \u001b[38;5;28;01mreturn\u001b[39;00m forward_backward\n\u001b[0;32m--> 700\u001b[0m forward, backward \u001b[38;5;241m=\u001b[39m \u001b[38;5;28;43mself\u001b[39;49m\u001b[38;5;241;43m.\u001b[39;49m\u001b[43m_construct_forward_backward\u001b[49m\u001b[43m(\u001b[49m\u001b[43mnum_doutputs\u001b[49m\u001b[43m)\u001b[49m\n\u001b[1;32m    701\u001b[0m \u001b[38;5;28mself\u001b[39m\u001b[38;5;241m.\u001b[39m_cached_function_pairs[num_doutputs] \u001b[38;5;241m=\u001b[39m (forward, backward)\n\u001b[1;32m    702\u001b[0m \u001b[38;5;28;01mreturn\u001b[39;00m forward, backward\n",
      "File \u001b[0;32m~/anaconda3/envs/tf2/lib/python3.8/site-packages/tensorflow/python/eager/function.py:743\u001b[0m, in \u001b[0;36m_DelayedRewriteGradientFunctions._construct_forward_backward\u001b[0;34m(self, num_doutputs)\u001b[0m\n\u001b[1;32m    740\u001b[0m \u001b[38;5;28;01mwith\u001b[39;00m \u001b[38;5;28mself\u001b[39m\u001b[38;5;241m.\u001b[39m_func_graph\u001b[38;5;241m.\u001b[39mas_default():\n\u001b[1;32m    741\u001b[0m   backwards_graph \u001b[38;5;241m=\u001b[39m func_graph_module\u001b[38;5;241m.\u001b[39mFuncGraph(\n\u001b[1;32m    742\u001b[0m       _backward_name(\u001b[38;5;28mself\u001b[39m\u001b[38;5;241m.\u001b[39m_func_graph\u001b[38;5;241m.\u001b[39mname))\n\u001b[0;32m--> 743\u001b[0m   \u001b[43mfunc_graph_module\u001b[49m\u001b[38;5;241;43m.\u001b[39;49m\u001b[43mfunc_graph_from_py_func\u001b[49m\u001b[43m(\u001b[49m\n\u001b[1;32m    744\u001b[0m \u001b[43m      \u001b[49m\u001b[43mname\u001b[49m\u001b[38;5;241;43m=\u001b[39;49m\u001b[43mbackwards_graph\u001b[49m\u001b[38;5;241;43m.\u001b[39;49m\u001b[43mname\u001b[49m\u001b[43m,\u001b[49m\n\u001b[1;32m    745\u001b[0m \u001b[43m      \u001b[49m\u001b[43mpython_func\u001b[49m\u001b[38;5;241;43m=\u001b[39;49m\u001b[43m_backprop_function\u001b[49m\u001b[43m,\u001b[49m\n\u001b[1;32m    746\u001b[0m \u001b[43m      \u001b[49m\u001b[43margs\u001b[49m\u001b[38;5;241;43m=\u001b[39;49m\u001b[43m[\u001b[49m\u001b[43m]\u001b[49m\u001b[43m,\u001b[49m\u001b[43m \u001b[49m\u001b[43mkwargs\u001b[49m\u001b[38;5;241;43m=\u001b[39;49m\u001b[43m{\u001b[49m\u001b[43m}\u001b[49m\u001b[43m,\u001b[49m\n\u001b[1;32m    747\u001b[0m \u001b[43m      \u001b[49m\u001b[43msignature\u001b[49m\u001b[38;5;241;43m=\u001b[39;49m\u001b[43msignature\u001b[49m\u001b[43m,\u001b[49m\n\u001b[1;32m    748\u001b[0m \u001b[43m      \u001b[49m\u001b[43mfunc_graph\u001b[49m\u001b[38;5;241;43m=\u001b[39;49m\u001b[43mbackwards_graph\u001b[49m\u001b[43m)\u001b[49m\n\u001b[1;32m    749\u001b[0m   backwards_graph_captures \u001b[38;5;241m=\u001b[39m backwards_graph\u001b[38;5;241m.\u001b[39mexternal_captures\n\u001b[1;32m    750\u001b[0m   captures_from_forward \u001b[38;5;241m=\u001b[39m [\n\u001b[1;32m    751\u001b[0m       c \u001b[38;5;28;01mfor\u001b[39;00m c \u001b[38;5;129;01min\u001b[39;00m backwards_graph_captures \u001b[38;5;28;01mif\u001b[39;00m\n\u001b[1;32m    752\u001b[0m       \u001b[38;5;129;01mnot\u001b[39;00m \u001b[38;5;28misinstance\u001b[39m(c, ops\u001b[38;5;241m.\u001b[39mEagerTensor) \u001b[38;5;129;01mand\u001b[39;00m c\u001b[38;5;241m.\u001b[39mgraph \u001b[38;5;129;01mis\u001b[39;00m \u001b[38;5;28mself\u001b[39m\u001b[38;5;241m.\u001b[39m_func_graph]\n",
      "File \u001b[0;32m~/anaconda3/envs/tf2/lib/python3.8/site-packages/tensorflow/python/framework/func_graph.py:1143\u001b[0m, in \u001b[0;36mfunc_graph_from_py_func\u001b[0;34m(name, python_func, args, kwargs, signature, func_graph, autograph, autograph_options, add_control_dependencies, arg_names, op_return_value, collections, capture_by_value, override_flat_arg_shapes, acd_record_initial_resource_uses)\u001b[0m\n\u001b[1;32m   1140\u001b[0m \u001b[38;5;28;01melse\u001b[39;00m:\n\u001b[1;32m   1141\u001b[0m   _, original_func \u001b[38;5;241m=\u001b[39m tf_decorator\u001b[38;5;241m.\u001b[39munwrap(python_func)\n\u001b[0;32m-> 1143\u001b[0m func_outputs \u001b[38;5;241m=\u001b[39m \u001b[43mpython_func\u001b[49m\u001b[43m(\u001b[49m\u001b[38;5;241;43m*\u001b[39;49m\u001b[43mfunc_args\u001b[49m\u001b[43m,\u001b[49m\u001b[43m \u001b[49m\u001b[38;5;241;43m*\u001b[39;49m\u001b[38;5;241;43m*\u001b[39;49m\u001b[43mfunc_kwargs\u001b[49m\u001b[43m)\u001b[49m\n\u001b[1;32m   1145\u001b[0m \u001b[38;5;66;03m# invariant: `func_outputs` contains only Tensors, CompositeTensors,\u001b[39;00m\n\u001b[1;32m   1146\u001b[0m \u001b[38;5;66;03m# TensorArrays and `None`s.\u001b[39;00m\n\u001b[1;32m   1147\u001b[0m func_outputs \u001b[38;5;241m=\u001b[39m nest\u001b[38;5;241m.\u001b[39mmap_structure(convert, func_outputs,\n\u001b[1;32m   1148\u001b[0m                                   expand_composites\u001b[38;5;241m=\u001b[39m\u001b[38;5;28;01mTrue\u001b[39;00m)\n",
      "File \u001b[0;32m~/anaconda3/envs/tf2/lib/python3.8/site-packages/tensorflow/python/eager/function.py:734\u001b[0m, in \u001b[0;36m_DelayedRewriteGradientFunctions._construct_forward_backward.<locals>._backprop_function\u001b[0;34m(*grad_ys)\u001b[0m\n\u001b[1;32m    732\u001b[0m \u001b[38;5;28;01mdef\u001b[39;00m \u001b[38;5;21m_backprop_function\u001b[39m(\u001b[38;5;241m*\u001b[39mgrad_ys):\n\u001b[1;32m    733\u001b[0m   \u001b[38;5;28;01mwith\u001b[39;00m ops\u001b[38;5;241m.\u001b[39mdevice(\u001b[38;5;28;01mNone\u001b[39;00m):\n\u001b[0;32m--> 734\u001b[0m     \u001b[38;5;28;01mreturn\u001b[39;00m \u001b[43mgradients_util\u001b[49m\u001b[38;5;241;43m.\u001b[39;49m\u001b[43m_GradientsHelper\u001b[49m\u001b[43m(\u001b[49m\u001b[43m  \u001b[49m\u001b[38;5;66;43;03m# pylint: disable=protected-access\u001b[39;49;00m\n\u001b[1;32m    735\u001b[0m \u001b[43m        \u001b[49m\u001b[43mtrainable_outputs\u001b[49m\u001b[43m,\u001b[49m\n\u001b[1;32m    736\u001b[0m \u001b[43m        \u001b[49m\u001b[38;5;28;43mself\u001b[39;49m\u001b[38;5;241;43m.\u001b[39;49m\u001b[43m_func_graph\u001b[49m\u001b[38;5;241;43m.\u001b[39;49m\u001b[43minputs\u001b[49m\u001b[43m,\u001b[49m\n\u001b[1;32m    737\u001b[0m \u001b[43m        \u001b[49m\u001b[43mgrad_ys\u001b[49m\u001b[38;5;241;43m=\u001b[39;49m\u001b[43mgrad_ys\u001b[49m\u001b[43m,\u001b[49m\n\u001b[1;32m    738\u001b[0m \u001b[43m        \u001b[49m\u001b[43msrc_graph\u001b[49m\u001b[38;5;241;43m=\u001b[39;49m\u001b[38;5;28;43mself\u001b[39;49m\u001b[38;5;241;43m.\u001b[39;49m\u001b[43m_func_graph\u001b[49m\u001b[43m)\u001b[49m\n",
      "File \u001b[0;32m~/anaconda3/envs/tf2/lib/python3.8/site-packages/tensorflow/python/ops/gradients_util.py:682\u001b[0m, in \u001b[0;36m_GradientsHelper\u001b[0;34m(ys, xs, grad_ys, name, colocate_gradients_with_ops, gate_gradients, aggregation_method, stop_gradients, unconnected_gradients, src_graph)\u001b[0m\n\u001b[1;32m    677\u001b[0m \u001b[38;5;28;01mwith\u001b[39;00m src_graph\u001b[38;5;241m.\u001b[39m_original_op(op):\n\u001b[1;32m    678\u001b[0m   \u001b[38;5;66;03m# pylint: enable=protected-access\u001b[39;00m\n\u001b[1;32m    679\u001b[0m   \u001b[38;5;28;01mif\u001b[39;00m grad_fn:\n\u001b[1;32m    680\u001b[0m     \u001b[38;5;66;03m# If grad_fn was found, do not use SymbolicGradient even for\u001b[39;00m\n\u001b[1;32m    681\u001b[0m     \u001b[38;5;66;03m# functions.\u001b[39;00m\n\u001b[0;32m--> 682\u001b[0m     in_grads \u001b[38;5;241m=\u001b[39m \u001b[43m_MaybeCompile\u001b[49m\u001b[43m(\u001b[49m\u001b[43mgrad_scope\u001b[49m\u001b[43m,\u001b[49m\u001b[43m \u001b[49m\u001b[43mop\u001b[49m\u001b[43m,\u001b[49m\u001b[43m \u001b[49m\u001b[43mfunc_call\u001b[49m\u001b[43m,\u001b[49m\n\u001b[1;32m    683\u001b[0m \u001b[43m                             \u001b[49m\u001b[38;5;28;43;01mlambda\u001b[39;49;00m\u001b[43m:\u001b[49m\u001b[43m \u001b[49m\u001b[43mgrad_fn\u001b[49m\u001b[43m(\u001b[49m\u001b[43mop\u001b[49m\u001b[43m,\u001b[49m\u001b[43m \u001b[49m\u001b[38;5;241;43m*\u001b[39;49m\u001b[43mout_grads\u001b[49m\u001b[43m)\u001b[49m\u001b[43m)\u001b[49m\n\u001b[1;32m    684\u001b[0m   \u001b[38;5;28;01melse\u001b[39;00m:\n\u001b[1;32m    685\u001b[0m     \u001b[38;5;66;03m# For function call ops, we add a 'SymbolicGradient'\u001b[39;00m\n\u001b[1;32m    686\u001b[0m     \u001b[38;5;66;03m# node to the graph to compute gradients.\u001b[39;00m\n\u001b[1;32m    687\u001b[0m     in_grads \u001b[38;5;241m=\u001b[39m _MaybeCompile(grad_scope, op, func_call,\n\u001b[1;32m    688\u001b[0m                              \u001b[38;5;28;01mlambda\u001b[39;00m: _SymGrad(op, out_grads))\n",
      "File \u001b[0;32m~/anaconda3/envs/tf2/lib/python3.8/site-packages/tensorflow/python/ops/gradients_util.py:331\u001b[0m, in \u001b[0;36m_MaybeCompile\u001b[0;34m(scope, op, func, grad_fn)\u001b[0m\n\u001b[1;32m    328\u001b[0m     xla_compile \u001b[38;5;241m=\u001b[39m \u001b[38;5;28;01mFalse\u001b[39;00m\n\u001b[1;32m    330\u001b[0m \u001b[38;5;28;01mif\u001b[39;00m \u001b[38;5;129;01mnot\u001b[39;00m xla_compile:\n\u001b[0;32m--> 331\u001b[0m   \u001b[38;5;28;01mreturn\u001b[39;00m \u001b[43mgrad_fn\u001b[49m\u001b[43m(\u001b[49m\u001b[43m)\u001b[49m  \u001b[38;5;66;03m# Exit early\u001b[39;00m\n\u001b[1;32m    333\u001b[0m \u001b[38;5;66;03m# If the gradients are supposed to be compiled separately, we give them a\u001b[39;00m\n\u001b[1;32m    334\u001b[0m \u001b[38;5;66;03m# _XlaScope name that is based on the name_scope of the gradients.  Otherwise\u001b[39;00m\n\u001b[1;32m    335\u001b[0m \u001b[38;5;66;03m# they just inherit the existing _XlaScope name, which lets them be merged\u001b[39;00m\n\u001b[1;32m    336\u001b[0m \u001b[38;5;66;03m# together with the non-gradient computation.\u001b[39;00m\n\u001b[1;32m    337\u001b[0m \u001b[38;5;28;01mif\u001b[39;00m xla_separate_compiled_gradients:\n",
      "File \u001b[0;32m~/anaconda3/envs/tf2/lib/python3.8/site-packages/tensorflow/python/ops/gradients_util.py:683\u001b[0m, in \u001b[0;36m_GradientsHelper.<locals>.<lambda>\u001b[0;34m()\u001b[0m\n\u001b[1;32m    677\u001b[0m \u001b[38;5;28;01mwith\u001b[39;00m src_graph\u001b[38;5;241m.\u001b[39m_original_op(op):\n\u001b[1;32m    678\u001b[0m   \u001b[38;5;66;03m# pylint: enable=protected-access\u001b[39;00m\n\u001b[1;32m    679\u001b[0m   \u001b[38;5;28;01mif\u001b[39;00m grad_fn:\n\u001b[1;32m    680\u001b[0m     \u001b[38;5;66;03m# If grad_fn was found, do not use SymbolicGradient even for\u001b[39;00m\n\u001b[1;32m    681\u001b[0m     \u001b[38;5;66;03m# functions.\u001b[39;00m\n\u001b[1;32m    682\u001b[0m     in_grads \u001b[38;5;241m=\u001b[39m _MaybeCompile(grad_scope, op, func_call,\n\u001b[0;32m--> 683\u001b[0m                              \u001b[38;5;28;01mlambda\u001b[39;00m: \u001b[43mgrad_fn\u001b[49m\u001b[43m(\u001b[49m\u001b[43mop\u001b[49m\u001b[43m,\u001b[49m\u001b[43m \u001b[49m\u001b[38;5;241;43m*\u001b[39;49m\u001b[43mout_grads\u001b[49m\u001b[43m)\u001b[49m)\n\u001b[1;32m    684\u001b[0m   \u001b[38;5;28;01melse\u001b[39;00m:\n\u001b[1;32m    685\u001b[0m     \u001b[38;5;66;03m# For function call ops, we add a 'SymbolicGradient'\u001b[39;00m\n\u001b[1;32m    686\u001b[0m     \u001b[38;5;66;03m# node to the graph to compute gradients.\u001b[39;00m\n\u001b[1;32m    687\u001b[0m     in_grads \u001b[38;5;241m=\u001b[39m _MaybeCompile(grad_scope, op, func_call,\n\u001b[1;32m    688\u001b[0m                              \u001b[38;5;28;01mlambda\u001b[39;00m: _SymGrad(op, out_grads))\n",
      "File \u001b[0;32m~/anaconda3/envs/tf2/lib/python3.8/site-packages/tensorflow/python/ops/while_v2.py:447\u001b[0m, in \u001b[0;36m_WhileGrad\u001b[0;34m(op, *grads)\u001b[0m\n\u001b[1;32m    441\u001b[0m cond_grad_graph \u001b[38;5;241m=\u001b[39m func_graph_module\u001b[38;5;241m.\u001b[39mfunc_graph_from_py_func(\n\u001b[1;32m    442\u001b[0m     grad_cond_name, grad_cond, loop_vars, {},\n\u001b[1;32m    443\u001b[0m     func_graph\u001b[38;5;241m=\u001b[39mutil\u001b[38;5;241m.\u001b[39mWhileCondFuncGraph(grad_cond_name))\n\u001b[1;32m    445\u001b[0m _check_num_inputs_outputs(cond_grad_graph, body_grad_graph, \u001b[38;5;28mlen\u001b[39m(loop_vars))\n\u001b[0;32m--> 447\u001b[0m outputs \u001b[38;5;241m=\u001b[39m \u001b[43m_build_while_op\u001b[49m\u001b[43m(\u001b[49m\n\u001b[1;32m    448\u001b[0m \u001b[43m    \u001b[49m\u001b[43mloop_vars\u001b[49m\u001b[43m,\u001b[49m\n\u001b[1;32m    449\u001b[0m \u001b[43m    \u001b[49m\u001b[43mcond_grad_graph\u001b[49m\u001b[43m,\u001b[49m\n\u001b[1;32m    450\u001b[0m \u001b[43m    \u001b[49m\u001b[43mbody_grad_graph\u001b[49m\u001b[43m,\u001b[49m\n\u001b[1;32m    451\u001b[0m \u001b[43m    \u001b[49m\u001b[43moutput_shapes\u001b[49m\u001b[38;5;241;43m=\u001b[39;49m\u001b[43m[\u001b[49m\u001b[43mt\u001b[49m\u001b[38;5;241;43m.\u001b[39;49m\u001b[43mshape\u001b[49m\u001b[43m \u001b[49m\u001b[38;5;28;43;01mfor\u001b[39;49;00m\u001b[43m \u001b[49m\u001b[43mt\u001b[49m\u001b[43m \u001b[49m\u001b[38;5;129;43;01min\u001b[39;49;00m\u001b[43m \u001b[49m\u001b[43mbody_grad_graph\u001b[49m\u001b[38;5;241;43m.\u001b[39;49m\u001b[43moutputs\u001b[49m\u001b[43m]\u001b[49m\u001b[43m,\u001b[49m\n\u001b[1;32m    452\u001b[0m \u001b[43m    \u001b[49m\u001b[43mparallel_iterations\u001b[49m\u001b[38;5;241;43m=\u001b[39;49m\u001b[43mparallel_iterations\u001b[49m\u001b[43m,\u001b[49m\n\u001b[1;32m    453\u001b[0m \u001b[43m    \u001b[49m\u001b[43mname\u001b[49m\u001b[38;5;241;43m=\u001b[39;49m\u001b[38;5;124;43m\"\u001b[39;49m\u001b[38;5;132;43;01m%s\u001b[39;49;00m\u001b[38;5;124;43m_grad\u001b[39;49m\u001b[38;5;124;43m\"\u001b[39;49m\u001b[43m \u001b[49m\u001b[38;5;241;43m%\u001b[39;49m\u001b[43m \u001b[49m\u001b[43mwhile_op\u001b[49m\u001b[38;5;241;43m.\u001b[39;49m\u001b[43mname\u001b[49m\u001b[43m,\u001b[49m\n\u001b[1;32m    454\u001b[0m \u001b[43m    \u001b[49m\u001b[43mnum_original_outputs\u001b[49m\u001b[38;5;241;43m=\u001b[39;49m\u001b[38;5;28;43mlen\u001b[39;49m\u001b[43m(\u001b[49m\u001b[43mbody_grad_graph\u001b[49m\u001b[38;5;241;43m.\u001b[39;49m\u001b[43moutputs\u001b[49m\u001b[43m)\u001b[49m\u001b[43m,\u001b[49m\n\u001b[1;32m    455\u001b[0m \u001b[43m    \u001b[49m\u001b[43mstateful_parallelism\u001b[49m\u001b[38;5;241;43m=\u001b[39;49m\u001b[43mstateful_parallelism\u001b[49m\u001b[43m)\u001b[49m\n\u001b[1;32m    457\u001b[0m \u001b[38;5;66;03m# See comment in while_loop.\u001b[39;00m\n\u001b[1;32m    458\u001b[0m outputs \u001b[38;5;241m=\u001b[39m [array_ops\u001b[38;5;241m.\u001b[39midentity(t) \u001b[38;5;28;01mfor\u001b[39;00m t \u001b[38;5;129;01min\u001b[39;00m outputs]\n",
      "File \u001b[0;32m~/anaconda3/envs/tf2/lib/python3.8/site-packages/tensorflow/python/ops/while_v2.py:502\u001b[0m, in \u001b[0;36m_build_while_op\u001b[0;34m(loop_vars, cond_graph, body_graph, output_shapes, parallel_iterations, name, num_original_outputs, stateful_parallelism)\u001b[0m\n\u001b[1;32m    500\u001b[0m   while_op\u001b[38;5;241m.\u001b[39m_body_graph \u001b[38;5;241m=\u001b[39m body_graph\n\u001b[1;32m    501\u001b[0m   \u001b[38;5;28;01mreturn\u001b[39;00m tensors\n\u001b[0;32m--> 502\u001b[0m \u001b[38;5;28;01mreturn\u001b[39;00m \u001b[43mutil\u001b[49m\u001b[38;5;241;43m.\u001b[39;49m\u001b[43mrun_as_function_for_tape_gradients\u001b[49m\u001b[43m(\u001b[49m\u001b[43m_make_op\u001b[49m\u001b[43m,\u001b[49m\u001b[43m \u001b[49m\u001b[43mloop_vars\u001b[49m\u001b[43m)\u001b[49m\n",
      "File \u001b[0;32m~/anaconda3/envs/tf2/lib/python3.8/site-packages/tensorflow/python/ops/control_flow_util_v2.py:380\u001b[0m, in \u001b[0;36mrun_as_function_for_tape_gradients\u001b[0;34m(make_op, inputs)\u001b[0m\n\u001b[1;32m    378\u001b[0m   \u001b[38;5;28;01mreturn\u001b[39;00m results\n\u001b[1;32m    379\u001b[0m \u001b[38;5;28;01melse\u001b[39;00m:\n\u001b[0;32m--> 380\u001b[0m   \u001b[38;5;28;01mreturn\u001b[39;00m \u001b[43mmake_op\u001b[49m\u001b[43m(\u001b[49m\u001b[43minputs\u001b[49m\u001b[43m)\u001b[49m\n",
      "File \u001b[0;32m~/anaconda3/envs/tf2/lib/python3.8/site-packages/tensorflow/python/ops/while_v2.py:480\u001b[0m, in \u001b[0;36m_build_while_op.<locals>._make_op\u001b[0;34m(inputs)\u001b[0m\n\u001b[1;32m    477\u001b[0m \u001b[38;5;28;01mdef\u001b[39;00m \u001b[38;5;21m_make_op\u001b[39m(inputs):\n\u001b[1;32m    478\u001b[0m   while_op, tensors \u001b[38;5;241m=\u001b[39m util\u001b[38;5;241m.\u001b[39mget_op_and_outputs(op_fn(\n\u001b[1;32m    479\u001b[0m       inputs,\n\u001b[0;32m--> 480\u001b[0m       \u001b[43mutil\u001b[49m\u001b[38;5;241;43m.\u001b[39;49m\u001b[43mcreate_new_tf_function\u001b[49m\u001b[43m(\u001b[49m\u001b[43mcond_graph\u001b[49m\u001b[43m)\u001b[49m,\n\u001b[1;32m    481\u001b[0m       util\u001b[38;5;241m.\u001b[39mcreate_new_tf_function(body_graph),\n\u001b[1;32m    482\u001b[0m       output_shapes\u001b[38;5;241m=\u001b[39moutput_shapes,\n\u001b[1;32m    483\u001b[0m       parallel_iterations\u001b[38;5;241m=\u001b[39mparallel_iterations,\n\u001b[1;32m    484\u001b[0m       name\u001b[38;5;241m=\u001b[39mname))\n\u001b[1;32m    485\u001b[0m   _copy_handle_data(body_graph\u001b[38;5;241m.\u001b[39moutputs, tensors)\n\u001b[1;32m    486\u001b[0m   util\u001b[38;5;241m.\u001b[39mmaybe_set_lowering_attr(while_op)\n",
      "File \u001b[0;32m~/anaconda3/envs/tf2/lib/python3.8/site-packages/tensorflow/python/ops/control_flow_util_v2.py:75\u001b[0m, in \u001b[0;36mcreate_new_tf_function\u001b[0;34m(func_graph)\u001b[0m\n\u001b[1;32m     65\u001b[0m \u001b[38;5;124;03m\"\"\"Converts func_graph to a TF_Function and adds it to the current graph.\u001b[39;00m\n\u001b[1;32m     66\u001b[0m \n\u001b[1;32m     67\u001b[0m \u001b[38;5;124;03mArgs:\u001b[39;00m\n\u001b[0;32m   (...)\u001b[0m\n\u001b[1;32m     71\u001b[0m \u001b[38;5;124;03m  The name of the new TF_Function.\u001b[39;00m\n\u001b[1;32m     72\u001b[0m \u001b[38;5;124;03m\"\"\"\u001b[39;00m\n\u001b[1;32m     73\u001b[0m func \u001b[38;5;241m=\u001b[39m function\u001b[38;5;241m.\u001b[39m_EagerDefinedFunction(  \u001b[38;5;66;03m# pylint: disable=protected-access\u001b[39;00m\n\u001b[1;32m     74\u001b[0m     func_graph\u001b[38;5;241m.\u001b[39mname, func_graph, func_graph\u001b[38;5;241m.\u001b[39minputs, func_graph\u001b[38;5;241m.\u001b[39moutputs, {})\n\u001b[0;32m---> 75\u001b[0m \u001b[43mfunc\u001b[49m\u001b[38;5;241;43m.\u001b[39;49m\u001b[43madd_to_graph\u001b[49m\u001b[43m(\u001b[49m\u001b[43mfunc_graph\u001b[49m\u001b[38;5;241;43m.\u001b[39;49m\u001b[43mouter_graph\u001b[49m\u001b[43m)\u001b[49m\n\u001b[1;32m     76\u001b[0m \u001b[38;5;28;01mreturn\u001b[39;00m func_graph\u001b[38;5;241m.\u001b[39mname\n",
      "File \u001b[0;32m~/anaconda3/envs/tf2/lib/python3.8/site-packages/tensorflow/python/eager/function.py:539\u001b[0m, in \u001b[0;36m_EagerDefinedFunction.add_to_graph\u001b[0;34m(self, g)\u001b[0m\n\u001b[1;32m    537\u001b[0m \u001b[38;5;28;01melse\u001b[39;00m:\n\u001b[1;32m    538\u001b[0m   \u001b[38;5;28;01mif\u001b[39;00m \u001b[38;5;129;01mnot\u001b[39;00m g\u001b[38;5;241m.\u001b[39m_is_function(\u001b[38;5;28mself\u001b[39m\u001b[38;5;241m.\u001b[39mname):\n\u001b[0;32m--> 539\u001b[0m     \u001b[43mg\u001b[49m\u001b[38;5;241;43m.\u001b[39;49m\u001b[43m_add_function\u001b[49m\u001b[43m(\u001b[49m\u001b[38;5;28;43mself\u001b[39;49m\u001b[43m)\u001b[49m\n\u001b[1;32m    540\u001b[0m   \u001b[38;5;28;01mfor\u001b[39;00m f \u001b[38;5;129;01min\u001b[39;00m \u001b[38;5;28mself\u001b[39m\u001b[38;5;241m.\u001b[39mgraph\u001b[38;5;241m.\u001b[39m_functions\u001b[38;5;241m.\u001b[39mvalues():\n\u001b[1;32m    541\u001b[0m     \u001b[38;5;28;01mif\u001b[39;00m \u001b[38;5;129;01mnot\u001b[39;00m g\u001b[38;5;241m.\u001b[39m_is_function(f\u001b[38;5;241m.\u001b[39mname):\n",
      "File \u001b[0;32m~/anaconda3/envs/tf2/lib/python3.8/site-packages/tensorflow/python/framework/ops.py:3563\u001b[0m, in \u001b[0;36mGraph._add_function\u001b[0;34m(self, function)\u001b[0m\n\u001b[1;32m   3559\u001b[0m \u001b[38;5;66;03m# Add function to graph\u001b[39;00m\n\u001b[1;32m   3560\u001b[0m \u001b[38;5;66;03m# pylint: disable=protected-access\u001b[39;00m\n\u001b[1;32m   3561\u001b[0m gradient \u001b[38;5;241m=\u001b[39m (\n\u001b[1;32m   3562\u001b[0m     function\u001b[38;5;241m.\u001b[39m_grad_func\u001b[38;5;241m.\u001b[39m_c_func\u001b[38;5;241m.\u001b[39mfunc \u001b[38;5;28;01mif\u001b[39;00m function\u001b[38;5;241m.\u001b[39m_grad_func \u001b[38;5;28;01melse\u001b[39;00m \u001b[38;5;28;01mNone\u001b[39;00m)\n\u001b[0;32m-> 3563\u001b[0m \u001b[43mpywrap_tf_session\u001b[49m\u001b[38;5;241;43m.\u001b[39;49m\u001b[43mTF_GraphCopyFunction\u001b[49m\u001b[43m(\u001b[49m\u001b[38;5;28;43mself\u001b[39;49m\u001b[38;5;241;43m.\u001b[39;49m\u001b[43m_c_graph\u001b[49m\u001b[43m,\u001b[49m\u001b[43m \u001b[49m\u001b[43mfunction\u001b[49m\u001b[38;5;241;43m.\u001b[39;49m\u001b[43m_c_func\u001b[49m\u001b[38;5;241;43m.\u001b[39;49m\u001b[43mfunc\u001b[49m\u001b[43m,\u001b[49m\n\u001b[1;32m   3564\u001b[0m \u001b[43m                                       \u001b[49m\u001b[43mgradient\u001b[49m\u001b[43m)\u001b[49m\n\u001b[1;32m   3565\u001b[0m \u001b[38;5;66;03m# pylint: enable=protected-access\u001b[39;00m\n\u001b[1;32m   3567\u001b[0m \u001b[38;5;28mself\u001b[39m\u001b[38;5;241m.\u001b[39m_functions[compat\u001b[38;5;241m.\u001b[39mas_str(name)] \u001b[38;5;241m=\u001b[39m function\n",
      "\u001b[0;31mKeyboardInterrupt\u001b[0m: "
     ]
    }
   ],
   "source": [
    "fixed_x = [0.3,0.3]\n",
    "fixed_x_12 = np.full((1,2), fixed_x).astype(np.float32)\n",
    "#print(fixed_x_12)\n",
    "\n",
    "@tf.function\n",
    "def cond_prob_scalar(x, z):\n",
    "    #print(f\"x = {x.shape}{x.dtype} {type(x)}  z = {z.shape}{z.dtype} {type(z)}\")\n",
    "    print(f\"x = {x}, z = {z}\")\n",
    "    x_tensor = tf.convert_to_tensor(x, dtype=tf.float32)\n",
    "    z_tensor = tf.cast(tf.reshape(z, (1, 1)), tf.float32)\n",
    "    #return new_model.conditional_prob(x_tensor, z_tensor)\n",
    "    return \n",
    "\n",
    "@make_val_and_grad_fn\n",
    "def neg_cond_prob(z):\n",
    "    output = tf.reduce_sum(-cond_prob_scalar(fixed_x_12, z), axis=-1)\n",
    "    return output\n",
    "\n",
    "@tf.function\n",
    "def neg_cond_prob_with_lbfgs():\n",
    "    return tfp.optimizer.lbfgs_minimize(\n",
    "      neg_cond_prob,\n",
    "      initial_position=tf.constant(start, dtype=tf.float32),\n",
    "      tolerance=tolerance)\n",
    "\n",
    "\n",
    "start = np.array([0.3])\n",
    "tolerance = 1e-1\n",
    "\n",
    "neg_cond_prob(start)\n",
    "\n",
    "results = run(neg_cond_prob_with_lbfgs)"
   ]
  },
  {
   "cell_type": "code",
   "execution_count": 368,
   "id": "1baeb88c",
   "metadata": {
    "scrolled": true
   },
   "outputs": [
    {
     "data": {
      "text/plain": [
       "(<tf.Tensor: shape=(), dtype=float32, numpy=-0.09722404>,\n",
       " <tf.Tensor: shape=(), dtype=float32, numpy=0.0537686>)"
      ]
     },
     "execution_count": 368,
     "metadata": {},
     "output_type": "execute_result"
    }
   ],
   "source": [
    "neg_cond_prob(1)"
   ]
  },
  {
   "cell_type": "code",
   "execution_count": 141,
   "id": "a9ca457d",
   "metadata": {},
   "outputs": [
    {
     "data": {
      "text/plain": [
       "<tf.Tensor: shape=(), dtype=int32, numpy=1>"
      ]
     },
     "execution_count": 141,
     "metadata": {},
     "output_type": "execute_result"
    }
   ],
   "source": [
    "tf.reduce_sum(1)"
   ]
  },
  {
   "cell_type": "code",
   "execution_count": null,
   "id": "63a09a25",
   "metadata": {},
   "outputs": [],
   "source": []
  }
 ],
 "metadata": {
  "kernelspec": {
   "display_name": "Python 3 (ipykernel)",
   "language": "python",
   "name": "python3"
  },
  "language_info": {
   "codemirror_mode": {
    "name": "ipython",
    "version": 3
   },
   "file_extension": ".py",
   "mimetype": "text/x-python",
   "name": "python",
   "nbconvert_exporter": "python",
   "pygments_lexer": "ipython3",
   "version": "3.8.12"
  }
 },
 "nbformat": 4,
 "nbformat_minor": 5
}
