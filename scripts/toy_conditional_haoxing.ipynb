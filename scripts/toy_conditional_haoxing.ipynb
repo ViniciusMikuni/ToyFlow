{
 "cells": [
  {
   "cell_type": "code",
   "execution_count": 1,
   "id": "68682db1",
   "metadata": {},
   "outputs": [],
   "source": [
    "import numpy as np\n",
    "import os,re\n",
    "import sklearn.datasets as skd\n",
    "import tensorflow as tf\n",
    "from tensorflow import keras\n",
    "from tensorflow.keras import layers, Input\n",
    "import time\n",
    "import matplotlib.pyplot as plt\n",
    "\n",
    "import tensorflow_probability as tfp\n",
    "tfb = tfp.bijectors\n",
    "tfd = tfp.distributions"
   ]
  },
  {
   "cell_type": "code",
   "execution_count": 2,
   "id": "ac75421e",
   "metadata": {},
   "outputs": [],
   "source": [
    "class MLP_ODE(keras.Model):\n",
    "    \"\"\"Multi-layer NN ode_fn.\"\"\"\n",
    "    def __init__(self, num_hidden, num_layers, num_output,num_cond=2,name='mlp_ode'):\n",
    "        super(MLP_ODE, self).__init__()\n",
    "        self._num_hidden = num_hidden\n",
    "        self._num_output = num_output\n",
    "        self._num_layers = num_layers\n",
    "        self._num_cond = num_cond\n",
    "        self._modules = []\n",
    "        \n",
    "        #Fully connected layers with tanh activation and linear output\n",
    "        self._modules.append(Input(shape=(1+self._num_output+self._num_cond))) #time is part of the inputs\n",
    "        for _ in range(self._num_layers - 1):\n",
    "            self._modules.append(layers.Dense(self._num_hidden,activation='tanh'))\n",
    "            \n",
    "        self._modules.append(layers.Dense(self._num_output,activation=None))\n",
    "        self._model = keras.Sequential(self._modules)\n",
    "\n",
    "        if self._num_cond > 1:\n",
    "            #In more dimensiona, is useful to feed the conditional distributions after passing through an independent network model\n",
    "            self._cond_model = keras.Sequential(\n",
    "                [\n",
    "                    Input(shape=(self._num_cond)),\n",
    "                    layers.Dense(self._num_hidden,activation='relu'),\n",
    "                    layers.Dense(self._num_cond,activation=None),\n",
    "                ])\n",
    "        \n",
    "    @tf.function\n",
    "    def call(self, t, data,conditional_input=None):\n",
    "        if self._num_cond==1:\n",
    "            #No network for a single feature\n",
    "            cond_transform=tf.cast(conditional_input,dtype=tf.float32)\n",
    "        else:\n",
    "            cond_transform = self._cond_model(conditional_input)\n",
    "            \n",
    "        t = t*tf.ones([data.shape[0],1])\n",
    "        inputs = tf.concat([t, data,cond_transform], -1)\n",
    "        return self._model(inputs)\n",
    "\n",
    "def make_bijector_kwargs(bijector, name_to_kwargs):\n",
    "    #Hack to pass the conditional information through all the bijector layers\n",
    "    if hasattr(bijector, 'bijectors'):\n",
    "        return {b.name: make_bijector_kwargs(b, name_to_kwargs) for b in bijector.bijectors}\n",
    "    else:\n",
    "        for name_regex, kwargs in name_to_kwargs.items():\n",
    "            if re.match(name_regex, bijector.name):\n",
    "                return kwargs\n",
    "    return {}\n",
    "\n",
    "def save_model(model,name=\"ffjord\",checkpoint_dir = '../checkpoints'):\n",
    "    if not os.path.exists(checkpoint_dir):\n",
    "        os.makedirs(checkpoint_dir)\n",
    "    model.save_weights('{}/{}'.format(checkpoint_dir,name,save_format='tf'))\n",
    "\n",
    "def load_model(model,name=\"ffjord\",checkpoint_dir = '../checkpoints'):\n",
    "    model.load_weights('{}/{}'.format(checkpoint_dir,name,save_format='tf')).expect_partial()\n",
    "    \n",
    "        \n",
    "class FFJORD(keras.Model):\n",
    "    def __init__(self, stacked_mlps, batch_size,num_output,trace_type='hutchinson',name='FFJORD'):\n",
    "        super(FFJORD, self).__init__()\n",
    "        self._num_output=num_output\n",
    "        self._batch_size = batch_size \n",
    "        ode_solve_fn = tfp.math.ode.DormandPrince(atol=1e-5).solve\n",
    "        #Gaussian noise to trace solver\n",
    "        if trace_type=='hutchinson':\n",
    "            trace_augmentation_fn = tfb.ffjord.trace_jacobian_hutchinson\n",
    "        elif trace_type == 'exact':\n",
    "            trace_augmentation_fn = tfb.ffjord.trace_jacobian_exact\n",
    "        else:\n",
    "            raise Exception(\"Invalid trace estimator\")\n",
    "        \n",
    "        \n",
    "        bijectors = []\n",
    "        for imlp,mlp in enumerate(stacked_mlps):\n",
    "            ffjord = tfb.FFJORD(\n",
    "                state_time_derivative_fn=mlp,\n",
    "                ode_solve_fn=ode_solve_fn,\n",
    "                trace_augmentation_fn=trace_augmentation_fn,\n",
    "                name='bijector{}'.format(imlp) #Bijectors need to be names to receive conditional inputs\n",
    "            )\n",
    "            bijectors.append(ffjord)\n",
    "\n",
    "        #Reverse the bijector order\n",
    "        self.chain = tfb.Chain(list(reversed(bijectors)))\n",
    "\n",
    "        self.loss_tracker = keras.metrics.Mean(name=\"loss\")\n",
    "        #Determien the base distribution\n",
    "        self.base_distribution = tfp.distributions.MultivariateNormalDiag(\n",
    "            loc=self._num_output*[0.0], scale_diag=self._num_output*[1.0]\n",
    "        )\n",
    "        \n",
    "        self.flow=self.Transform()\n",
    "        self._variables = self.flow.variables\n",
    "        \n",
    "    @property\n",
    "    def metrics(self):\n",
    "        \"\"\"List of the model's metrics.\n",
    "        We make sure the loss tracker is listed as part of `model.metrics`\n",
    "        so that `fit()` and `evaluate()` are able to `reset()` the loss tracker\n",
    "        at the start of each epoch and at the start of an `evaluate()` call.\n",
    "        \"\"\"\n",
    "        return [self.loss_tracker]\n",
    "    \n",
    "    @tf.function\n",
    "    def call(self, inputs, conditional_input=None):\n",
    "        kwargs = make_bijector_kwargs(self.flow.bijector,{'bijector.': {'conditional_input':conditional_input }})\n",
    "        return self.flow.bijector.forward(inputs,**kwargs)\n",
    "        \n",
    "            \n",
    "    def Transform(self):        \n",
    "        return tfd.TransformedDistribution(distribution=self.base_distribution, bijector=self.chain)\n",
    "\n",
    "    \n",
    "    @tf.function\n",
    "    def log_loss(self,_x,_c):\n",
    "        loss = -tf.reduce_mean(self.flow.log_prob(\n",
    "            _x,\n",
    "            bijector_kwargs=make_bijector_kwargs(\n",
    "                self.flow.bijector, {'bijector.': {'conditional_input': _c}})                                      \n",
    "        ))\n",
    "        \n",
    "        return loss\n",
    "    \n",
    "    @tf.function\n",
    "    def conditional_prob(self,_x,_c):\n",
    "        prob = self.flow.prob(\n",
    "            _x,\n",
    "            bijector_kwargs=make_bijector_kwargs(\n",
    "                self.flow.bijector, {'bijector.': {'conditional_input': _c}})                                      \n",
    "        )\n",
    "        \n",
    "        return prob\n",
    "    \n",
    "    @tf.function\n",
    "    def conditional_log_prob(self,_x,_c):\n",
    "        return self.flow.log_prob(\n",
    "            _x,\n",
    "            bijector_kwargs=make_bijector_kwargs(\n",
    "                self.flow.bijector, {'bijector.': {'conditional_input': _c}})                                      \n",
    "        )\n",
    "    \n",
    "    \n",
    "    @tf.function()\n",
    "    def train_step(self, values):\n",
    "        #Full shape needs to be given when using tf.dataset\n",
    "        data = values[:self._batch_size,:self._num_output]\n",
    "        cond = values[:self._batch_size,self._num_output:]\n",
    "        data.set_shape((self._batch_size,self._num_output))\n",
    "        cond.set_shape((self._batch_size,cond.shape[1]))\n",
    "\n",
    "        with tf.GradientTape() as tape:\n",
    "            loss = self.log_loss(data,cond)\n",
    "            \n",
    "        g = tape.gradient(loss, self.trainable_variables)\n",
    "        self.optimizer.apply_gradients(zip(g, self.trainable_variables))\n",
    "        self.loss_tracker.update_state(loss)\n",
    "\n",
    "        return {\"loss\": self.loss_tracker.result()}\n",
    "    \n",
    "    @tf.function\n",
    "    def test_step(self, values):\n",
    "        data = values[:self._batch_size,:self._num_output]\n",
    "        cond = values[:self._batch_size,self._num_output:]\n",
    "        data.set_shape((self._batch_size,self._num_output))\n",
    "        cond.set_shape((self._batch_size,cond.shape[1]))\n",
    "        \n",
    "        loss = self.log_loss(data,cond)\n",
    "        self.loss_tracker.update_state(loss)\n",
    "        return {\"loss\": self.loss_tracker.result()}"
   ]
  },
  {
   "cell_type": "code",
   "execution_count": 56,
   "id": "73c88087",
   "metadata": {
    "scrolled": true
   },
   "outputs": [
    {
     "name": "stdout",
     "output_type": "stream",
     "text": [
      "samples.shape = (8192, 2)\n",
      "constrain.shape = (8192, 1)\n",
      "samples: [[ 0.00692628  0.28796992  1.48802917]\n",
      " [ 0.84394562  1.80059958  0.85374742]\n",
      " [ 0.54851896  3.16586876  1.08164504]\n",
      " ...\n",
      " [-1.19387543  0.85011482 -0.41861077]\n",
      " [-1.13255119 -0.46108142 -0.27919932]\n",
      " [ 1.39584363  1.07478666  0.59343986]]\n",
      "Epoch 1/20\n",
      "32/32 [==============================] - 22s 67ms/step - loss: 2.9463\n",
      "Epoch 2/20\n",
      "32/32 [==============================] - 2s 73ms/step - loss: 2.8747\n",
      "Epoch 3/20\n",
      "32/32 [==============================] - 2s 66ms/step - loss: 2.8636\n",
      "Epoch 4/20\n",
      "32/32 [==============================] - 2s 67ms/step - loss: 2.8632\n",
      "Epoch 5/20\n",
      "32/32 [==============================] - 2s 64ms/step - loss: 2.8615\n",
      "Epoch 6/20\n",
      "32/32 [==============================] - 2s 63ms/step - loss: 2.8602\n",
      "Epoch 7/20\n",
      "32/32 [==============================] - 2s 64ms/step - loss: 2.8538\n",
      "Epoch 8/20\n",
      "32/32 [==============================] - 2s 63ms/step - loss: 2.8524\n",
      "Epoch 9/20\n",
      "32/32 [==============================] - 2s 60ms/step - loss: 2.8568\n",
      "Epoch 10/20\n",
      "32/32 [==============================] - 2s 62ms/step - loss: 2.8520\n",
      "Epoch 11/20\n",
      "32/32 [==============================] - 2s 57ms/step - loss: 2.8537\n",
      "Epoch 12/20\n",
      "32/32 [==============================] - 2s 61ms/step - loss: 2.8524\n",
      "Epoch 13/20\n",
      "32/32 [==============================] - 2s 59ms/step - loss: 2.8576\n",
      "Epoch 14/20\n",
      "32/32 [==============================] - 2s 60ms/step - loss: 2.8559\n",
      "Epoch 15/20\n",
      "32/32 [==============================] - 2s 59ms/step - loss: 2.8550\n",
      "Epoch 16/20\n",
      "32/32 [==============================] - 2s 58ms/step - loss: 2.8576\n",
      "Epoch 17/20\n",
      "32/32 [==============================] - 2s 61ms/step - loss: 2.8523\n",
      "Epoch 18/20\n",
      "32/32 [==============================] - 2s 57ms/step - loss: 2.8495\n",
      "Epoch 19/20\n",
      "32/32 [==============================] - 2s 60ms/step - loss: 2.8531\n",
      "Epoch 20/20\n",
      "32/32 [==============================] - 2s 60ms/step - loss: 2.8518\n"
     ]
    }
   ],
   "source": [
    "LR = 1e-2\n",
    "NUM_EPOCHS = 20\n",
    "STACKED_FFJORDS = 1 #Number of stacked transformations\n",
    "NUM_LAYERS = 8 #Hiddden layers per bijector\n",
    "NUM_OUTPUT = 2 #Output dimension\n",
    "NUM_HIDDEN = 4*NUM_OUTPUT #Hidden layer node size\n",
    "NUM_COND = 1 #Number of conditional dimensions\n",
    "\n",
    "#Target dataset: half moon\n",
    "DATASET_SIZE = 1024 * 8\n",
    "BATCH_SIZE = 256\n",
    "\n",
    "# Generate conditional values from the uniform distribution [0,1]\n",
    "constrain = np.random.uniform(-0.5, 1.5, (DATASET_SIZE,1))\n",
    "\n",
    "# Generate samples from Gaussians centered at the conditional value with std 1\n",
    "samples = np.empty([DATASET_SIZE,2]).astype(np.float32)\n",
    "for i in range(len(constrain)):\n",
    "    samples[i] = np.random.normal(constrain[i], 1, (1,2))\n",
    "\n",
    "print(f\"samples.shape = {samples.shape}\")\n",
    "print(f\"constrain.shape = {constrain.shape}\")\n",
    "    \n",
    "#samples= np.concatenate(\n",
    "#(\n",
    "#    np.random.normal(0.,0.5,(DATASET_SIZE//2,2)),\n",
    "#    np.random.normal(-3.,0.5,(DATASET_SIZE//2,2)),\n",
    "#),0).astype(np.float32)\n",
    "\n",
    "#constrain = np.concatenate(\n",
    "#    (np.ones((DATASET_SIZE//2,1)),np.zeros((DATASET_SIZE//2,1))),0).astype(np.float32)\n",
    "\n",
    "\n",
    "samples = np.concatenate([samples,constrain],-1) #Last dimensions are the conditional values\n",
    "print(f\"samples: {samples}\")\n",
    "\n",
    "#Stack of bijectors \n",
    "stacked_mlps = []\n",
    "for _ in range(STACKED_FFJORDS):\n",
    "    mlp_model = MLP_ODE(NUM_HIDDEN, NUM_LAYERS, NUM_OUTPUT,NUM_COND)\n",
    "    stacked_mlps.append(mlp_model)\n",
    "\n",
    "#Create the model\n",
    "model = FFJORD(stacked_mlps,BATCH_SIZE,NUM_OUTPUT,trace_type='hutchinson')\n",
    "model.compile(optimizer=keras.optimizers.Adam(learning_rate=LR))\n",
    "\n",
    "history = model.fit(\n",
    "    samples,\n",
    "    batch_size=BATCH_SIZE,\n",
    "    epochs=NUM_EPOCHS,\n",
    "    verbose=1,\n",
    ")\n",
    "\n",
    "NSAMPLES = DATASET_SIZE\n",
    "#Sample the learned distribution\n",
    "transformed = model.flow.sample(\n",
    "    NSAMPLES,\n",
    "    bijector_kwargs=make_bijector_kwargs(\n",
    "        model.flow.bijector, {'bijector.': {'conditional_input': constrain}})\n",
    ")\n",
    "\n",
    "transformed_first = model.flow.sample(\n",
    "    NSAMPLES,\n",
    "    bijector_kwargs=make_bijector_kwargs(\n",
    "        model.flow.bijector, {'bijector.': {'conditional_input': np.ones((NSAMPLES,1),dtype=np.float32)}})\n",
    ")\n",
    "\n",
    "transformed_second = model.flow.sample(\n",
    "    NSAMPLES,\n",
    "    bijector_kwargs=make_bijector_kwargs(\n",
    "        model.flow.bijector, {'bijector.': {'conditional_input': np.zeros((NSAMPLES,1),dtype=np.float32)}})\n",
    ")"
   ]
  },
  {
   "cell_type": "code",
   "execution_count": 4,
   "id": "90bbe5d2",
   "metadata": {},
   "outputs": [
    {
     "name": "stdout",
     "output_type": "stream",
     "text": [
      "Number of trainable params: 490\n",
      "Number of nontrainable params: 2.0\n",
      "Number of total params: 492.0\n"
     ]
    }
   ],
   "source": [
    "trainableParams = np.sum([np.prod(v.get_shape()) for v in model.trainable_weights])\n",
    "nonTrainableParams = np.sum([np.prod(v.get_shape()) for v in model.non_trainable_weights])\n",
    "totalParams = trainableParams + nonTrainableParams\n",
    "print(f\"Number of trainable params: {trainableParams}\")\n",
    "print(f\"Number of nontrainable params: {nonTrainableParams}\")\n",
    "print(f\"Number of total params: {totalParams}\")"
   ]
  },
  {
   "cell_type": "code",
   "execution_count": 57,
   "id": "4c061f4f",
   "metadata": {},
   "outputs": [
    {
     "data": {
      "text/plain": [
       "<matplotlib.collections.PathCollection at 0x7fed10218b50>"
      ]
     },
     "execution_count": 57,
     "metadata": {},
     "output_type": "execute_result"
    },
    {
     "data": {
      "image/png": "[encoded data removed]",
      "text/plain": [
       "<Figure size 864x360 with 2 Axes>"
      ]
     },
     "metadata": {
      "needs_background": "light"
     },
     "output_type": "display_data"
    }
   ],
   "source": [
    "#Plotting    \n",
    "fig = plt.figure(figsize=(12, 5))\n",
    "plt.subplot(121)    \n",
    "plt.scatter(transformed[:, 0], transformed[:, 1], color=\"r\")\n",
    "plt.subplot(122)\n",
    "plt.scatter(transformed_first[:, 0], transformed_first[:, 1], color=\"g\")\n",
    "plt.scatter(transformed_second[:, 0], transformed_second[:, 1], color=\"b\")"
   ]
  },
  {
   "cell_type": "code",
   "execution_count": 58,
   "id": "e0884144",
   "metadata": {},
   "outputs": [
    {
     "name": "stdout",
     "output_type": "stream",
     "text": [
      "tf.Tensor([0.08748697], shape=(1,), dtype=float32)\n",
      "tf.Tensor([0.08748697], shape=(1,), dtype=float32)\n",
      "tf.Tensor([0.08748697], shape=(1,), dtype=float32)\n"
     ]
    }
   ],
   "source": [
    "# Saving the model for future inference\n",
    "save_model(model)\n",
    "\n",
    "# Let's create a new model with the same architecture, but with the exact trace estimator\n",
    "new_model = FFJORD(stacked_mlps,BATCH_SIZE,NUM_OUTPUT,trace_type='exact',name='loaded_model')\n",
    "load_model(new_model)\n",
    "\n",
    "# Verify that no fluctuations are involded\n",
    "point = [[0,1]]\n",
    "cond = [[1]]\n",
    "print(new_model.conditional_prob(point,cond))\n",
    "print(new_model.conditional_prob(point,cond))\n",
    "print(new_model.conditional_prob(point,cond))\n",
    "\n",
    "\n",
    "transformed = new_model.flow.sample(\n",
    "    NSAMPLES,\n",
    "    bijector_kwargs=make_bijector_kwargs(\n",
    "        model.flow.bijector, {'bijector.': {'conditional_input': constrain}})\n",
    ")\n",
    "\n",
    "transformed_first = new_model.flow.sample(\n",
    "    NSAMPLES,\n",
    "    bijector_kwargs=make_bijector_kwargs(\n",
    "        model.flow.bijector, {'bijector.': {'conditional_input': np.ones((NSAMPLES,1),dtype=np.float32)}})\n",
    ")\n",
    "\n",
    "transformed_second = new_model.flow.sample(\n",
    "    NSAMPLES,\n",
    "    bijector_kwargs=make_bijector_kwargs(\n",
    "        model.flow.bijector, {'bijector.': {'conditional_input': np.zeros((NSAMPLES,1),dtype=np.float32)}})\n",
    ")\n",
    "\n",
    "#plot_folder = '../plots'\n",
    "#if not os.path.exists(plot_folder):\n",
    "#    os.makedirs(plot_folder)\n",
    "\n",
    "#fig.savefig('{}/new_conditional_gaus.pdf'.format(plot_folder))"
   ]
  },
  {
   "cell_type": "code",
   "execution_count": 59,
   "id": "c0bf1b38",
   "metadata": {},
   "outputs": [
    {
     "data": {
      "text/plain": [
       "<matplotlib.collections.PathCollection at 0x7fed743bdbe0>"
      ]
     },
     "execution_count": 59,
     "metadata": {},
     "output_type": "execute_result"
    },
    {
     "data": {
      "image/png": "[encoded data removed]",
      "text/plain": [
       "<Figure size 864x360 with 2 Axes>"
      ]
     },
     "metadata": {
      "needs_background": "light"
     },
     "output_type": "display_data"
    }
   ],
   "source": [
    "#Plotting with the new model\n",
    "fig_new = plt.figure(figsize=(12, 5))\n",
    "plt.subplot(121)    \n",
    "plt.scatter(transformed[:, 0], transformed[:, 1], color=\"r\")\n",
    "plt.subplot(122)\n",
    "plt.scatter(transformed_first[:, 0], transformed_first[:, 1], color=\"g\")\n",
    "plt.scatter(transformed_second[:, 0], transformed_second[:, 1], color=\"b\")"
   ]
  },
  {
   "cell_type": "code",
   "execution_count": null,
   "id": "73f930bb",
   "metadata": {},
   "outputs": [],
   "source": [
    "# Alternative plotting: joint distribution, conditional value = 1\n",
    "fig = plt.figure(figsize=(8, 9))\n",
    "plt.subplot(311)    \n",
    "plt.scatter(transformed[:, 0], transformed[:, 1], color=\"r\")\n",
    "plt.subplot(312)\n",
    "plt.scatter(transformed_first[:, 0], transformed_first[:, 1], color=\"g\")\n",
    "plt.subplot(313)\n",
    "plt.scatter(transformed_second[:, 0], transformed_second[:, 1], color=\"b\")"
   ]
  },
  {
   "cell_type": "markdown",
   "id": "51299c66",
   "metadata": {},
   "source": [
    "# Maximum likelihood estimate \n",
    "Find the most probable conditional value z for a given data point x.\n",
    "\n",
    "### Math derivation\n",
    "Mathematically, what is the most likely $z$ for point $x=(a,b)$? We know the underlying distribution is a superposition of Gaussians centered at $(z,z)$. So for a point $(a,b)$, the most likely $z$ is such that $|(a,b) - (z,z)|$ is minimized.\n",
    "\n",
    "$$y = -x+c \\implies b = -a + c \\implies c = a+b$$\n",
    "$$y = -x+a+b = x \\implies x = (a+b)/2$$\n",
    "\n",
    "Therefore, the most likely $z$ is $(a+b)/2$ if  $0 \\leq (a+b)/2 \\leq 1$; $0$ if $a+b < 0$; and $1$ if $a+b > 2$.\n",
    "\n",
    "e.g. for $(x,0.5)$, $z = (x+0.5)/2$."
   ]
  },
  {
   "cell_type": "code",
   "execution_count": 8,
   "id": "3a6d7a3f",
   "metadata": {},
   "outputs": [
    {
     "data": {
      "text/plain": [
       "0.75"
      ]
     },
     "execution_count": 8,
     "metadata": {},
     "output_type": "execute_result"
    }
   ],
   "source": [
    "def mle_math(x):\n",
    "    a, b = x\n",
    "    if (a+b)/2 < 0:\n",
    "        return 0\n",
    "    elif (a+b)/2 > 1:\n",
    "        return 1\n",
    "    else:\n",
    "        return (a+b)/2\n",
    "\n",
    "mle_math((0.5,1))"
   ]
  },
  {
   "cell_type": "markdown",
   "id": "01b50669",
   "metadata": {},
   "source": [
    "### The first method is grid search: simply scan over many values of z, and remember the one that gives the highest p(x|z)."
   ]
  },
  {
   "cell_type": "code",
   "execution_count": 9,
   "id": "93277c09",
   "metadata": {
    "scrolled": false
   },
   "outputs": [
    {
     "name": "stdout",
     "output_type": "stream",
     "text": [
      "Random point: [-1.4047155 -1.1938605]\n",
      "Most likely cond value (analytical): 0\n",
      "Most likely cond value (scanning): 0.0\n"
     ]
    }
   ],
   "source": [
    "import time\n",
    "\n",
    "random_index = np.random.randint(DATASET_SIZE)\n",
    "#random_index = 0\n",
    "random_point = transformed[random_index]\n",
    "#print(random_point)\n",
    "\n",
    "N = 100\n",
    "\n",
    "def scanner(point, N):\n",
    "    start = time.time()\n",
    "    points = np.array([point] * (N+1))\n",
    "    zs = np.array([i/N for i in range(N+1)]).reshape((N+1,1))\n",
    "    #print(points, zs)\n",
    "    log_probs = new_model.conditional_log_prob(points, zs)\n",
    "\n",
    "    max_prob = np.amax(log_probs)\n",
    "    max_index = np.argmax(log_probs)\n",
    "\n",
    "    c_max = max_index / N\n",
    "    \n",
    "    end = time.time()\n",
    "    #print(f\"Run time (s): {end-start}\")\n",
    "    return c_max\n",
    "\n",
    "c_max = scanner(random_point, N)\n",
    "c_max_math = mle_math(random_point)\n",
    "print(f\"Random point: {random_point}\")\n",
    "print(f\"Most likely cond value (analytical): {c_max_math}\")\n",
    "print(f\"Most likely cond value (scanning): {c_max}\")"
   ]
  },
  {
   "cell_type": "code",
   "execution_count": 60,
   "id": "328deee6",
   "metadata": {
    "scrolled": true
   },
   "outputs": [
    {
     "data": {
      "text/plain": [
       "[<matplotlib.lines.Line2D at 0x7fed31319c40>]"
      ]
     },
     "execution_count": 60,
     "metadata": {},
     "output_type": "execute_result"
    },
    {
     "data": {
      "image/png": "[encoded data removed]",
      "text/plain": [
       "<Figure size 432x288 with 1 Axes>"
      ]
     },
     "metadata": {
      "needs_background": "light"
     },
     "output_type": "display_data"
    }
   ],
   "source": [
    "N = 500\n",
    "n_points = 100\n",
    "\n",
    "points = np.random.uniform(-0.5, 1.5, (n_points,2)).astype(np.float32)\n",
    "#print(points)\n",
    "\n",
    "c_maxs = []\n",
    "c_max_maths = []\n",
    "\n",
    "for point in points:\n",
    "    c_max = scanner(point, N)\n",
    "    c_max_math = mle_math(point)\n",
    "    c_maxs.append(c_max)\n",
    "    c_max_maths.append(c_max_math)\n",
    "    #if c_max_math<0.1:\n",
    "    #    print(point, c_max, c_max_math)\n",
    "\n",
    "plt.scatter(c_max_maths, c_maxs)\n",
    "plt.plot([0,0.5,1], [0,0.5,1], c='green')"
   ]
  },
  {
   "cell_type": "code",
   "execution_count": null,
   "id": "0a2a1e36",
   "metadata": {},
   "outputs": [],
   "source": [
    "random_point = np.random.uniform(-1, 2, (2,)).astype(np.float32)\n",
    "\n",
    "c_max = scanner(random_point, N)\n",
    "c_max_math = mle_math(random_point)\n",
    "print(f\"Random point: {random_point}\")\n",
    "print(f\"Most likely cond value (analytical): {c_max_math}\")\n",
    "print(f\"Most likely cond value (scanning): {c_max}\")"
   ]
  },
  {
   "cell_type": "markdown",
   "id": "877c8bbc",
   "metadata": {},
   "source": [
    "It looks like there are quite a few points for which the most likely $z$ value should be nonzero, but gets reported as 0 by the scanner. To investigate, let's find one such point, and plot $p(x|z)$ for that point:"
   ]
  },
  {
   "cell_type": "code",
   "execution_count": null,
   "id": "c4f4c196",
   "metadata": {},
   "outputs": [],
   "source": [
    "fixed_x = [0.05526591, 0.10162263]\n",
    "plot_pxz_fixed_x(fixed_x) # This function is defined below"
   ]
  },
  {
   "cell_type": "code",
   "execution_count": null,
   "id": "55fa2293",
   "metadata": {},
   "outputs": [],
   "source": [
    "N = 20\n",
    "coords = np.linspace(0, 1, N+1)\n",
    "ys = np.ones(N+1)\n",
    "points = np.stack((xs, xs), axis=-1).astype(np.float32)\n",
    "\n",
    "c_maxs = np.empty([N+1,N+1])\n",
    "\n",
    "xdata, ydata, zdata = [], [], []\n",
    "\n",
    "for i,x in enumerate(coords):\n",
    "    for j,y in enumerate(coords):\n",
    "        point = tf.constant([x,y], dtype=np.float32)\n",
    "        c_max = scanner(point, N)\n",
    "        c_maxs[i][j] = c_max\n",
    "        xdata.append(x)\n",
    "        ydata.append(y)\n",
    "        zdata.append(c_max)"
   ]
  },
  {
   "cell_type": "code",
   "execution_count": null,
   "id": "501bcd8e",
   "metadata": {},
   "outputs": [],
   "source": [
    "%matplotlib notebook\n",
    "ax = plt.axes(projection='3d')\n",
    "ax.scatter3D(xdata, ydata, zdata)"
   ]
  },
  {
   "cell_type": "code",
   "execution_count": null,
   "id": "76f4883d",
   "metadata": {},
   "outputs": [],
   "source": [
    "from matplotlib import cm\n",
    "plt.scatter(xdata, ydata, c=zdata, cmap=cm.jet)"
   ]
  },
  {
   "cell_type": "markdown",
   "id": "520d43b6",
   "metadata": {},
   "source": [
    "## Step 1: Plot p(x|z) for some z. \n",
    "Verify that we indeed get a normal distribution."
   ]
  },
  {
   "cell_type": "code",
   "execution_count": 11,
   "id": "b2d9dbb1",
   "metadata": {},
   "outputs": [],
   "source": [
    "def plot_pxz_fixed_z(z):\n",
    "    xs = np.linspace(-4,4,101)\n",
    "    xs_2D = np.stack([xs, xs]).T.astype(np.float32)\n",
    "    zs = np.ones((101,1), dtype=np.float32) * z\n",
    "    #print(xs_2D)\n",
    "    #print(xs_2D.shape, zs.shape)\n",
    "    probs = new_model.conditional_prob(xs_2D, zs)\n",
    "    fig_xs_1 = plt.figure(figsize=(7,5))\n",
    "    plt.scatter(xs, probs)"
   ]
  },
  {
   "cell_type": "code",
   "execution_count": 12,
   "id": "13e8a7e3",
   "metadata": {},
   "outputs": [
    {
     "data": {
      "image/png": "[encoded data removed]",
      "text/plain": [
       "<Figure size 504x360 with 1 Axes>"
      ]
     },
     "metadata": {
      "needs_background": "light"
     },
     "output_type": "display_data"
    }
   ],
   "source": [
    "plot_pxz_fixed_z(0.5)"
   ]
  },
  {
   "cell_type": "markdown",
   "id": "174df87d",
   "metadata": {},
   "source": [
    "## Step 2: Compare learned and analytical likelihood.\n",
    "Plot p(x|z) as a function of z for fixed x"
   ]
  },
  {
   "cell_type": "code",
   "execution_count": 13,
   "id": "11a18bd7",
   "metadata": {
    "scrolled": true
   },
   "outputs": [],
   "source": [
    "def plot_pxz_fixed_x(point):\n",
    "    zs = np.linspace(0,1,101).reshape((101,1)).astype(np.float32)\n",
    "    points = np.full((101,2), point).astype(np.float32)\n",
    "    #print(xs.shape, zs.shape)\n",
    "    start = time.time()\n",
    "    neg_probs = -new_model.conditional_prob(points, zs)\n",
    "    end = time.time()\n",
    "    #print(end-start)\n",
    "    fig_zs_1 = plt.figure(figsize=(7,5))\n",
    "    plt.plot(zs, neg_probs, label=\"learned\")\n",
    "    \n",
    "    x, y = point\n",
    "    analytical = [-np.exp(-(x-z)**2/2) * np.exp(-(y-z)**2/2)/(2*np.pi) for z in zs]\n",
    "    plt.plot(zs, analytical, label=\"analytical\", c='orange')\n",
    "    plt.legend()"
   ]
  },
  {
   "cell_type": "code",
   "execution_count": 62,
   "id": "9ab7b592",
   "metadata": {},
   "outputs": [
    {
     "data": {
      "image/png": "[encoded data removed]",
      "text/plain": [
       "<Figure size 504x360 with 1 Axes>"
      ]
     },
     "metadata": {
      "needs_background": "light"
     },
     "output_type": "display_data"
    }
   ],
   "source": [
    "fixed_point = [0.5, 0.9]\n",
    "plot_pxz_fixed_x(fixed_point)"
   ]
  },
  {
   "cell_type": "markdown",
   "id": "c5273833",
   "metadata": {},
   "source": [
    "Below I'm trying out the example from https://www.tensorflow.org/probability/examples/Optimizers_in_TensorFlow_Probability"
   ]
  },
  {
   "cell_type": "code",
   "execution_count": 15,
   "id": "2d02be08",
   "metadata": {},
   "outputs": [],
   "source": [
    "%matplotlib inline\n",
    "\n",
    "\n",
    "import contextlib\n",
    "import functools\n",
    "import os\n",
    "import time\n",
    "\n",
    "import numpy as np\n",
    "import pandas as pd\n",
    "import scipy as sp\n",
    "from six.moves import urllib\n",
    "from sklearn import preprocessing\n",
    "\n",
    "import tensorflow.compat.v2 as tf\n",
    "tf.enable_v2_behavior()\n",
    "\n",
    "import tensorflow_probability as tfp"
   ]
  },
  {
   "cell_type": "code",
   "execution_count": 16,
   "id": "7a584196",
   "metadata": {},
   "outputs": [],
   "source": [
    "CACHE_DIR = os.path.join(os.sep, 'tmp', 'datasets')\n",
    "\n",
    "\n",
    "def make_val_and_grad_fn(value_fn):\n",
    "    @functools.wraps(value_fn)\n",
    "    def val_and_grad(x):\n",
    "        return tfp.math.value_and_gradient(value_fn, x)\n",
    "    return val_and_grad\n",
    "\n",
    "\n",
    "@contextlib.contextmanager\n",
    "def timed_execution():\n",
    "    t0 = time.time()\n",
    "    yield\n",
    "    dt = time.time() - t0\n",
    "    print('Evaluation took: %f seconds' % dt)\n",
    "\n",
    "\n",
    "def np_value(tensor):\n",
    "    \"\"\"Get numpy value out of possibly nested tuple of tensors.\"\"\"\n",
    "    if isinstance(tensor, tuple):\n",
    "        return type(tensor)(*(np_value(t) for t in tensor))\n",
    "    else:\n",
    "        return tensor.numpy()\n",
    "\n",
    "def run(optimizer):\n",
    "    \"\"\"Run an optimizer and measure it's evaluation time.\"\"\"\n",
    "    optimizer()  # Warmup.\n",
    "    with timed_execution():\n",
    "        result = optimizer()\n",
    "    return np_value(result)"
   ]
  },
  {
   "cell_type": "code",
   "execution_count": 55,
   "id": "b7022a97",
   "metadata": {
    "scrolled": false
   },
   "outputs": [
    {
     "name": "stdout",
     "output_type": "stream",
     "text": [
      "Evaluation took: 0.024226 seconds\n",
      "L-BFGS Results\n",
      "Function: quadratic\n",
      "Converged: True\n",
      "Location of the minimum: [1. 1. 1. 1. 1. 1. 1. 1. 1. 1.]\n",
      "Number of iterations: 10\n"
     ]
    }
   ],
   "source": [
    "# Fix numpy seed for reproducibility\n",
    "np.random.seed(12345)\n",
    "\n",
    "# The objective must be supplied as a function that takes a single\n",
    "# (Tensor) argument and returns a tuple. The first component of the\n",
    "# tuple is the value of the objective at the supplied point and the\n",
    "# second value is the gradient at the supplied point. The value must\n",
    "# be a scalar and the gradient must have the same shape as the\n",
    "# supplied argument.\n",
    "\n",
    "# The `make_val_and_grad_fn` decorator helps transforming a function\n",
    "# returning the objective value into one that returns both the gradient\n",
    "# and the value. It also works for both eager and graph mode.\n",
    "\n",
    "dim = 10\n",
    "minimum = np.ones([dim])\n",
    "var = np.ones([dim])*2\n",
    "scales = np.exp(np.random.randn(dim))\n",
    "#scales = np.array([0.001]*dim)\n",
    "\n",
    "@make_val_and_grad_fn\n",
    "def quadratic(x):\n",
    "    res = tf.reduce_sum(scales * (x - minimum) ** 2, axis=-1)\n",
    "    #tf.print(res)\n",
    "    return res\n",
    "\n",
    "\n",
    "# The minimization routine also requires you to supply an initial\n",
    "# starting point for the search. For this example we choose a random\n",
    "# starting point.\n",
    "start = np.random.randn(dim)\n",
    "\n",
    "# Finally an optional argument called tolerance let's you choose the\n",
    "# stopping point of the search. The tolerance specifies the maximum\n",
    "# (supremum) norm of the gradient vector at which the algorithm terminates.\n",
    "# If you don't have a specific need for higher or lower accuracy, leaving\n",
    "# this parameter unspecified (and hence using the default value of 1e-8)\n",
    "# should be good enough.\n",
    "tolerance = 1e-10\n",
    "\n",
    "@tf.function\n",
    "def quadratic_with_lbfgs():\n",
    "    return tfp.optimizer.lbfgs_minimize(\n",
    "      quadratic,\n",
    "      initial_position=tf.constant(start),\n",
    "      tolerance=tolerance)\n",
    "\n",
    "results = run(quadratic_with_lbfgs)\n",
    "\n",
    "# The optimization results contain multiple pieces of information. The most\n",
    "# important fields are: 'converged' and 'position'.\n",
    "# Converged is a boolean scalar tensor. As the name implies, it indicates\n",
    "# whether the norm of the gradient at the final point was within tolerance.\n",
    "# Position is the location of the minimum found. It is important to check\n",
    "# that converged is True before using the value of the position.\n",
    "\n",
    "print('L-BFGS Results')\n",
    "print('Function: quadratic')\n",
    "print('Converged:', results.converged)\n",
    "print('Location of the minimum:', results.position)\n",
    "print('Number of iterations:', results.num_iterations)"
   ]
  },
  {
   "cell_type": "markdown",
   "id": "b7f8fcb0",
   "metadata": {},
   "source": [
    "Let's change things up slightly, and do the same thing to minimize a negative Gaussian."
   ]
  },
  {
   "cell_type": "code",
   "execution_count": 52,
   "id": "f2820aba",
   "metadata": {
    "scrolled": true
   },
   "outputs": [
    {
     "name": "stdout",
     "output_type": "stream",
     "text": [
      "tf.Tensor(\n",
      "[-0.71354399 -0.83115354 -2.37023165 -1.86076079 -0.8607574   0.56014529\n",
      " -1.26593449  0.11982712 -1.06351245  0.33288272], shape=(10,), dtype=float64)\n",
      "Evaluation took: 0.077952 seconds\n",
      "L-BFGS Results\n",
      "Function: neg_gaussian\n",
      "Variance: [1 1 1 1 1 1 1 1 1 1]\n",
      "Converged: True\n",
      "Location of the minimum: [1. 1. 1. 1. 1. 1. 1. 1. 1. 1.]\n",
      "Number of iterations: 28\n"
     ]
    }
   ],
   "source": [
    "dim = 10\n",
    "minimum = np.ones([dim])\n",
    "var = np.array([1] * dim)\n",
    "start = np.random.randn(dim)\n",
    "tolerance = 1e-10\n",
    "\n",
    "print(tf.constant(start))\n",
    "\n",
    "@make_val_and_grad_fn\n",
    "def neg_gaussian(x):\n",
    "    #print(-tf.math.exp(-(x - minimum)**2/var))\n",
    "    res = tf.reduce_sum(-tf.math.exp(-(x - minimum)**2/var), axis=-1)\n",
    "    #tf.print(\"Result:\", res)\n",
    "    return res\n",
    "\n",
    "@tf.function\n",
    "def neg_gaussian_with_lbfgs():\n",
    "    return tfp.optimizer.lbfgs_minimize(\n",
    "      neg_gaussian,\n",
    "      initial_position=tf.constant(start),\n",
    "      tolerance=tolerance)\n",
    "\n",
    "results = run(neg_gaussian_with_lbfgs)\n",
    "\n",
    "print('L-BFGS Results')\n",
    "print('Function: neg_gaussian')\n",
    "print('Variance:', var)\n",
    "print('Converged:', results.converged)\n",
    "print('Location of the minimum:', results.position)\n",
    "print('Number of iterations:', results.num_iterations)"
   ]
  },
  {
   "cell_type": "code",
   "execution_count": null,
   "id": "fe15fb24",
   "metadata": {},
   "outputs": [],
   "source": [
    "@tf.function\n",
    "def neg_gaussian_with_bfgs():\n",
    "    return tfp.optimizer.bfgs_minimize(\n",
    "      neg_gaussian,\n",
    "      initial_position=tf.constant(start),\n",
    "      tolerance=tolerance)\n",
    "\n",
    "results = run(neg_gaussian_with_bfgs)\n",
    "\n",
    "print('BFGS Results')\n",
    "print('Function: neg_gaussian')\n",
    "print('Variance:', var)\n",
    "print('Converged:', results.converged)\n",
    "print('Location of the minimum:', results.position)\n",
    "print('Number of iterations:', results.num_iterations)"
   ]
  },
  {
   "cell_type": "code",
   "execution_count": null,
   "id": "56773adf",
   "metadata": {},
   "outputs": [],
   "source": [
    "x0 = np.zeros([dim])\n",
    "neg_gaussian(x0)"
   ]
  },
  {
   "cell_type": "markdown",
   "id": "9ac8b154",
   "metadata": {},
   "source": [
    "## Finally, let's use the L-BFGS optimizer to minimize the function we care about, $p(x|z)$."
   ]
  },
  {
   "cell_type": "code",
   "execution_count": 64,
   "id": "30e3a787",
   "metadata": {
    "scrolled": true
   },
   "outputs": [
    {
     "name": "stdout",
     "output_type": "stream",
     "text": [
      "Evaluation took: 15.874245405197144 seconds\n",
      "      fun: -0.16682182252407074\n",
      " hess_inv: array([[3.63902099]])\n",
      "      jac: array([0.00920981], dtype=float32)\n",
      "  message: 'Desired error not necessarily achieved due to precision loss.'\n",
      "     nfev: 77\n",
      "      nit: 2\n",
      "     njev: 66\n",
      "   status: 2\n",
      "  success: False\n",
      "        x: array([0.25687693])\n"
     ]
    }
   ],
   "source": [
    "import scipy.optimize\n",
    "\n",
    "fixed_x = [0.3,0.3]\n",
    "fixed_x_12 = np.full((1,2), fixed_x).astype(np.float32)\n",
    "\n",
    "@tf.function\n",
    "def cond_prob_scalar(x, z):\n",
    "    x_tensor = tf.convert_to_tensor(x, dtype=tf.float32)\n",
    "    z_tensor = tf.cast(tf.reshape(z, (1, 1)), tf.float32)\n",
    "    output = new_model.conditional_prob(x_tensor, z_tensor)\n",
    "    #tf.print(\"Output\", output)\n",
    "    return output\n",
    "\n",
    "@make_val_and_grad_fn\n",
    "def neg_cond_prob(z):\n",
    "    #tf.print(\"z:\", z)\n",
    "    output = tf.reduce_sum(-cond_prob_scalar(fixed_x_12, z), axis=-1)\n",
    "    #tf.print(output)\n",
    "    return output\n",
    "\n",
    "def fun(point):\n",
    "    #print(\"eval f at:\", point)\n",
    "    val, deriv = neg_cond_prob(point)\n",
    "    return val.numpy()\n",
    "\n",
    "def fun_deriv(point):\n",
    "    #print(\"eval f' at:\", point)\n",
    "    val, deriv = neg_cond_prob(point)\n",
    "    return deriv.numpy()\n",
    "\n",
    "start = np.array([0.3])\n",
    "\n",
    "start_time = time.time()\n",
    "result = scipy.optimize.minimize(\n",
    "    fun=fun,\n",
    "    x0=start,\n",
    "    method=\"bfgs\",\n",
    "    jac=fun_deriv,\n",
    ")\n",
    "\n",
    "print(f\"Evaluation took: {time.time()-start_time} seconds\")\n",
    "print(result)"
   ]
  },
  {
   "cell_type": "code",
   "execution_count": 63,
   "id": "05a1804d",
   "metadata": {
    "scrolled": true
   },
   "outputs": [
    {
     "data": {
      "image/png": "[encoded data removed]",
      "text/plain": [
       "<Figure size 504x360 with 1 Axes>"
      ]
     },
     "metadata": {
      "needs_background": "light"
     },
     "output_type": "display_data"
    }
   ],
   "source": [
    "fixed_point = [0.3, 0.3]\n",
    "plot_pxz_fixed_x(fixed_point)"
   ]
  },
  {
   "cell_type": "code",
   "execution_count": 65,
   "id": "65f62e7d",
   "metadata": {},
   "outputs": [
    {
     "data": {
      "text/plain": [
       "0.26"
      ]
     },
     "execution_count": 65,
     "metadata": {},
     "output_type": "execute_result"
    }
   ],
   "source": [
    "scanner(tf.constant([0.3,0.3],dtype=tf.float32),100)"
   ]
  },
  {
   "cell_type": "code",
   "execution_count": null,
   "id": "308757be",
   "metadata": {},
   "outputs": [],
   "source": [
    "# OLD: Use optimizer in TensowFlow. I could not get it to work :(\n",
    "fixed_x = [0.3,0.3]\n",
    "fixed_x_12 = np.full((1,2), fixed_x).astype(np.float32)\n",
    "print(fixed_x_12)\n",
    "\n",
    "@tf.function\n",
    "def cond_prob_scalar(x, z):\n",
    "    #print(f\"x = {x.shape}{x.dtype} {type(x)}  z = {z.shape}{z.dtype} {type(z)}\")\n",
    "    #print(f\"x = {x}, z = {z}\")\n",
    "    x_tensor = tf.convert_to_tensor(x, dtype=tf.float32)\n",
    "    z_tensor = tf.cast(tf.reshape(z, (1, 1)), tf.float32)\n",
    "    output = new_model.conditional_prob(x_tensor, z_tensor)\n",
    "    tf.print(\"Output\", output)\n",
    "    return output\n",
    "    #return tf.constant([0.5])\n",
    "\n",
    "@make_val_and_grad_fn\n",
    "def neg_cond_prob(z):\n",
    "    tf.print(\"z:\", z)\n",
    "    output = tf.reduce_sum(-cond_prob_scalar(fixed_x_12, z), axis=-1)\n",
    "    tf.print(output)\n",
    "    return output\n",
    "\n",
    "@tf.function\n",
    "def neg_cond_prob_with_lbfgs():\n",
    "    return tfp.optimizer.lbfgs_minimize(\n",
    "      neg_cond_prob,\n",
    "      initial_position=tf.constant(start, dtype=tf.float32),\n",
    "      tolerance=tolerance)"
   ]
  }
 ],
 "metadata": {
  "kernelspec": {
   "display_name": "Python 3 (ipykernel)",
   "language": "python",
   "name": "python3"
  },
  "language_info": {
   "codemirror_mode": {
    "name": "ipython",
    "version": 3
   },
   "file_extension": ".py",
   "mimetype": "text/x-python",
   "name": "python",
   "nbconvert_exporter": "python",
   "pygments_lexer": "ipython3",
   "version": "3.8.12"
  }
 },
 "nbformat": 4,
 "nbformat_minor": 5
}
